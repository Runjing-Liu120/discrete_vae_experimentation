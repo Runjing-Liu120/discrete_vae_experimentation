{
 "cells": [
  {
   "cell_type": "code",
   "execution_count": 1,
   "metadata": {
    "collapsed": false
   },
   "outputs": [],
   "source": [
    "import numpy as np\n",
    "\n",
    "import matplotlib.pyplot as plt\n",
    "%matplotlib inline  \n",
    "\n",
    "import torch\n",
    "import torch.nn as nn\n",
    "\n",
    "\n",
    "import torch.optim as optim\n",
    "\n",
    "import sys\n",
    "sys.path.insert(0, '../libraries/')\n",
    "\n",
    "import mnist_data_utils \n",
    "import mnist_vae_lib\n",
    "\n",
    "import torchvision.datasets as dset\n",
    "import torchvision.transforms as transforms\n",
    "import torch.nn.functional as F\n",
    "\n",
    "device = torch.device(\"cuda:0\" if torch.cuda.is_available() else \"cpu\")\n"
   ]
  },
  {
   "cell_type": "markdown",
   "metadata": {},
   "source": [
    "# Load data"
   ]
  },
  {
   "cell_type": "code",
   "execution_count": 2,
   "metadata": {
    "collapsed": true
   },
   "outputs": [],
   "source": [
    "data_dir = '../mnist_data/'\n",
    "propn_sample = 0.05"
   ]
  },
  {
   "cell_type": "code",
   "execution_count": 3,
   "metadata": {
    "collapsed": false
   },
   "outputs": [],
   "source": [
    "train_set, test_set = mnist_data_utils.get_mnist_dataset(data_dir, propn_sample)"
   ]
  },
  {
   "cell_type": "code",
   "execution_count": 4,
   "metadata": {
    "collapsed": false
   },
   "outputs": [],
   "source": [
    "batchsize = 12\n",
    "\n",
    "train_loader = torch.utils.data.DataLoader(\n",
    "                 dataset=train_set,\n",
    "                 batch_size=batchsize,\n",
    "                 shuffle=True)\n",
    "\n",
    "test_loader = torch.utils.data.DataLoader(\n",
    "                dataset=test_set,\n",
    "                batch_size=batchsize,\n",
    "                shuffle=False)\n"
   ]
  },
  {
   "cell_type": "code",
   "execution_count": 5,
   "metadata": {
    "collapsed": true
   },
   "outputs": [],
   "source": [
    "for batch_idx, d in enumerate(train_loader):\n",
    "    data_train = d\n",
    "    break\n",
    "    \n",
    "for batch_idx, d in enumerate(test_loader):\n",
    "    data_test = d\n",
    "    break"
   ]
  },
  {
   "cell_type": "code",
   "execution_count": 6,
   "metadata": {
    "collapsed": false
   },
   "outputs": [
    {
     "data": {
      "image/png": "[encoded data removed]",
      "text/plain": [
       "<Figure size 288x288 with 1 Axes>"
      ]
     },
     "metadata": {},
     "output_type": "display_data"
    },
    {
     "data": {
      "image/png": "[encoded data removed]",
      "text/plain": [
       "<Figure size 288x288 with 1 Axes>"
      ]
     },
     "metadata": {},
     "output_type": "display_data"
    },
    {
     "data": {
      "image/png": "[encoded data removed]",
      "text/plain": [
       "<Figure size 288x288 with 1 Axes>"
      ]
     },
     "metadata": {},
     "output_type": "display_data"
    },
    {
     "data": {
      "image/png": "[encoded data removed]",
      "text/plain": [
       "<Figure size 288x288 with 1 Axes>"
      ]
     },
     "metadata": {},
     "output_type": "display_data"
    },
    {
     "data": {
      "image/png": "[encoded data removed]",
      "text/plain": [
       "<Figure size 288x288 with 1 Axes>"
      ]
     },
     "metadata": {},
     "output_type": "display_data"
    }
   ],
   "source": [
    "for i in range(5): \n",
    "    plt.matshow(data_train['image'][i, :, :])"
   ]
  },
  {
   "cell_type": "markdown",
   "metadata": {},
   "source": [
    "# Define VAE"
   ]
  },
  {
   "cell_type": "code",
   "execution_count": 7,
   "metadata": {
    "collapsed": false
   },
   "outputs": [],
   "source": [
    "vae = mnist_vae_lib.HandwritingVAE()"
   ]
  },
  {
   "cell_type": "code",
   "execution_count": 8,
   "metadata": {
    "collapsed": false
   },
   "outputs": [
    {
     "data": {
      "text/plain": [
       "<bound method Module.parameters of HandwritingVAE(\n",
       "  (encoder): MLPEncoder(\n",
       "    (fc1): Linear(in_features=784, out_features=256, bias=True)\n",
       "    (fc2): Linear(in_features=256, out_features=10, bias=True)\n",
       "    (tanh): Tanh()\n",
       "  )\n",
       "  (decoder): MLPDecoder(\n",
       "    (fc1): Linear(in_features=5, out_features=256, bias=True)\n",
       "    (fc2): Linear(in_features=256, out_features=784, bias=True)\n",
       "    (sigmoid): Sigmoid()\n",
       "    (tanh): Tanh()\n",
       "  )\n",
       ")>"
      ]
     },
     "execution_count": 8,
     "metadata": {},
     "output_type": "execute_result"
    }
   ],
   "source": [
    "vae.parameters"
   ]
  },
  {
   "cell_type": "code",
   "execution_count": 9,
   "metadata": {
    "collapsed": false
   },
   "outputs": [],
   "source": [
    "recon_mean, latent_mean, latent_log_std, latent_params = vae.forward(data_train['image'])"
   ]
  },
  {
   "cell_type": "code",
   "execution_count": 10,
   "metadata": {
    "collapsed": false
   },
   "outputs": [],
   "source": [
    "_ = vae.get_loss(data_train['image'], recon_mean, latent_mean, latent_log_std)"
   ]
  },
  {
   "cell_type": "markdown",
   "metadata": {},
   "source": [
    "# Check training goes through"
   ]
  },
  {
   "cell_type": "code",
   "execution_count": 11,
   "metadata": {
    "collapsed": false
   },
   "outputs": [
    {
     "name": "stdout",
     "output_type": "stream",
     "text": [
      "  * init train recon loss: -550.9089966;\n",
      "  * init test recon loss: -550.8119507;\n",
      "[1] unlabeled_loss: -10539.51367  \t[3.6 seconds]\n",
      "[2] unlabeled_loss: -12465.96094  \t[3.0 seconds]\n",
      "  * train recon loss: -12472.56836;\n",
      "  * test recon loss: -12460.01367;\n",
      "writing the parameters to ./test_epoch2\n",
      "\n",
      "[3] unlabeled_loss: -12469.68262  \t[2.8 seconds]\n",
      "[4] unlabeled_loss: -12474.26465  \t[3.1 seconds]\n",
      "  * train recon loss: -12471.37793;\n",
      "  * test recon loss: -12450.46875;\n",
      "writing the parameters to ./test_epoch4\n",
      "\n",
      "[5] unlabeled_loss: -12465.55176  \t[3.0 seconds]\n",
      "writing the parameters to ./test_final\n",
      "\n"
     ]
    }
   ],
   "source": [
    "vae.train_vae(train_loader, test_loader,\n",
    "                outfile = './test',\n",
    "                n_epoch = 5, print_every = 2, save_every = 2)"
   ]
  }
 ],
 "metadata": {
  "kernelspec": {
   "display_name": "Python (pytorch_04)",
   "language": "python",
   "name": "pytorch_update"
  },
  "language_info": {
   "codemirror_mode": {
    "name": "ipython",
    "version": 3
   },
   "file_extension": ".py",
   "mimetype": "text/x-python",
   "name": "python",
   "nbconvert_exporter": "python",
   "pygments_lexer": "ipython3",
   "version": "3.6.5"
  }
 },
 "nbformat": 4,
 "nbformat_minor": 2
}
