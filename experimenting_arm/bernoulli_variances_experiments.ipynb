{
 "cells": [
  {
   "cell_type": "markdown",
   "metadata": {},
   "source": [
    "In this notebook, we examine with the variances of the gradient estimators described in experimenting_arm.ipynb"
   ]
  },
  {
   "cell_type": "code",
   "execution_count": 1,
   "metadata": {
    "collapsed": false
   },
   "outputs": [],
   "source": [
    "import numpy as np\n",
    "\n",
    "import matplotlib.pyplot as plt\n",
    "%matplotlib inline  \n",
    "\n",
    "import torch\n",
    "import torch.nn as nn\n",
    "\n",
    "import arm_experiments_lib as arm_lib\n",
    "\n",
    "import torch.optim as optim\n",
    "\n",
    "from copy import deepcopy\n",
    "\n",
    "from torch.distributions import Categorical\n",
    "\n",
    "import itertools"
   ]
  },
  {
   "cell_type": "code",
   "execution_count": 2,
   "metadata": {
    "collapsed": false
   },
   "outputs": [],
   "source": [
    "softmax = nn.Softmax(dim = 0)\n",
    "\n",
    "sigmoid = nn.Sigmoid()"
   ]
  },
  {
   "cell_type": "code",
   "execution_count": 3,
   "metadata": {
    "collapsed": true
   },
   "outputs": [],
   "source": [
    "np.random.seed(454)\n",
    "_ = torch.manual_seed(454)"
   ]
  },
  {
   "cell_type": "code",
   "execution_count": 4,
   "metadata": {
    "collapsed": false
   },
   "outputs": [
    {
     "name": "stdout",
     "output_type": "stream",
     "text": [
      "p0:  tensor([ 0.6000,  0.5100,  0.4800]) \n",
      "\n",
      "sum(p0^2):  tensor(0.8505)\n",
      "sum((1 - p0)^2):  tensor(0.6705) \n",
      "\n",
      "optimal loss:  tensor(0.6705)\n",
      "optimal x:  1\n"
     ]
    }
   ],
   "source": [
    "# fixed parameters\n",
    "d = 3\n",
    "# p0 = torch.rand(d)\n",
    "p0 = torch.Tensor([0.6, 0.51, 0.48])\n",
    "print('p0: ', p0, '\\n')\n",
    "\n",
    "print('sum(p0^2): ', torch.sum(p0**2))\n",
    "print('sum((1 - p0)^2): ', torch.sum((1 - p0)**2), '\\n')\n",
    "\n",
    "# the optima\n",
    "x_optimal = torch.argmin(torch.Tensor([torch.sum(p0**2), torch.sum((1 - p0)**2)]))\n",
    "\n",
    "optimal_loss = torch.min(torch.Tensor([torch.sum(p0**2), torch.sum((1 - p0)**2)]))\n",
    "\n",
    "print('optimal loss: ', optimal_loss)\n",
    "print('optimal x: ', x_optimal.numpy())"
   ]
  },
  {
   "cell_type": "code",
   "execution_count": 6,
   "metadata": {
    "collapsed": false
   },
   "outputs": [
    {
     "name": "stdout",
     "output_type": "stream",
     "text": [
      "init phi0:  tensor([ 5.])\n",
      "init e_b:  tensor([ 0.9933])\n"
     ]
    }
   ],
   "source": [
    "# random init for phi\n",
    "phi0 = torch.Tensor([5.0])\n",
    "phi0.requires_grad_(True)\n",
    "print('init phi0: ', phi0)\n",
    "print('init e_b: ', sigmoid(phi0))"
   ]
  },
  {
   "cell_type": "code",
   "execution_count": 7,
   "metadata": {
    "collapsed": false
   },
   "outputs": [],
   "source": [
    "params = [phi0]\n",
    "optimizer = optim.SGD(params, lr = 1.0)"
   ]
  },
  {
   "cell_type": "markdown",
   "metadata": {
    "collapsed": true
   },
   "source": [
    "# True gradient"
   ]
  },
  {
   "cell_type": "code",
   "execution_count": 8,
   "metadata": {
    "collapsed": true
   },
   "outputs": [],
   "source": [
    "optimizer.zero_grad()"
   ]
  },
  {
   "cell_type": "code",
   "execution_count": 9,
   "metadata": {
    "collapsed": false
   },
   "outputs": [],
   "source": [
    "loss = arm_lib.get_loss(phi0, p0)"
   ]
  },
  {
   "cell_type": "code",
   "execution_count": 10,
   "metadata": {
    "collapsed": false
   },
   "outputs": [],
   "source": [
    "loss.backward()"
   ]
  },
  {
   "cell_type": "code",
   "execution_count": 11,
   "metadata": {
    "collapsed": false
   },
   "outputs": [
    {
     "name": "stdout",
     "output_type": "stream",
     "text": [
      "tensor(1.00000e-03 *\n",
      "       [-1.1966])\n"
     ]
    }
   ],
   "source": [
    "true_grad = deepcopy(phi0.grad)\n",
    "print(true_grad)"
   ]
  },
  {
   "cell_type": "code",
   "execution_count": 12,
   "metadata": {
    "collapsed": false
   },
   "outputs": [],
   "source": [
    "# Function to sample the gradient from a given estimator \n",
    "\n",
    "def sample_gradient(phi0, p0, get_ps_loss, n_samples = 10000):\n",
    "    params = [phi0]\n",
    "    optimizer = optim.SGD(params, lr = 1.0)\n",
    "\n",
    "    grad_array = torch.zeros(n_samples)\n",
    "    for i in range(n_samples): \n",
    "        optimizer.zero_grad()\n",
    "        ps_loss = get_ps_loss(phi0, p0)\n",
    "        ps_loss.backward()\n",
    "        grad_array[i] = phi0.grad\n",
    "    \n",
    "    return grad_array"
   ]
  },
  {
   "cell_type": "markdown",
   "metadata": {
    "collapsed": true
   },
   "source": [
    "# Reinforce gradient"
   ]
  },
  {
   "cell_type": "code",
   "execution_count": 13,
   "metadata": {
    "collapsed": false
   },
   "outputs": [],
   "source": [
    "n_samples = 100000\n",
    "reinforce_grads = sample_gradient(phi0, p0, arm_lib.get_reinforce_ps_loss, n_samples = n_samples)"
   ]
  },
  {
   "cell_type": "code",
   "execution_count": 14,
   "metadata": {
    "collapsed": false,
    "scrolled": true
   },
   "outputs": [
    {
     "name": "stdout",
     "output_type": "stream",
     "text": [
      "true_grad:  [-0.00119665]\n",
      "mean reinforce grad:  -0.0012115771\n",
      "variance:  0.010892796\n",
      "scaled error:  0.0009901272\n"
     ]
    }
   ],
   "source": [
    "print('true_grad: ', true_grad.numpy())\n",
    "print('mean reinforce grad: ', torch.mean(reinforce_grads).numpy())\n",
    "print('variance: ', torch.var(reinforce_grads).numpy())\n",
    "\n",
    "print('scaled error: ', (torch.std(reinforce_grads) / np.sqrt(n_samples) * 3).numpy())"
   ]
  },
  {
   "cell_type": "code",
   "execution_count": 15,
   "metadata": {
    "collapsed": false,
    "scrolled": false
   },
   "outputs": [
    {
     "data": {
      "text/plain": [
       "Text(0.5,0,'reinforce gradients')"
      ]
     },
     "execution_count": 15,
     "metadata": {},
     "output_type": "execute_result"
    },
    {
     "data": {
      "image/png": "[encoded data removed]",
      "text/plain": [
       "<Figure size 432x288 with 1 Axes>"
      ]
     },
     "metadata": {},
     "output_type": "display_data"
    }
   ],
   "source": [
    "plt.hist(reinforce_grads)\n",
    "plt.axvline(x=true_grad, color = 'orange') # true gradient \n",
    "\n",
    "plt.xlabel('reinforce gradients')"
   ]
  },
  {
   "cell_type": "markdown",
   "metadata": {
    "collapsed": true
   },
   "source": [
    "# Arm gradient"
   ]
  },
  {
   "cell_type": "code",
   "execution_count": 16,
   "metadata": {
    "collapsed": false
   },
   "outputs": [],
   "source": [
    "n_samples = 10000\n",
    "arm_grads = sample_gradient(phi0, p0, arm_lib.get_arm_ps_loss, n_samples = n_samples)"
   ]
  },
  {
   "cell_type": "code",
   "execution_count": 17,
   "metadata": {
    "collapsed": false
   },
   "outputs": [
    {
     "name": "stdout",
     "output_type": "stream",
     "text": [
      "true_grad:  [-0.00119665]\n",
      "mean reinforce grad:  -0.0010940947\n",
      "variance:  0.0002048194\n",
      "scaled error:  0.0004293454\n"
     ]
    }
   ],
   "source": [
    "print('true_grad: ', true_grad.numpy())\n",
    "print('mean reinforce grad: ', torch.mean(arm_grads).numpy())\n",
    "print('variance: ', torch.var(arm_grads).numpy())\n",
    "\n",
    "print('scaled error: ', (torch.std(arm_grads) / np.sqrt(n_samples) * 3).numpy())"
   ]
  },
  {
   "cell_type": "code",
   "execution_count": 18,
   "metadata": {
    "collapsed": false
   },
   "outputs": [
    {
     "data": {
      "text/plain": [
       "Text(0.5,0,'arm gradients')"
      ]
     },
     "execution_count": 18,
     "metadata": {},
     "output_type": "execute_result"
    },
    {
     "data": {
      "image/png": "[encoded data removed]",
      "text/plain": [
       "<Figure size 432x288 with 1 Axes>"
      ]
     },
     "metadata": {},
     "output_type": "display_data"
    }
   ],
   "source": [
    "plt.hist(arm_grads)\n",
    "plt.axvline(x=true_grad, color = 'orange') # true gradient \n",
    "\n",
    "plt.xlabel('arm gradients')"
   ]
  },
  {
   "cell_type": "markdown",
   "metadata": {},
   "source": [
    "# Mix reinforce and Classic"
   ]
  },
  {
   "cell_type": "code",
   "execution_count": 19,
   "metadata": {
    "code_folding": [],
    "collapsed": false
   },
   "outputs": [
    {
     "name": "stdout",
     "output_type": "stream",
     "text": [
      "1\n",
      "2\n",
      "3\n",
      "4\n",
      "5\n",
      "6\n",
      "7\n"
     ]
    }
   ],
   "source": [
    "n_samples = 10000\n",
    "\n",
    "mixed_grads_array = torch.zeros((2**d - 1, n_samples))\n",
    "\n",
    "for i in range(1, 2**d): \n",
    "    print(i)\n",
    "    mixed_grads_array[i-1, :] = sample_gradient(phi0, p0, \n",
    "                                  lambda phi0, p0 : arm_lib.get_mixed_reinforce_ps_loss(phi0, p0, i), \n",
    "                                  n_samples = n_samples)"
   ]
  },
  {
   "cell_type": "code",
   "execution_count": 20,
   "metadata": {
    "collapsed": false,
    "scrolled": true
   },
   "outputs": [
    {
     "data": {
      "image/png": "[encoded data removed]",
      "text/plain": [
       "<Figure size 432x288 with 1 Axes>"
      ]
     },
     "metadata": {},
     "output_type": "display_data"
    },
    {
     "data": {
      "image/png": "[encoded data removed]",
      "text/plain": [
       "<Figure size 432x288 with 1 Axes>"
      ]
     },
     "metadata": {},
     "output_type": "display_data"
    },
    {
     "data": {
      "image/png": "[encoded data removed]",
      "text/plain": [
       "<Figure size 432x288 with 1 Axes>"
      ]
     },
     "metadata": {},
     "output_type": "display_data"
    },
    {
     "data": {
      "image/png": "[encoded data removed]",
      "text/plain": [
       "<Figure size 432x288 with 1 Axes>"
      ]
     },
     "metadata": {},
     "output_type": "display_data"
    },
    {
     "data": {
      "image/png": "[encoded data removed]",
      "text/plain": [
       "<Figure size 432x288 with 1 Axes>"
      ]
     },
     "metadata": {},
     "output_type": "display_data"
    },
    {
     "data": {
      "image/png": "[encoded data removed]",
      "text/plain": [
       "<Figure size 432x288 with 1 Axes>"
      ]
     },
     "metadata": {},
     "output_type": "display_data"
    },
    {
     "data": {
      "image/png": "[encoded data removed]",
      "text/plain": [
       "<Figure size 432x288 with 1 Axes>"
      ]
     },
     "metadata": {},
     "output_type": "display_data"
    }
   ],
   "source": [
    "# Lets look at the histogram of the distribution of \n",
    "# the gradient estimates\n",
    "\n",
    "for i in range(1, 2**d): \n",
    "    plt.figure()\n",
    "    plt.hist(mixed_grads_array[i-1, :])\n",
    "    plt.axvline(x=true_grad, color = 'orange') # true gradient \n",
    "    \n",
    "    plt.title('num_reinforced = {}'.format(i))\n",
    "    plt.xlabel('gradients')"
   ]
  },
  {
   "cell_type": "code",
   "execution_count": 21,
   "metadata": {
    "collapsed": false
   },
   "outputs": [
    {
     "data": {
      "text/plain": [
       "Text(0.5,0,'num_reinforced')"
      ]
     },
     "execution_count": 21,
     "metadata": {},
     "output_type": "execute_result"
    },
    {
     "data": {
      "image/png": "[encoded data removed]",
      "text/plain": [
       "<Figure size 432x288 with 1 Axes>"
      ]
     },
     "metadata": {},
     "output_type": "display_data"
    }
   ],
   "source": [
    "# summarize distribution all on the same plot\n",
    "# Error bars are 3 * st. error of the distribution \n",
    "\n",
    "mixed_grads_means = np.mean(mixed_grads_array.numpy(), axis = 1)\n",
    "mixed_grads_stds = np.std(mixed_grads_array.numpy(), axis = 1)\n",
    "\n",
    "plt.errorbar(np.arange(1, 2**d), \n",
    "             mixed_grads_means,\n",
    "             yerr= mixed_grads_stds * 3 / np.sqrt(n_samples))\n",
    "plt.plot(np.linspace(1, 7), true_grad.numpy() * np.ones(50), '--')\n",
    "\n",
    "plt.ylabel('gradient')\n",
    "plt.xlabel('num_reinforced')"
   ]
  },
  {
   "cell_type": "code",
   "execution_count": 25,
   "metadata": {
    "collapsed": false
   },
   "outputs": [
    {
     "data": {
      "text/plain": [
       "torch.Size([7, 10000])"
      ]
     },
     "execution_count": 25,
     "metadata": {},
     "output_type": "execute_result"
    }
   ],
   "source": [
    "mixed_grads_array.shape"
   ]
  },
  {
   "cell_type": "code",
   "execution_count": 32,
   "metadata": {
    "collapsed": false
   },
   "outputs": [
    {
     "data": {
      "text/plain": [
       "(array([5.000e+00, 8.000e+00, 8.000e+00, 1.400e+01, 2.300e+01, 2.600e+01,\n",
       "        1.300e+01, 9.777e+03, 1.070e+02, 1.900e+01]),\n",
       " array([-0.27650955, -0.24141529, -0.20632103, -0.17122677, -0.1361325 ,\n",
       "        -0.10103824, -0.06594398, -0.03084971,  0.00424455,  0.03933881,\n",
       "         0.07443307]),\n",
       " <a list of 10 Patch objects>)"
      ]
     },
     "execution_count": 32,
     "metadata": {},
     "output_type": "execute_result"
    },
    {
     "data": {
      "image/png": "[encoded data removed]",
      "text/plain": [
       "<Figure size 432x288 with 1 Axes>"
      ]
     },
     "metadata": {},
     "output_type": "display_data"
    }
   ],
   "source": []
  },
  {
   "cell_type": "code",
   "execution_count": 60,
   "metadata": {
    "collapsed": false
   },
   "outputs": [
    {
     "name": "stdout",
     "output_type": "stream",
     "text": [
      "variance of reinforce:  0.010892686\n",
      "variance of arm:  0.00020479891\n",
      "variance of reinforce-classic mix (num_reinforce = 7): 5.7161124e-06\n",
      "variance of reinforce-classic mix (num_reinforce = 6): 3.6374513e-06\n"
     ]
    }
   ],
   "source": [
    "print('variance of reinforce: ', np.var(reinforce_grads.numpy()))\n",
    "print('variance of arm: ', np.var(arm_grads.numpy()))\n",
    "print('variance of reinforce-classic mix (num_reinforce = 7):', np.var(mixed_grads_array[-1, ].numpy()))\n",
    "print('variance of reinforce-classic mix (num_reinforce = 6):', np.var(mixed_grads_array[-2, ].numpy()))\n"
   ]
  },
  {
   "cell_type": "code",
   "execution_count": 61,
   "metadata": {
    "collapsed": false
   },
   "outputs": [
    {
     "data": {
      "image/png": "[encoded data removed]",
      "text/plain": [
       "<Figure size 432x288 with 1 Axes>"
      ]
     },
     "metadata": {},
     "output_type": "display_data"
    }
   ],
   "source": [
    "plt.hist(mixed_grads_array[-1, ].numpy()); \n",
    "plt.title('reinforce-classic mix: num_reinforce = 7'); "
   ]
  },
  {
   "cell_type": "code",
   "execution_count": 52,
   "metadata": {
    "collapsed": false
   },
   "outputs": [
    {
     "data": {
      "image/png": "[encoded data removed]",
      "text/plain": [
       "<Figure size 432x288 with 1 Axes>"
      ]
     },
     "metadata": {},
     "output_type": "display_data"
    }
   ],
   "source": [
    "plt.hist(arm_grads.numpy()); \n",
    "plt.title('arm gradients'); "
   ]
  },
  {
   "cell_type": "code",
   "execution_count": 55,
   "metadata": {
    "collapsed": false
   },
   "outputs": [
    {
     "data": {
      "image/png": "[encoded data removed]",
      "text/plain": [
       "<Figure size 432x288 with 1 Axes>"
      ]
     },
     "metadata": {},
     "output_type": "display_data"
    }
   ],
   "source": [
    "plt.hist(reinforce_grads.numpy()); \n",
    "plt.title('reinforce gradients'); "
   ]
  }
 ],
 "metadata": {
  "kernelspec": {
   "display_name": "Python (pytorch_04)",
   "language": "python",
   "name": "pytorch_update"
  },
  "language_info": {
   "codemirror_mode": {
    "name": "ipython",
    "version": 3
   },
   "file_extension": ".py",
   "mimetype": "text/x-python",
   "name": "python",
   "nbconvert_exporter": "python",
   "pygments_lexer": "ipython3",
   "version": "3.6.5"
  }
 },
 "nbformat": 4,
 "nbformat_minor": 2
}
