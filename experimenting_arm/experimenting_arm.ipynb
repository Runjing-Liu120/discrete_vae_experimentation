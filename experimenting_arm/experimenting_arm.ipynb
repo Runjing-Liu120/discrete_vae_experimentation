{
 "cells": [
  {
   "cell_type": "code",
   "execution_count": 1,
   "metadata": {
    "collapsed": false
   },
   "outputs": [],
   "source": [
    "import numpy as np\n",
    "\n",
    "import matplotlib.pyplot as plt\n",
    "%matplotlib inline  \n",
    "\n",
    "import torch\n",
    "import torch.nn as nn\n",
    "\n",
    "import arm_experiments_lib as arm_lib\n",
    "\n",
    "import torch.optim as optim\n",
    "\n",
    "from copy import deepcopy"
   ]
  },
  {
   "cell_type": "code",
   "execution_count": 20,
   "metadata": {
    "collapsed": false
   },
   "outputs": [],
   "source": [
    "softmax = nn.Softmax(dim = 0)\n",
    "\n",
    "sigmoid = nn.Sigmoid()"
   ]
  },
  {
   "cell_type": "code",
   "execution_count": 21,
   "metadata": {
    "collapsed": true
   },
   "outputs": [],
   "source": [
    "np.random.seed(454)\n",
    "_ = torch.manual_seed(454)"
   ]
  },
  {
   "cell_type": "code",
   "execution_count": 4,
   "metadata": {
    "collapsed": false
   },
   "outputs": [
    {
     "name": "stdout",
     "output_type": "stream",
     "text": [
      "p0:  tensor([ 0.5500,  0.5500,  0.5500]) \n",
      "\n",
      "sum(p0^2):  tensor(0.9075)\n",
      "sum((1 - p0)^2):  tensor(0.6075) \n",
      "\n",
      "optimal loss:  tensor(0.6075)\n",
      "optimal x:  [0. 1.]\n"
     ]
    }
   ],
   "source": [
    "# fixed parameters\n",
    "d = 3\n",
    "# p0 = torch.rand(d)\n",
    "p0 = torch.Tensor([0.55, 0.55, 0.55])\n",
    "print('p0: ', p0, '\\n')\n",
    "\n",
    "print('sum(p0^2): ', torch.sum(p0**2))\n",
    "print('sum((1 - p0)^2): ', torch.sum((1 - p0)**2), '\\n')\n",
    "\n",
    "# the optima\n",
    "x_optimal = torch.zeros(2)\n",
    "x_optimal = torch.argmin(torch.Tensor([torch.sum(p0**2), torch.sum((1 - p0)**2)]))\n",
    "x_optimal[which_min] = 1\n",
    "\n",
    "optimal_loss = torch.min(torch.Tensor([torch.sum(p0**2), torch.sum((1 - p0)**2)]))\n",
    "\n",
    "print('optimal loss: ', optimal_loss)\n",
    "print('optimal x: ', x_optimal.numpy())"
   ]
  },
  {
   "cell_type": "markdown",
   "metadata": {},
   "source": [
    "# Define loss"
   ]
  },
  {
   "cell_type": "code",
   "execution_count": 5,
   "metadata": {
    "collapsed": false
   },
   "outputs": [
    {
     "name": "stdout",
     "output_type": "stream",
     "text": [
      "init:  tensor([ 0.1876,  0.1589])\n"
     ]
    }
   ],
   "source": [
    "# random init for phi\n",
    "phi0 = torch.rand(2, requires_grad=True)\n",
    "print('init: ', phi0)"
   ]
  },
  {
   "cell_type": "markdown",
   "metadata": {},
   "source": [
    "# Train with true gradient"
   ]
  },
  {
   "cell_type": "code",
   "execution_count": 6,
   "metadata": {
    "collapsed": false
   },
   "outputs": [],
   "source": [
    "lr = 1.0\n",
    "n_steps = 500\n",
    "loss_array_true_grad, phi_array_true_grad = \\\n",
    "    arm_lib.train_with_true_grad(phi0, p0, lr = lr, n_steps = n_steps)"
   ]
  },
  {
   "cell_type": "code",
   "execution_count": 7,
   "metadata": {
    "collapsed": false
   },
   "outputs": [
    {
     "data": {
      "text/plain": [
       "Text(0,0.5,'loss')"
      ]
     },
     "execution_count": 7,
     "metadata": {},
     "output_type": "execute_result"
    },
    {
     "data": {
      "image/png": "[encoded data removed]",
      "text/plain": [
       "<Figure size 432x288 with 1 Axes>"
      ]
     },
     "metadata": {},
     "output_type": "display_data"
    }
   ],
   "source": [
    "plt.plot(loss_array_true_grad)\n",
    "plt.plot(optimal_loss.numpy() * np.ones(n_steps), '')\n",
    "\n",
    "plt.xlabel('iteration')\n",
    "plt.ylabel('loss')"
   ]
  },
  {
   "cell_type": "code",
   "execution_count": 8,
   "metadata": {
    "collapsed": false
   },
   "outputs": [
    {
     "name": "stdout",
     "output_type": "stream",
     "text": [
      "phi_final:  [-2.66139054  3.00794148]\n",
      "x_final:  [0.00343831 0.99656169]\n",
      "x_optimal:  [0. 1.]\n"
     ]
    }
   ],
   "source": [
    "print('phi_final: ', phi_array_true_grad[-1, :])\n",
    "print('x_final: ', softmax(torch.from_numpy(phi_array_true_grad[-1, :])).numpy())\n",
    "print('x_optimal: ', x_optimal.numpy())"
   ]
  },
  {
   "cell_type": "markdown",
   "metadata": {},
   "source": [
    "# Train with reinforce gradient"
   ]
  },
  {
   "cell_type": "code",
   "execution_count": 9,
   "metadata": {
    "collapsed": false
   },
   "outputs": [],
   "source": [
    "lr = 1e-4 # Note the decayed learning rate\n",
    "n_steps = 20\n",
    "loss_array_reinforce, phi_array_reinforce = \\\n",
    "    arm_lib.train_with_reinforce_grad(phi0, p0, lr = lr, n_steps = n_steps)"
   ]
  },
  {
   "cell_type": "code",
   "execution_count": 10,
   "metadata": {
    "collapsed": false
   },
   "outputs": [
    {
     "data": {
      "text/plain": [
       "Text(0,0.5,'loss')"
      ]
     },
     "execution_count": 10,
     "metadata": {},
     "output_type": "execute_result"
    },
    {
     "data": {
      "image/png": "[encoded data removed]",
      "text/plain": [
       "<Figure size 432x288 with 1 Axes>"
      ]
     },
     "metadata": {},
     "output_type": "display_data"
    }
   ],
   "source": [
    "plt.plot(loss_array_reinforce)\n",
    "plt.plot(optimal_loss.numpy() * np.ones(n_steps), '--')\n",
    "\n",
    "plt.xlabel('iteration')\n",
    "plt.ylabel('loss')"
   ]
  },
  {
   "cell_type": "code",
   "execution_count": 11,
   "metadata": {
    "collapsed": false
   },
   "outputs": [
    {
     "name": "stdout",
     "output_type": "stream",
     "text": [
      "phi_final:  [-11.04973888  11.39629078]\n",
      "x_final:  [1.78571923e-10 1.00000000e+00]\n",
      "x_optimal:  [0. 1.]\n"
     ]
    }
   ],
   "source": [
    "print('phi_final: ', phi_array_reinforce[-1, :])\n",
    "print('x_final: ', softmax(torch.from_numpy(phi_array_reinforce[-1, :])).numpy())\n",
    "print('x_optimal: ', x_optimal.numpy())"
   ]
  },
  {
   "cell_type": "code",
   "execution_count": 12,
   "metadata": {
    "collapsed": true
   },
   "outputs": [],
   "source": [
    "# success of reinforce estimator depends on initial phi0"
   ]
  },
  {
   "cell_type": "code",
   "execution_count": 17,
   "metadata": {
    "collapsed": false
   },
   "outputs": [
    {
     "data": {
      "text/plain": [
       "[<matplotlib.lines.Line2D at 0x7f62ba7c7240>]"
      ]
     },
     "execution_count": 17,
     "metadata": {},
     "output_type": "execute_result"
    },
    {
     "data": {
      "image/png": "[encoded data removed]",
      "text/plain": [
       "<Figure size 432x288 with 1 Axes>"
      ]
     },
     "metadata": {},
     "output_type": "display_data"
    }
   ],
   "source": [
    "for i in range(2): \n",
    "    lr = 1e-4 # Note the decayed learning rate\n",
    "    n_steps = 20\n",
    "    loss_array_reinforce, phi_array_reinforce = \\\n",
    "        arm_lib.train_with_reinforce_grad(phi0, p0, lr = lr, n_steps = n_steps)\n",
    "\n",
    "    plt.plot(loss_array_reinforce, ':')\n",
    "\n",
    "plt.xlabel('iteration')\n",
    "plt.ylabel('loss')\n",
    "\n",
    "plt.plot(optimal_loss.numpy() * np.ones(n_steps), '--')\n"
   ]
  },
  {
   "cell_type": "code",
   "execution_count": 18,
   "metadata": {
    "collapsed": false
   },
   "outputs": [
    {
     "name": "stdout",
     "output_type": "stream",
     "text": [
      "phi_final:  [ 11.67980671 -11.33325481]\n",
      "x_final:  [1.00000000e+00 1.01287154e-10]\n",
      "x_optimal:  [0. 1.]\n"
     ]
    }
   ],
   "source": [
    "print('phi_final: ', phi_array_reinforce[-1, :])\n",
    "print('x_final: ', softmax(torch.from_numpy(phi_array_reinforce[-1, :])).numpy())\n",
    "print('x_optimal: ', x_optimal.numpy())"
   ]
  },
  {
   "cell_type": "code",
   "execution_count": null,
   "metadata": {
    "collapsed": true
   },
   "outputs": [],
   "source": []
  },
  {
   "cell_type": "code",
   "execution_count": null,
   "metadata": {
    "collapsed": true
   },
   "outputs": [],
   "source": []
  }
 ],
 "metadata": {
  "kernelspec": {
   "display_name": "Python (pytorch_04)",
   "language": "python",
   "name": "pytorch_update"
  },
  "language_info": {
   "codemirror_mode": {
    "name": "ipython",
    "version": 3
   },
   "file_extension": ".py",
   "mimetype": "text/x-python",
   "name": "python",
   "nbconvert_exporter": "python",
   "pygments_lexer": "ipython3",
   "version": "3.6.5"
  }
 },
 "nbformat": 4,
 "nbformat_minor": 2
}
