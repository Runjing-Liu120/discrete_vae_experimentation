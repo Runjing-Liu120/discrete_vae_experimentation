{
 "cells": [
  {
   "cell_type": "code",
   "execution_count": 1,
   "metadata": {
    "collapsed": false
   },
   "outputs": [],
   "source": [
    "import numpy as np\n",
    "\n",
    "import matplotlib.pyplot as plt\n",
    "%matplotlib inline  \n",
    "\n",
    "import torch\n",
    "import torch.nn as nn\n",
    "\n",
    "import arm_experiments_lib as arm_lib\n",
    "\n",
    "import torch.optim as optim\n",
    "\n",
    "from copy import deepcopy\n",
    "\n",
    "from torch.distributions import Categorical\n",
    "\n",
    "import itertools"
   ]
  },
  {
   "cell_type": "code",
   "execution_count": 2,
   "metadata": {
    "collapsed": false
   },
   "outputs": [],
   "source": [
    "softmax = nn.Softmax(dim = 0)\n",
    "\n",
    "sigmoid = nn.Sigmoid()"
   ]
  },
  {
   "cell_type": "code",
   "execution_count": 3,
   "metadata": {
    "collapsed": true
   },
   "outputs": [],
   "source": [
    "np.random.seed(454)\n",
    "_ = torch.manual_seed(454)"
   ]
  },
  {
   "cell_type": "code",
   "execution_count": 4,
   "metadata": {
    "collapsed": false
   },
   "outputs": [
    {
     "name": "stdout",
     "output_type": "stream",
     "text": [
      "p0:  tensor([ 0.5100,  0.5100,  0.5100]) \n",
      "\n",
      "sum(p0^2):  tensor(0.7803)\n",
      "sum((1 - p0)^2):  tensor(0.7203) \n",
      "\n",
      "optimal loss:  tensor(0.7203)\n",
      "optimal x:  1\n"
     ]
    }
   ],
   "source": [
    "# fixed parameters\n",
    "d = 3\n",
    "# p0 = torch.rand(d)\n",
    "p0 = torch.Tensor([0.51, 0.51, 0.51])\n",
    "print('p0: ', p0, '\\n')\n",
    "\n",
    "print('sum(p0^2): ', torch.sum(p0**2))\n",
    "print('sum((1 - p0)^2): ', torch.sum((1 - p0)**2), '\\n')\n",
    "\n",
    "# the optima\n",
    "x_optimal = torch.argmin(torch.Tensor([torch.sum(p0**2), torch.sum((1 - p0)**2)]))\n",
    "\n",
    "optimal_loss = torch.min(torch.Tensor([torch.sum(p0**2), torch.sum((1 - p0)**2)]))\n",
    "\n",
    "print('optimal loss: ', optimal_loss)\n",
    "print('optimal x: ', x_optimal.numpy())"
   ]
  },
  {
   "cell_type": "code",
   "execution_count": 5,
   "metadata": {
    "collapsed": false
   },
   "outputs": [
    {
     "name": "stdout",
     "output_type": "stream",
     "text": [
      "init:  tensor([ 0.1876])\n"
     ]
    }
   ],
   "source": [
    "# random init for phi\n",
    "phi0 = torch.rand(1, requires_grad=True)\n",
    "phi0.requires_grad_(True)\n",
    "print('init: ', phi0)"
   ]
  },
  {
   "cell_type": "code",
   "execution_count": 6,
   "metadata": {
    "collapsed": false
   },
   "outputs": [],
   "source": [
    "e_b = sigmoid(phi0)"
   ]
  },
  {
   "cell_type": "code",
   "execution_count": 7,
   "metadata": {
    "collapsed": false
   },
   "outputs": [],
   "source": [
    "probs, draw_array = arm_lib.get_all_probs(e_b, d)"
   ]
  },
  {
   "cell_type": "code",
   "execution_count": 8,
   "metadata": {
    "collapsed": false
   },
   "outputs": [
    {
     "data": {
      "text/plain": [
       "[tensor([ 0.,  0.,  0.]),\n",
       " tensor([ 0.,  0.,  1.]),\n",
       " tensor([ 0.,  1.,  0.]),\n",
       " tensor([ 0.,  1.,  1.]),\n",
       " tensor([ 1.,  0.,  0.]),\n",
       " tensor([ 1.,  0.,  1.]),\n",
       " tensor([ 1.,  1.,  0.]),\n",
       " tensor([ 1.,  1.,  1.])]"
      ]
     },
     "execution_count": 8,
     "metadata": {},
     "output_type": "execute_result"
    }
   ],
   "source": [
    "draw_array"
   ]
  },
  {
   "cell_type": "code",
   "execution_count": 9,
   "metadata": {
    "collapsed": false
   },
   "outputs": [
    {
     "data": {
      "text/plain": [
       "tensor([ 0.0931,  0.1123,  0.1123,  0.1355,  0.1123,  0.1355,  0.1355,\n",
       "         0.1635])"
      ]
     },
     "execution_count": 9,
     "metadata": {},
     "output_type": "execute_result"
    }
   ],
   "source": [
    "probs"
   ]
  },
  {
   "cell_type": "code",
   "execution_count": 10,
   "metadata": {
    "collapsed": false
   },
   "outputs": [
    {
     "name": "stdout",
     "output_type": "stream",
     "text": [
      "tensor(1.00000e-02 *\n",
      "       [ 9.3105])\n",
      "tensor([ 0.1123])\n",
      "tensor([ 0.1355])\n",
      "tensor([ 0.1635])\n"
     ]
    }
   ],
   "source": [
    "for i in range(d + 1): \n",
    "    print(e_b**i * (1 - e_b)**(d - i))"
   ]
  },
  {
   "cell_type": "code",
   "execution_count": 11,
   "metadata": {
    "collapsed": false
   },
   "outputs": [],
   "source": [
    "losses_array = arm_lib.get_losses_from_draw_array(draw_array, p0)"
   ]
  },
  {
   "cell_type": "code",
   "execution_count": 12,
   "metadata": {
    "collapsed": false
   },
   "outputs": [
    {
     "data": {
      "text/plain": [
       "tensor([ 0.7803,  0.7603,  0.7603,  0.7403,  0.7603,  0.7403,  0.7403,\n",
       "         0.7203])"
      ]
     },
     "execution_count": 12,
     "metadata": {},
     "output_type": "execute_result"
    }
   ],
   "source": [
    "losses_array"
   ]
  },
  {
   "cell_type": "code",
   "execution_count": 13,
   "metadata": {
    "collapsed": false
   },
   "outputs": [],
   "source": [
    "# get probabilities for all 2^d combinations\n",
    "probs, draw_array = arm_lib.get_all_probs(e_b, d)\n",
    "\n",
    "# get losses for all 2^d combinations\n",
    "losses_array = arm_lib.get_losses_from_draw_array(draw_array, p0)"
   ]
  },
  {
   "cell_type": "code",
   "execution_count": 14,
   "metadata": {
    "collapsed": false
   },
   "outputs": [
    {
     "name": "stdout",
     "output_type": "stream",
     "text": [
      "tensor([ 0.0931,  0.1123,  0.1123,  0.1355,  0.1123,  0.1355,  0.1355,\n",
      "         0.1635])\n"
     ]
    }
   ],
   "source": [
    "print(probs)"
   ]
  },
  {
   "cell_type": "code",
   "execution_count": 21,
   "metadata": {
    "collapsed": true
   },
   "outputs": [],
   "source": [
    "num_reinforced = 2"
   ]
  },
  {
   "cell_type": "code",
   "execution_count": 22,
   "metadata": {
    "collapsed": false
   },
   "outputs": [
    {
     "name": "stdout",
     "output_type": "stream",
     "text": [
      "tensor([ 0,  2])\n",
      "tensor([ 1,  3,  4,  5,  6,  7])\n"
     ]
    }
   ],
   "source": [
    "# sample from conditional probabiltiies\n",
    "z_sample, sampled_z_domain, sampled_weight, \\\n",
    "        unsampled_z_domain, unsampled_weight = \\\n",
    "            arm_lib.sample_class_weights(probs, num_reinforced)\n",
    "\n",
    "print(sampled_z_domain)\n",
    "print(unsampled_z_domain)"
   ]
  },
  {
   "cell_type": "markdown",
   "metadata": {},
   "source": [
    "# Testing for sample class_weights function"
   ]
  },
  {
   "cell_type": "code",
   "execution_count": 23,
   "metadata": {
    "collapsed": true
   },
   "outputs": [],
   "source": [
    "probs = torch.Tensor([0.1, 0.4, 0.3, 0.05, 0.15])\n",
    "num_reinforced = 2"
   ]
  },
  {
   "cell_type": "code",
   "execution_count": 24,
   "metadata": {
    "collapsed": false
   },
   "outputs": [],
   "source": [
    "# sample from conditional probabiltiies\n",
    "z_sample, sampled_z_domain, sampled_weight, \\\n",
    "        unsampled_z_domain, unsampled_weight = \\\n",
    "            arm_lib.sample_class_weights(probs, num_reinforced)"
   ]
  },
  {
   "cell_type": "code",
   "execution_count": 25,
   "metadata": {
    "collapsed": false
   },
   "outputs": [
    {
     "name": "stdout",
     "output_type": "stream",
     "text": [
      "tensor([ 3,  0])\n",
      "tensor([ 1,  2,  4])\n"
     ]
    }
   ],
   "source": [
    "print(sampled_z_domain)\n",
    "print(unsampled_z_domain)"
   ]
  },
  {
   "cell_type": "code",
   "execution_count": 26,
   "metadata": {
    "collapsed": false
   },
   "outputs": [
    {
     "name": "stdout",
     "output_type": "stream",
     "text": [
      "tensor([ 0.0500,  0.1000])\n",
      "tensor([ 0.4000,  0.3000,  0.1500])\n"
     ]
    }
   ],
   "source": [
    "print(sampled_weight)\n",
    "print(unsampled_weight)"
   ]
  },
  {
   "cell_type": "code",
   "execution_count": 27,
   "metadata": {
    "collapsed": false
   },
   "outputs": [],
   "source": [
    "z_sample_array = np.zeros(10000)\n",
    "for i in range(len(z_sample_array)): \n",
    "    z_sample = arm_lib.sample_class_weights(probs, num_reinforced)[0]\n",
    "    z_sample_array[i] = z_sample"
   ]
  },
  {
   "cell_type": "code",
   "execution_count": 28,
   "metadata": {
    "collapsed": false
   },
   "outputs": [],
   "source": [
    "propn0 = np.sum(z_sample_array == 0) / len(z_sample_array)\n",
    "propn3 = np.sum(z_sample_array == 3) / len(z_sample_array)\n",
    "propn4 = np.sum(z_sample_array == 4) / len(z_sample_array)"
   ]
  },
  {
   "cell_type": "code",
   "execution_count": 29,
   "metadata": {
    "collapsed": false
   },
   "outputs": [
    {
     "name": "stdout",
     "output_type": "stream",
     "text": [
      "0.6686\n",
      "0.3314\n",
      "0.0\n"
     ]
    }
   ],
   "source": [
    "print(propn0) \n",
    "print(propn3)\n",
    "print(propn4)"
   ]
  },
  {
   "cell_type": "code",
   "execution_count": null,
   "metadata": {
    "collapsed": true
   },
   "outputs": [],
   "source": []
  }
 ],
 "metadata": {
  "kernelspec": {
   "display_name": "Python (pytorch_04)",
   "language": "python",
   "name": "pytorch_update"
  },
  "language_info": {
   "codemirror_mode": {
    "name": "ipython",
    "version": 3
   },
   "file_extension": ".py",
   "mimetype": "text/x-python",
   "name": "python",
   "nbconvert_exporter": "python",
   "pygments_lexer": "ipython3",
   "version": "3.6.5"
  }
 },
 "nbformat": 4,
 "nbformat_minor": 2
}
