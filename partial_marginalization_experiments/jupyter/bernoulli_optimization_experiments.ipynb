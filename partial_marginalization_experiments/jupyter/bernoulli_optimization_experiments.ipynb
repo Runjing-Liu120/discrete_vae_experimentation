{
 "cells": [
  {
   "cell_type": "code",
   "execution_count": 1,
   "metadata": {
    "collapsed": false
   },
   "outputs": [],
   "source": [
    "import numpy as np\n",
    "\n",
    "import matplotlib.pyplot as plt\n",
    "%matplotlib inline  \n",
    "\n",
    "import torch\n",
    "import torch.nn as nn\n",
    "\n",
    "import torch.optim as optim\n",
    "\n",
    "from copy import deepcopy\n",
    "\n",
    "from torch.distributions import Categorical\n",
    "\n",
    "import itertools\n",
    "\n",
    "import sys\n",
    "sys.path.insert(0, './../libraries/')\n",
    "\n",
    "import partial_marginalization_lib as pm_lib\n",
    "import bernoulli_experiments_lib as bern_lib"
   ]
  },
  {
   "cell_type": "code",
   "execution_count": 2,
   "metadata": {
    "collapsed": false
   },
   "outputs": [],
   "source": [
    "softmax = nn.Softmax(dim = 0)\n",
    "\n",
    "sigmoid = nn.Sigmoid()"
   ]
  },
  {
   "cell_type": "code",
   "execution_count": 3,
   "metadata": {
    "collapsed": true
   },
   "outputs": [],
   "source": [
    "import torch"
   ]
  },
  {
   "cell_type": "code",
   "execution_count": 4,
   "metadata": {
    "collapsed": true
   },
   "outputs": [],
   "source": [
    "np.random.seed(4524)\n",
    "_ = torch.manual_seed(4524)"
   ]
  },
  {
   "cell_type": "markdown",
   "metadata": {},
   "source": [
    "We are interested in minimizing an objective of the form \n",
    "\\begin{align}\n",
    "E_{q_\\eta(z)}[f(z)]\n",
    "\\end{align}\n",
    "where $z$ is a discrete random variable, so the re-parametrization trick does not apply. \n",
    "\n",
    "We consider a simple experiment, and examine the performance of REINFORCE, ARM, and a new proposed method. \n"
   ]
  },
  {
   "cell_type": "markdown",
   "metadata": {},
   "source": [
    "# The setup: \n",
    "\n",
    "We seek to minimize the loss function: \n",
    "\\begin{align}\n",
    "E_{b} \\|b - p_0\\|^2\n",
    "\\end{align}\n",
    "where $b\\in \\{0, 1\\}^d$, and each element $b_i \\sim^{iid} \\text{Bernoulli}(\\sigma(\\phi))$. We optimize over $\\phi\\in\\mathbb{R}^n$; $\\sigma(\\cdot)$ is the sigmoid function. "
   ]
  },
  {
   "cell_type": "code",
   "execution_count": 5,
   "metadata": {
    "collapsed": false
   },
   "outputs": [
    {
     "name": "stdout",
     "output_type": "stream",
     "text": [
      "p0:  tensor([ 0.6000,  0.5100,  0.4800]) \n",
      "\n",
      "sum(p0^2):  tensor(0.8505)\n",
      "sum((1 - p0)^2):  tensor(0.6705) \n",
      "\n"
     ]
    }
   ],
   "source": [
    "# fixed parameters\n",
    "# p0 = torch.rand(d)\n",
    "p0 = torch.Tensor([0.6, 0.51, 0.48])\n",
    "d = len(p0)\n",
    "print('p0: ', p0, '\\n')\n",
    "\n",
    "print('sum(p0^2): ', torch.sum(p0**2))\n",
    "print('sum((1 - p0)^2): ', torch.sum((1 - p0)**2), '\\n')\n"
   ]
  },
  {
   "cell_type": "markdown",
   "metadata": {},
   "source": [
    "We can re-write the objective as \n",
    "\n",
    "\\begin{align}\n",
    "f(\\phi) = \\sum_{i=1}^d \\Big\\{\\sigma(\\phi) (1 - p_{0i})^2 + (1 - \\sigma(\\phi)) p_{0i}^2\\Big\\}\n",
    "\\end{align}\n",
    "\n",
    "If $\\sum_{i=1}^d(1 - p_{0i})^2 > \\sum_{i=1}^d p_{0i}^2$, then the optimal $\\sigma(\\phi)$ is 1; otherwise, \n",
    "the optimal $\\sigma(\\phi)$ is 0. "
   ]
  },
  {
   "cell_type": "code",
   "execution_count": 6,
   "metadata": {
    "collapsed": false
   },
   "outputs": [
    {
     "name": "stdout",
     "output_type": "stream",
     "text": [
      "optimal loss:  tensor(0.6705)\n",
      "optimal x:  1\n"
     ]
    }
   ],
   "source": [
    "# the optima\n",
    "x_optimal = torch.argmin(torch.Tensor([torch.sum(p0**2), torch.sum((1 - p0)**2)]))\n",
    "\n",
    "optimal_loss = torch.min(torch.Tensor([torch.sum(p0**2), torch.sum((1 - p0)**2)]))\n",
    "\n",
    "print('optimal loss: ', optimal_loss)\n",
    "print('optimal x: ', x_optimal.numpy())"
   ]
  },
  {
   "cell_type": "markdown",
   "metadata": {},
   "source": [
    "# Set up optimization class"
   ]
  },
  {
   "cell_type": "code",
   "execution_count": 7,
   "metadata": {
    "collapsed": false,
    "scrolled": true
   },
   "outputs": [
    {
     "name": "stdout",
     "output_type": "stream",
     "text": [
      "init:  tensor([ 0.])\n"
     ]
    }
   ],
   "source": [
    "# init for phi\n",
    "phi0 = torch.Tensor([0])# torch.rand(1, requires_grad=True)\n",
    "phi0.requires_grad_(True)\n",
    "print('init: ', phi0)"
   ]
  },
  {
   "cell_type": "code",
   "execution_count": 8,
   "metadata": {
    "collapsed": false
   },
   "outputs": [],
   "source": [
    "bern_experiment = bern_lib.BernoulliExperiments(p0, d, deepcopy(phi0))"
   ]
  },
  {
   "cell_type": "code",
   "execution_count": 9,
   "metadata": {
    "collapsed": false
   },
   "outputs": [
    {
     "data": {
      "text/plain": [
       "{'phi': tensor([ 0.])}"
      ]
     },
     "execution_count": 9,
     "metadata": {},
     "output_type": "execute_result"
    }
   ],
   "source": [
    "bern_experiment.var_params"
   ]
  },
  {
   "cell_type": "code",
   "execution_count": 10,
   "metadata": {
    "collapsed": false
   },
   "outputs": [],
   "source": [
    "# This class implements the optimization procedure with REINFORCE\n",
    "# The true gradient can be gotten as a special case of this class\n",
    "obj_class_reinforce = pm_lib.PartialMarginalizationREINFORCE(bern_experiment)"
   ]
  },
  {
   "cell_type": "markdown",
   "metadata": {},
   "source": [
    "# Train with true gradient"
   ]
  },
  {
   "cell_type": "markdown",
   "metadata": {},
   "source": [
    "We can compute the gradient of $f(\\phi)$, and do simple gradient descent. "
   ]
  },
  {
   "cell_type": "code",
   "execution_count": 11,
   "metadata": {
    "collapsed": false
   },
   "outputs": [],
   "source": [
    "lr = 1\n",
    "n_steps = 500\n",
    "\n",
    "phi_opt, loss_array_true_grad = \\\n",
    "    obj_class_reinforce.run_SGD(init_var_params = phi0, \n",
    "                                alpha =  0.0, \n",
    "                                topk = 2**d, \n",
    "                                lr = lr, \n",
    "                                n_steps = n_steps)\n",
    "    \n",
    "# TODO: write a unittest to check that this reduces to the true gradient"
   ]
  },
  {
   "cell_type": "code",
   "execution_count": 12,
   "metadata": {
    "collapsed": false
   },
   "outputs": [
    {
     "data": {
      "text/plain": [
       "Text(0,0.5,'loss')"
      ]
     },
     "execution_count": 12,
     "metadata": {},
     "output_type": "execute_result"
    },
    {
     "data": {
      "image/png": "[encoded data removed]",
      "text/plain": [
       "<Figure size 432x288 with 1 Axes>"
      ]
     },
     "metadata": {},
     "output_type": "display_data"
    }
   ],
   "source": [
    "plt.plot(loss_array_true_grad)\n",
    "\n",
    "# orange line is true optimal loss\n",
    "plt.plot(optimal_loss.numpy() * np.ones(n_steps), '--')\n",
    "\n",
    "plt.xlabel('iteration')\n",
    "plt.ylabel('loss')"
   ]
  },
  {
   "cell_type": "code",
   "execution_count": 13,
   "metadata": {
    "collapsed": false
   },
   "outputs": [],
   "source": [
    "# assert we actually descended at each step\n",
    "for i in range(1, n_steps + 1): \n",
    "    assert (loss_array_true_grad[i] - loss_array_true_grad[i-1]) <= 0"
   ]
  },
  {
   "cell_type": "code",
   "execution_count": 14,
   "metadata": {
    "collapsed": false,
    "scrolled": true
   },
   "outputs": [
    {
     "name": "stdout",
     "output_type": "stream",
     "text": [
      "phi_final:  tensor([ 4.4004])\n",
      "x_final:  [0.98787665]\n",
      "x_optimal:  1\n"
     ]
    }
   ],
   "source": [
    "print('phi_final: ', phi_opt['phi'])\n",
    "print('x_final: ', sigmoid(torch.Tensor(phi_opt['phi'].detach())).numpy())\n",
    "print('x_optimal: ', x_optimal.numpy())"
   ]
  },
  {
   "cell_type": "markdown",
   "metadata": {},
   "source": [
    "# Train with reinforce gradient"
   ]
  },
  {
   "cell_type": "markdown",
   "metadata": {},
   "source": [
    "Alternatively, we could evaluate stochastic gradients. The first that we consider here, is the REINFORCE estimator. \n",
    "\n",
    "We estimate the gradient as \n",
    "\\begin{align}\n",
    "g(\\phi) = \\|b - p_0\\|^2 \\nabla_\\phi \\log P_\\phi(b), \\quad b\\sim P_\\phi(b)\n",
    "\\end{align}\n",
    "\n",
    "where $P_\\phi(b) = \\sigma(\\phi)^{\\sum b} \\cdot (1 - \\sigma(\\phi))^{1 -\\sum b}$, the probability of observing a vector $b$, when its components $b_i$ are drawn iid from $\\text{Bernoulli}(\\sigma(\\phi))$. \n",
    " \n",
    " We expect this gradient to have high variance. "
   ]
  },
  {
   "cell_type": "code",
   "execution_count": 15,
   "metadata": {
    "collapsed": false
   },
   "outputs": [],
   "source": [
    "lr = 1\n",
    "n_steps = 500\n",
    "\n",
    "# loss_array_reinforce, phi_array_reinforce = \\\n",
    "#     arm_lib.run_SGD(phi0, p0, arm_lib.get_reinforce_ps_loss, lr = lr, n_steps = n_steps)\n",
    "\n",
    "phi0 = torch.Tensor([0])\n",
    "phi0.requires_grad_(True)\n",
    "\n",
    "phi_opt_reinforce, loss_array_reinforce = \\\n",
    "        obj_class_reinforce.run_SGD(init_var_params = phi0, \n",
    "                                    alpha =  0.0, \n",
    "                                    topk = 0, \n",
    "                                    lr = lr, \n",
    "                                    n_steps = n_steps)"
   ]
  },
  {
   "cell_type": "code",
   "execution_count": 16,
   "metadata": {
    "collapsed": false,
    "scrolled": true
   },
   "outputs": [
    {
     "data": {
      "text/plain": [
       "Text(0,0.5,'loss')"
      ]
     },
     "execution_count": 16,
     "metadata": {},
     "output_type": "execute_result"
    },
    {
     "data": {
      "image/png": "[encoded data removed]",
      "text/plain": [
       "<Figure size 432x288 with 1 Axes>"
      ]
     },
     "metadata": {},
     "output_type": "display_data"
    }
   ],
   "source": [
    "plt.plot(loss_array_reinforce)\n",
    "plt.plot(optimal_loss.numpy() * np.ones(n_steps), '--')\n",
    "\n",
    "plt.xlabel('iteration')\n",
    "plt.ylabel('loss')"
   ]
  },
  {
   "cell_type": "code",
   "execution_count": 17,
   "metadata": {
    "collapsed": false
   },
   "outputs": [
    {
     "name": "stdout",
     "output_type": "stream",
     "text": [
      "phi_final:  tensor([ 6.3154])\n",
      "x_final:  [0.9981951]\n",
      "x_optimal:  1\n"
     ]
    }
   ],
   "source": [
    "print('phi_final: ', phi_opt_reinforce['phi'])\n",
    "print('x_final: ', sigmoid(torch.Tensor(phi_opt_reinforce['phi'])).detach().numpy())\n",
    "print('x_optimal: ', x_optimal.numpy())"
   ]
  },
  {
   "cell_type": "code",
   "execution_count": 18,
   "metadata": {
    "collapsed": false
   },
   "outputs": [
    {
     "data": {
      "text/plain": [
       "[<matplotlib.lines.Line2D at 0x7f6f825c1b00>]"
      ]
     },
     "execution_count": 18,
     "metadata": {},
     "output_type": "execute_result"
    },
    {
     "data": {
      "image/png": "[encoded data removed]",
      "text/plain": [
       "<Figure size 432x288 with 1 Axes>"
      ]
     },
     "metadata": {},
     "output_type": "display_data"
    }
   ],
   "source": [
    "for i in range(20): \n",
    "    \n",
    "    phi0 = torch.Tensor([0])# torch.rand(1, requires_grad=True)\n",
    "    phi0.requires_grad_(True)\n",
    "\n",
    "    _, loss_array_reinforce = \\\n",
    "        obj_class_reinforce.run_SGD(init_var_params = phi0, \n",
    "                                    alpha =  0.0, \n",
    "                                    topk = 0, \n",
    "                                    lr = lr, \n",
    "                                    n_steps = n_steps)\n",
    "\n",
    "    plt.plot(loss_array_reinforce, ':')\n",
    "\n",
    "plt.xlabel('iteration')\n",
    "plt.ylabel('loss')\n",
    "\n",
    "plt.plot(optimal_loss.numpy() * np.ones(n_steps), '--')\n"
   ]
  },
  {
   "cell_type": "markdown",
   "metadata": {},
   "source": [
    "Indeed, it does not even always converge to the truth. "
   ]
  },
  {
   "cell_type": "markdown",
   "metadata": {},
   "source": [
    "# Partial marginalization"
   ]
  },
  {
   "cell_type": "markdown",
   "metadata": {},
   "source": [
    "This is the method we propose. In general, suppose our loss function is of the form \n",
    "\\begin{align}\n",
    "E_{q_\\eta(z)}[f(z)]\n",
    "\\end{align}\n",
    "and $z\\in\\{0, ..., K\\}$ is discrete. \n",
    "\n",
    "The objective can be written as\n",
    "\\begin{align}\n",
    "E_{q_\\eta(z)}[f(z)] = \\sum_{k = 1}^K q_\\eta(z = k) f(k)\n",
    "\\end{align}\n",
    "\n",
    "But in many cases, $K$ is large (think SBN, for example, were the latent space of dimension $d$ can take $2^d$ distinct values), and evaluating $f(z)$ is expensive. REINFORCE gets around this problem by sampling, only one $z$ at each iteration, but as we saw, it has much too high variance. \n",
    "\n",
    "If we call computing the sum over $z$ and taking gradients the ``classic\" method (as its common in the old VAE) literature, we propose a combination of REINFORCE and this classic method that may potentially have smaller variance. "
   ]
  },
  {
   "cell_type": "markdown",
   "metadata": {},
   "source": [
    "More formally, let $\\mathcal{C}_\\alpha = \\{z : q_\\eta(z) > \\alpha\\}$, the set where $q_\\eta(z)$ has mass greater than some value $\\alpha$, and $1 \\{z\\in \\mathcal{C}_\\alpha\\}$ be the indicator that $z\\in\\mathcal{C}_\\alpha$. We write\n",
    "\n",
    "\\begin{align}\n",
    " E_{q_\\eta(z)}[f(z)] &=\n",
    " E_{q_\\eta(z)}[f(z) 1\\{z \\in \\mathcal{C}_\\alpha\\} + f(z) 1\\{z \\not\\in \\mathcal{C}_\\alpha\\}] \\\\\n",
    "&= \\sum_{z\\in\\mathcal{C}_\\alpha}q_\\eta(z) f(z) + E_{q_\\eta(z)}[f(z)1\\{z \\not\\in \\mathcal{C}_\\alpha\\}]\n",
    "\\end{align}\n",
    "\n",
    "In other words, we sum over the first $k$ largest probabilities. To take the gradient, we use the analytic gradient for the first term; and for the second term we apply the REINFORCE estimator (or any other stochastic gradient estimator). "
   ]
  },
  {
   "cell_type": "markdown",
   "metadata": {},
   "source": [
    "Intuitively, we think this is a good idea because we would expect that the mass of $z$ to be concentrated around a few points -- so we simply sum those out. For the remainder, we use the REINFORCE estimator to compute the gradient of the expectation; note that this expecation is scaled by $q_\\eta(z > k)$, which we said are the small probabilities, so this factor will control the variance. "
   ]
  },
  {
   "cell_type": "markdown",
   "metadata": {},
   "source": [
    "### Lets experiment with the number reinforced"
   ]
  },
  {
   "cell_type": "code",
   "execution_count": 19,
   "metadata": {
    "collapsed": false
   },
   "outputs": [],
   "source": [
    "def get_avg_paths(phi0, obj_class, n_summed, n_trials = 20, n_steps = 500, lr = 1, use_baseline = False): \n",
    "    # Function to run a few trials of SGD and get the average path \n",
    "    \n",
    "    loss_path_all = np.zeros((n_trials, n_steps + 1))\n",
    "    \n",
    "    for i in range(n_trials): \n",
    "        \n",
    "        phi0 = torch.Tensor([0])\n",
    "        phi0.requires_grad_(True)\n",
    "\n",
    "\n",
    "        _, loss_path = \\\n",
    "            obj_class.run_SGD(init_var_params = phi0, \n",
    "                                alpha =  0.0, \n",
    "                                topk = n_summed, \n",
    "                                lr = lr, \n",
    "                                n_steps = n_steps, \n",
    "                                 use_baseline = use_baseline)\n",
    "            \n",
    "        loss_path_all[i, :] = loss_path\n",
    "    \n",
    "    loss_array_avg = np.mean(loss_path_all, axis = 0)\n",
    "    \n",
    "    return loss_array_avg, loss_path_all\n"
   ]
  },
  {
   "cell_type": "code",
   "execution_count": null,
   "metadata": {
    "collapsed": false
   },
   "outputs": [
    {
     "name": "stdout",
     "output_type": "stream",
     "text": [
      "0\n",
      "1\n"
     ]
    }
   ],
   "source": [
    "lr = 1\n",
    "n_steps = 500\n",
    "\n",
    "avg_loss_num_reinforce_array = np.zeros((2**d + 1, n_steps + 1))\n",
    "\n",
    "for i in range(0, 2**d + 1): \n",
    "    print(i)\n",
    "    \n",
    "    avg_loss_array, _ = \\\n",
    "        get_avg_paths(phi0, obj_class_reinforce, n_summed = i, lr = lr, n_steps = n_steps)\n",
    "        \n",
    "    avg_loss_num_reinforce_array[i - 1, :] = avg_loss_array\n",
    "        \n",
    "    plt.plot(avg_loss_array, '-')\n",
    "\n",
    "plt.xlabel('iteration')\n",
    "plt.ylabel('loss')\n",
    "\n",
    "plt.legend(('0', '1', '2', '3', '4', '5', '6', '7', '8'))\n",
    "\n",
    "plt.plot(optimal_loss.numpy() * np.ones(n_steps), '--')\n"
   ]
  },
  {
   "cell_type": "markdown",
   "metadata": {},
   "source": [
    "Now note that for the second term of the partial marginalization procedure, we can choose any stochastic gradient estimator we want. We can try REINFORCE with a control variate"
   ]
  },
  {
   "cell_type": "markdown",
   "metadata": {},
   "source": [
    "# REINFORCE with control variate"
   ]
  },
  {
   "cell_type": "markdown",
   "metadata": {},
   "source": [
    "Recall that our REINFORCE estimator looks like\n",
    "\\begin{align}\n",
    "    f(z)\\nabla_\\eta \\log q_\\eta(z) \\quad z \\sim q_\\eta(z)\n",
    "\\end{align}\n",
    "and this is an unbiased estimator for $\\nabla_\\eta E_{q_\\eta(z)}[f(z)]$. \n",
    "\n",
    "Since $E_{q_\\eta(z)}[\\nabla_\\eta\\log q_\\eta(z)] = 0$, we can subtract any quantity $C$ from $f(z)$, independent of $z$, and \n",
    "\\begin{align}\n",
    "(f(z) - C)\\nabla_\\eta \\log q_\\eta(z) \\quad z \\sim q_\\eta(z)\n",
    "\\end{align}\n",
    "is still an unbiased estimator for the gradient. The goal is to pick a $C$ that reduces the variance of the REINFORCE estimator. "
   ]
  },
  {
   "cell_type": "markdown",
   "metadata": {},
   "source": [
    "One simple choice is to draw a $z' \\sim q_\\eta(z)$ independent from $z$ and evaluate $f(z')$ as our control variate. In this case, our estimator is \n",
    "\n",
    "\\begin{align}\n",
    "    [f(z) - f(z')]\\nabla_\\eta \\log q_\\eta(z) \\quad z, z' \\sim q_\\eta(\\cdot), \\text{ independent}\n",
    "\\end{align}\n"
   ]
  },
  {
   "cell_type": "code",
   "execution_count": null,
   "metadata": {
    "collapsed": true
   },
   "outputs": [],
   "source": [
    "# set up optimization class with control variate REINFORCE\n",
    "# obj_class_reinforce_cv = pm_lib.PartialMarginalizationObjective(\n",
    "#                             f_z = bern_experiment.get_loss_from_draw_i,\n",
    "#                             get_ps_loss_from_sample = bern_experiment.get_sampled_reinforce_cv_ps_loss,\n",
    "#                             var_params = deepcopy(phi0),\n",
    "#                             get_class_weights_from_var_params = bern_experiment.get_bernoulli_prob_vec)"
   ]
  },
  {
   "cell_type": "code",
   "execution_count": null,
   "metadata": {
    "collapsed": false
   },
   "outputs": [],
   "source": [
    "lr = 1\n",
    "n_steps = 500\n",
    "\n",
    "phi0 = torch.Tensor([0])\n",
    "phi0.requires_grad_(True)\n",
    "\n",
    "loss_array_reinforce_bl, phi_array_reinforce_bl = \\\n",
    "        obj_class_reinforce.run_SGD(init_var_params = phi0, \n",
    "                                    alpha =  0.0, \n",
    "                                    topk = 0, \n",
    "                                    lr = lr, \n",
    "                                    n_steps = n_steps, \n",
    "                                   use_baseline = True)"
   ]
  },
  {
   "cell_type": "code",
   "execution_count": null,
   "metadata": {
    "collapsed": false
   },
   "outputs": [],
   "source": [
    "plt.plot(loss_array_reinforce_bl)\n",
    "plt.plot(optimal_loss.numpy() * np.ones(n_steps), '--')\n",
    "\n",
    "plt.xlabel('iteration')\n",
    "plt.ylabel('loss')"
   ]
  },
  {
   "cell_type": "code",
   "execution_count": null,
   "metadata": {
    "collapsed": false
   },
   "outputs": [],
   "source": [
    "print('phi_final: ', loss_array_reinforce_bl[-1])\n",
    "print('x_final: ', sigmoid(torch.Tensor([loss_array_reinforce_bl[-1]])).numpy())\n",
    "print('x_optimal: ', x_optimal.numpy())"
   ]
  },
  {
   "cell_type": "code",
   "execution_count": null,
   "metadata": {
    "collapsed": false
   },
   "outputs": [],
   "source": [
    "for i in range(20):\n",
    "    \n",
    "    phi0 = torch.Tensor([0])\n",
    "    phi0.requires_grad_(True)\n",
    "\n",
    "    loss_array_reinforce_bl, phi_array_reinforce_bl = \\\n",
    "        obj_class_reinforce.run_SGD(init_var_params = phi0, \n",
    "                                    alpha =  0.0, \n",
    "                                    topk = 0, \n",
    "                                    lr = lr, \n",
    "                                    n_steps = n_steps, \n",
    "                                   use_baseline = True)\n",
    "        \n",
    "    plt.plot(loss_array_reinforce_bl, ':')\n",
    "\n",
    "plt.xlabel('iteration')\n",
    "plt.ylabel('loss')\n",
    "\n",
    "plt.plot(optimal_loss.numpy() * np.ones(n_steps), '--')\n"
   ]
  },
  {
   "cell_type": "markdown",
   "metadata": {},
   "source": [
    "The control variate helps, and REINFORCE works a lot better. Does doing partial marginalization help here?"
   ]
  },
  {
   "cell_type": "code",
   "execution_count": null,
   "metadata": {
    "collapsed": false
   },
   "outputs": [],
   "source": [
    "lr = 1\n",
    "n_steps = 500\n",
    "\n",
    "avg_loss_num_reinforce_array = np.zeros((2**d + 1, n_steps + 1))\n",
    "\n",
    "for i in range(0, 2**d + 1): \n",
    "    print(i)\n",
    "    \n",
    "    avg_loss_array, _ = \\\n",
    "        get_avg_paths(phi0, obj_class_reinforce, n_summed = i, lr = lr, n_steps = n_steps, use_baseline = True)\n",
    "        \n",
    "    avg_loss_num_reinforce_array[i - 1, :] = avg_loss_array\n",
    "        \n",
    "    plt.plot(avg_loss_array, '-')\n",
    "\n",
    "plt.xlabel('iteration')\n",
    "plt.ylabel('loss')\n",
    "\n",
    "plt.legend(('0', '1', '2', '3', '4', '5', '6', '7', '8'))\n",
    "\n",
    "plt.plot(optimal_loss.numpy() * np.ones(n_steps), '--')\n"
   ]
  },
  {
   "cell_type": "raw",
   "metadata": {},
   "source": [
    "# Check ARM gradient estimator"
   ]
  },
  {
   "cell_type": "raw",
   "metadata": {},
   "source": [
    "We also implement the ARM gradient estimator, detailed here: https://arxiv.org/pdf/1807.11143.pdf\n",
    "        \n",
    "Equation 8 of the paper suffices for our purposes here. "
   ]
  },
  {
   "cell_type": "raw",
   "metadata": {
    "collapsed": false
   },
   "source": [
    "lr = 1 \n",
    "n_steps = 500\n",
    "loss_array_arm, phi_array_arm = \\\n",
    "    arm_lib.run_SGD(phi0, p0, arm_lib.get_arm_ps_loss, lr = lr, n_steps = n_steps)"
   ]
  },
  {
   "cell_type": "raw",
   "metadata": {
    "collapsed": false
   },
   "source": [
    "plt.plot(loss_array_arm)\n",
    "plt.plot(optimal_loss.numpy() * np.ones(n_steps), '--')\n",
    "\n",
    "plt.xlabel('iteration')\n",
    "plt.ylabel('loss')"
   ]
  },
  {
   "cell_type": "raw",
   "metadata": {
    "collapsed": false
   },
   "source": [
    "print('phi_final: ', phi_array_arm[-1])\n",
    "print('x_final: ', sigmoid(torch.Tensor([phi_array_arm[-1]])).numpy())\n",
    "print('x_optimal: ', x_optimal.numpy())"
   ]
  },
  {
   "cell_type": "raw",
   "metadata": {
    "collapsed": true
   },
   "source": [
    "# again check sensitivity to stochasticity"
   ]
  },
  {
   "cell_type": "raw",
   "metadata": {
    "collapsed": false
   },
   "source": [
    "for i in range(20): \n",
    "    lr = 1.0\n",
    "    n_steps = 500\n",
    "    loss_array_arm, phi_array_arm = \\\n",
    "        arm_lib.run_SGD(phi0, p0, arm_lib.get_arm_ps_loss, lr = lr, n_steps = n_steps)\n",
    "\n",
    "    plt.plot(loss_array_arm, ':')\n",
    "\n",
    "plt.xlabel('iteration')\n",
    "plt.ylabel('loss')\n",
    "\n",
    "plt.plot(optimal_loss.numpy() * np.ones(n_steps), '--')\n"
   ]
  },
  {
   "cell_type": "raw",
   "metadata": {},
   "source": [
    "It does well!"
   ]
  },
  {
   "cell_type": "raw",
   "metadata": {
    "collapsed": true
   },
   "source": [
    "# Compare all 4 methods so far"
   ]
  },
  {
   "cell_type": "raw",
   "metadata": {
    "collapsed": false
   },
   "source": [
    "plt.plot(loss_array_true_grad, '-')\n",
    "plt.plot(loss_array_reinforce, '--')\n",
    "plt.plot(loss_array_reinforce_bl, ':')\n",
    "plt.plot(loss_array_arm, '-.')\n",
    "plt.plot(optimal_loss.numpy() * np.ones(n_steps), '--')\n",
    "\n",
    "plt.legend(('true gradient', 'reinforce', 'reinforce w control', 'arm'))"
   ]
  },
  {
   "cell_type": "raw",
   "metadata": {},
   "source": [
    "# Mix classic and reinforce"
   ]
  },
  {
   "cell_type": "raw",
   "metadata": {},
   "source": [
    "This is the method we propose. In general, suppose our loss function is of the form \n",
    "\\begin{align}\n",
    "E_{q_\\eta(z)}[f(z)]\n",
    "\\end{align}\n",
    "and $z\\in\\{0, ..., K\\}$ is discrete. \n",
    "\n",
    "The objective can be written as\n",
    "\\begin{align}\n",
    "E_{q_\\eta(z)}[f(z)] = \\sum_{z=1}^K q_\\eta(z) f(z)\n",
    "\\end{align}\n",
    "\n",
    "But in many cases, $K$ is large (think SBN, for example, were the latent space of dimension $d$ can take $2^d$ distinct values), and evaluating $f(z)$ is expensive. REINFORCE gets around this problem by sampling, only one $z$ at each iteration, but as we saw, it has much too high variance. \n",
    "\n",
    "If we call computing the sum over $z$ and taking gradients the ``classic\" method (as its common in the old VAE) literature, we propose a combination of REINFORCE and this classic method that may potentially have smaller variance. "
   ]
  },
  {
   "cell_type": "raw",
   "metadata": {},
   "source": [
    "WOLOG (for the sake of notation), suppose that $z = 1, ..., k$ had the highest probabilities under $q_\\eta$. Then\n",
    "we can write the objective as \n",
    "\\begin{align}\n",
    "E_{q_\\eta(z)}[f(z)] &= q_\\eta(z \\leq k) \\cdot E_{q_\\eta(z)}\\Big[f(z)\\; \\big| \\;z\\leq k\\Big] + \n",
    "                            q_\\eta(z > k)\\cdot E_{q_\\eta(z)}\\Big[f(z) \\;\\big|\\; z > k\\Big]\\\\\n",
    "    &= \\sum_{z=1}^k q_\\eta(z) f(z) + q_\\eta(z > k)\\cdot E_{q_\\eta(z)}\\Big[f(z) \\;\\big|\\; z > k\\Big]\n",
    "\\end{align}\n",
    "\n",
    "In other words, we sum over the first $k$ largest probabilities. To take the gradient, we use the analytic gradient for the first term; and for the second term we apply the REINFORCE estimator. "
   ]
  },
  {
   "cell_type": "raw",
   "metadata": {},
   "source": [
    "Intuitively, we think this is a good idea because we would expect that the mass of $z$ to be concentrated around a few points -- so we simply sum those out. For the remainder, we use the REINFORCE estimator to compute the gradient of the expectation; note that this expecation is scaled by $q_\\eta(z > k)$, which we said are the small probabilities, so this factor will control the variance. "
   ]
  },
  {
   "cell_type": "raw",
   "metadata": {
    "collapsed": false
   },
   "source": [
    "lr = 1\n",
    "n_steps = 500\n",
    "num_reinforced = 6 # this is the number of categories we DO NOT sum out\n",
    "loss_array_arm, phi_array_arm = \\\n",
    "    arm_lib.run_SGD(phi0, p0, \n",
    "                    lambda phi, p0 : arm_lib.get_mixed_reinforce_ps_loss(phi, p0, num_reinforced), \n",
    "                    lr = lr, n_steps = n_steps)"
   ]
  },
  {
   "cell_type": "raw",
   "metadata": {
    "collapsed": false,
    "scrolled": true
   },
   "source": [
    "plt.plot(loss_array_arm)\n",
    "plt.plot(optimal_loss.numpy() * np.ones(n_steps), '--')\n",
    "\n",
    "plt.xlabel('iteration')\n",
    "plt.ylabel('loss')"
   ]
  },
  {
   "cell_type": "raw",
   "metadata": {
    "collapsed": false,
    "scrolled": true
   },
   "source": [
    "print('phi_final: ', phi_array_arm[-1])\n",
    "print('x_final: ', sigmoid(torch.Tensor([phi_array_arm[-1]])).numpy())\n",
    "print('x_optimal: ', x_optimal.numpy())"
   ]
  },
  {
   "cell_type": "raw",
   "metadata": {
    "collapsed": true
   },
   "source": [
    "# again check sensitivity to stochasticity"
   ]
  },
  {
   "cell_type": "raw",
   "metadata": {
    "collapsed": false
   },
   "source": [
    "for i in range(20): \n",
    "    lr = 1\n",
    "    n_steps = 500\n",
    "    loss_array_mixed, phi_array_mixed = \\\n",
    "        arm_lib.run_SGD(phi0, p0, \n",
    "                    lambda phi, p0 : arm_lib.get_mixed_reinforce_ps_loss(phi, p0, num_reinforced), \n",
    "                    lr = lr, n_steps = n_steps)\n",
    "    plt.plot(loss_array_mixed, ':')\n",
    "\n",
    "plt.xlabel('iteration')\n",
    "plt.ylabel('loss')\n",
    "\n",
    "plt.plot(optimal_loss.numpy() * np.ones(n_steps), '--')\n"
   ]
  },
  {
   "cell_type": "raw",
   "metadata": {},
   "source": [
    "### Lets experiment with the number reinforced"
   ]
  },
  {
   "cell_type": "raw",
   "metadata": {
    "collapsed": false
   },
   "source": [
    "def get_avg_paths(phi, p0, get_ps_loss, n_trials = 20, n_steps = 500, lr = 1): \n",
    "    # Function to run a few trials of SGD and get the average path \n",
    "    \n",
    "    loss_path_all = np.zeros((n_trials, n_steps + 1))\n",
    "    \n",
    "    for i in range(n_trials): \n",
    "        loss_path, _ = \\\n",
    "            arm_lib.run_SGD(phi0, p0, \n",
    "                        get_ps_loss, \n",
    "                        lr = lr, n_steps = n_steps)\n",
    "            \n",
    "        loss_path_all[i, :] = loss_path\n",
    "    \n",
    "    loss_array_avg = np.mean(loss_path_all, axis = 0)\n",
    "    return loss_array_avg, loss_path_all\n"
   ]
  },
  {
   "cell_type": "raw",
   "metadata": {
    "collapsed": false
   },
   "source": [
    "lr = 1\n",
    "n_steps = 500\n",
    "\n",
    "avg_loss_num_reinforce_array = np.zeros((2**d - 1, n_steps + 1))\n",
    "\n",
    "for i in range(1, 2**d): \n",
    "    print(i)\n",
    "    \n",
    "    avg_loss_array, _ = \\\n",
    "        get_avg_paths(phi0, p0, \n",
    "                    lambda phi, p0 : arm_lib.get_mixed_reinforce_ps_loss(phi, p0, num_reinforced = i), \n",
    "                    lr = lr, n_steps = n_steps)\n",
    "        \n",
    "    avg_loss_num_reinforce_array[i - 1, :] = avg_loss_array\n",
    "        \n",
    "    plt.plot(avg_loss_array, '-')\n",
    "\n",
    "plt.xlabel('iteration')\n",
    "plt.ylabel('loss')\n",
    "\n",
    "plt.legend(('1', '2', '3', '4', '5', '6', '7'))\n",
    "\n",
    "plt.plot(optimal_loss.numpy() * np.ones(n_steps), '--')\n"
   ]
  },
  {
   "cell_type": "raw",
   "metadata": {
    "collapsed": true
   },
   "source": []
  },
  {
   "cell_type": "raw",
   "metadata": {
    "collapsed": true
   },
   "source": []
  }
 ],
 "metadata": {
  "kernelspec": {
   "display_name": "Python (pytorch_04)",
   "language": "python",
   "name": "pytorch_update"
  },
  "language_info": {
   "codemirror_mode": {
    "name": "ipython",
    "version": 3
   },
   "file_extension": ".py",
   "mimetype": "text/x-python",
   "name": "python",
   "nbconvert_exporter": "python",
   "pygments_lexer": "ipython3",
   "version": "3.6.5"
  }
 },
 "nbformat": 4,
 "nbformat_minor": 2
}
