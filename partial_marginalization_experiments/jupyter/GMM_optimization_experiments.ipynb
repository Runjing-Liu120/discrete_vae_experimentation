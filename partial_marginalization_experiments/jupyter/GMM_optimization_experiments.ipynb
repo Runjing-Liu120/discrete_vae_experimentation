{
 "cells": [
  {
   "cell_type": "code",
   "execution_count": 1,
   "metadata": {
    "collapsed": false
   },
   "outputs": [],
   "source": [
    "import numpy as np\n",
    "\n",
    "import matplotlib.pyplot as plt\n",
    "%matplotlib inline  \n",
    "\n",
    "import torch\n",
    "import torch.nn as nn\n",
    "\n",
    "import torch.optim as optim\n",
    "\n",
    "from copy import deepcopy\n",
    "\n",
    "from torch.distributions import Categorical\n",
    "\n",
    "import itertools\n",
    "\n",
    "import sys\n",
    "sys.path.insert(0, './../libraries/')\n",
    "\n",
    "import partial_marginalization_lib as pm_lib\n",
    "import gmm_experiments_lib as gmm_lib"
   ]
  },
  {
   "cell_type": "code",
   "execution_count": 2,
   "metadata": {
    "collapsed": false
   },
   "outputs": [],
   "source": [
    "softmax = nn.Softmax(dim = 0)\n",
    "\n",
    "sigmoid = nn.Sigmoid()"
   ]
  },
  {
   "cell_type": "code",
   "execution_count": 3,
   "metadata": {
    "collapsed": true
   },
   "outputs": [],
   "source": [
    "import torch"
   ]
  },
  {
   "cell_type": "code",
   "execution_count": 4,
   "metadata": {
    "collapsed": true
   },
   "outputs": [],
   "source": [
    "np.random.seed(45224)\n",
    "_ = torch.manual_seed(45224)"
   ]
  },
  {
   "cell_type": "code",
   "execution_count": 5,
   "metadata": {
    "collapsed": false
   },
   "outputs": [],
   "source": [
    "mu0 = torch.Tensor([0, 0])\n",
    "sigma0 = 20.\n",
    "n_clusters = 5\n",
    "\n",
    "n_obs = 200"
   ]
  },
  {
   "cell_type": "code",
   "execution_count": 6,
   "metadata": {
    "collapsed": false
   },
   "outputs": [],
   "source": [
    "gmm_experiment = gmm_lib.GMMExperiments(n_obs, mu0, sigma0, n_clusters, hidden_dim=100)"
   ]
  },
  {
   "cell_type": "code",
   "execution_count": 7,
   "metadata": {
    "collapsed": false
   },
   "outputs": [
    {
     "data": {
      "text/plain": [
       "[<matplotlib.lines.Line2D at 0x7f6c06b06ef0>]"
      ]
     },
     "execution_count": 7,
     "metadata": {},
     "output_type": "execute_result"
    },
    {
     "data": {
      "image/png": "[encoded data removed]",
      "text/plain": [
       "<Figure size 432x288 with 1 Axes>"
      ]
     },
     "metadata": {},
     "output_type": "display_data"
    }
   ],
   "source": [
    "plt.plot(gmm_experiment.y[:, 0].numpy(), gmm_experiment.y[:, 1].numpy(), '+')\n",
    "plt.plot(gmm_experiment.true_mus[:, 0].numpy(), gmm_experiment.true_mus[:, 1].numpy(), 'x')"
   ]
  },
  {
   "cell_type": "code",
   "execution_count": 8,
   "metadata": {
    "collapsed": false
   },
   "outputs": [],
   "source": [
    "obj_class_reinforce = pm_lib.PartialMarginalizationREINFORCE(gmm_experiment)"
   ]
  },
  {
   "cell_type": "code",
   "execution_count": 9,
   "metadata": {
    "collapsed": true
   },
   "outputs": [],
   "source": [
    "obj_class_reinforce.experiment_class.set_random_var_params()"
   ]
  },
  {
   "cell_type": "code",
   "execution_count": 10,
   "metadata": {
    "collapsed": false
   },
   "outputs": [
    {
     "data": {
      "text/plain": [
       "{'free_class_weights': tensor([[ 0.9279,  0.6943,  0.4903,  0.9194,  0.3087],\n",
       "         [ 0.9512,  0.2774,  0.4301,  0.9715,  0.3795],\n",
       "         [ 0.6867,  0.6627,  0.6194,  0.8222,  0.5579],\n",
       "         [ 0.2164,  0.8895,  0.5518,  0.7434,  0.0972],\n",
       "         [ 0.9946,  0.0331,  0.9320,  0.3093,  0.2923],\n",
       "         [ 0.2870,  0.8626,  0.7528,  0.9693,  0.7240],\n",
       "         [ 0.0944,  0.3359,  0.2681,  0.8414,  0.3476],\n",
       "         [ 0.6024,  0.9501,  0.9435,  0.9411,  0.0645],\n",
       "         [ 0.1079,  0.8993,  0.0473,  0.5648,  0.4304],\n",
       "         [ 0.4513,  0.4368,  0.7649,  0.0580,  0.2481],\n",
       "         [ 0.2612,  0.7508,  0.1286,  0.5816,  0.3005],\n",
       "         [ 0.4463,  0.3823,  0.2721,  0.1631,  0.5742],\n",
       "         [ 0.0775,  0.5706,  0.2805,  0.9990,  0.1824],\n",
       "         [ 0.3980,  0.7208,  0.9246,  0.2072,  0.8735],\n",
       "         [ 0.2132,  0.1929,  0.1537,  0.1063,  0.6158],\n",
       "         [ 0.9586,  0.0433,  0.9348,  0.1022,  0.9898],\n",
       "         [ 0.6381,  0.8065,  0.5555,  0.8154,  0.5260],\n",
       "         [ 0.3116,  0.1131,  0.9438,  0.1542,  0.5909],\n",
       "         [ 0.4215,  0.7071,  0.6588,  0.0071,  0.2250],\n",
       "         [ 0.1417,  0.2584,  0.9013,  0.9890,  0.6745],\n",
       "         [ 0.7193,  0.7013,  0.7054,  0.5739,  0.6020],\n",
       "         [ 0.8397,  0.7953,  0.1972,  0.7875,  0.2423],\n",
       "         [ 0.2001,  0.2888,  0.6127,  0.0130,  0.3192],\n",
       "         [ 0.6233,  0.0902,  0.4573,  0.3774,  0.2024],\n",
       "         [ 0.1872,  0.7846,  0.6214,  0.9656,  0.8498],\n",
       "         [ 0.8049,  0.5377,  0.7006,  0.6646,  0.9470],\n",
       "         [ 0.8519,  0.9621,  0.7783,  0.1140,  0.9308],\n",
       "         [ 0.4266,  0.7677,  0.1057,  0.1662,  0.8850],\n",
       "         [ 0.2431,  0.6743,  0.2754,  0.3487,  0.8692],\n",
       "         [ 0.2957,  0.1835,  0.1895,  0.3618,  0.1701],\n",
       "         [ 0.5371,  0.9154,  0.1281,  0.8813,  0.5831],\n",
       "         [ 0.5417,  0.9612,  0.5653,  0.5613,  0.4724],\n",
       "         [ 0.5244,  0.9027,  0.0221,  0.1478,  0.9730],\n",
       "         [ 0.6462,  0.1128,  0.8217,  0.3642,  0.9545],\n",
       "         [ 0.9061,  0.8018,  0.3794,  0.2094,  0.8074],\n",
       "         [ 0.6065,  0.2733,  0.3892,  0.8672,  0.0338],\n",
       "         [ 0.9391,  0.7779,  0.2778,  0.9329,  0.3734],\n",
       "         [ 0.3746,  0.4586,  0.2279,  0.6484,  0.3756],\n",
       "         [ 0.7063,  0.0059,  0.8914,  0.3230,  0.8027],\n",
       "         [ 0.1005,  0.0771,  0.2491,  0.6910,  0.8637],\n",
       "         [ 0.0366,  0.1643,  0.7216,  0.8684,  0.6468],\n",
       "         [ 0.6024,  0.9533,  0.9691,  0.8935,  0.6832],\n",
       "         [ 0.6988,  0.0161,  0.5629,  0.7001,  0.9268],\n",
       "         [ 0.8758,  0.5009,  0.0941,  0.4834,  0.7773],\n",
       "         [ 0.0432,  0.6906,  0.7412,  0.3245,  0.5712],\n",
       "         [ 0.3624,  0.4437,  0.8864,  0.4567,  0.7574],\n",
       "         [ 0.2554,  0.2005,  0.8990,  0.3832,  0.4614],\n",
       "         [ 0.4132,  0.0973,  0.8985,  0.7609,  0.8896],\n",
       "         [ 0.8823,  0.1951,  0.6062,  0.9761,  0.6982],\n",
       "         [ 0.5559,  0.7619,  0.8265,  0.3521,  0.4890],\n",
       "         [ 0.1404,  0.6021,  0.6630,  0.9924,  0.1056],\n",
       "         [ 0.5701,  0.4438,  0.8863,  0.3079,  0.4560],\n",
       "         [ 0.1874,  0.4416,  0.7029,  0.0979,  0.7299],\n",
       "         [ 0.1759,  0.5867,  0.1886,  0.4382,  0.4005],\n",
       "         [ 0.4746,  0.9570,  0.5781,  0.7376,  0.0798],\n",
       "         [ 0.0016,  0.2063,  0.3100,  0.6758,  0.7464],\n",
       "         [ 0.2196,  0.0037,  0.8227,  0.4379,  0.2107],\n",
       "         [ 0.0365,  0.2160,  0.8762,  0.7535,  0.7318],\n",
       "         [ 0.2871,  0.1378,  0.5117,  0.4898,  0.3186],\n",
       "         [ 0.8681,  0.8375,  0.9356,  0.7373,  0.9945],\n",
       "         [ 0.4407,  0.8202,  0.1191,  0.9714,  0.5686],\n",
       "         [ 0.2778,  0.2798,  0.2824,  0.3418,  0.3142],\n",
       "         [ 0.7210,  0.8001,  0.9826,  0.0777,  0.1309],\n",
       "         [ 0.2705,  0.4917,  0.7044,  0.9299,  0.1134],\n",
       "         [ 0.6083,  0.7975,  0.8200,  0.0986,  0.2021],\n",
       "         [ 0.1596,  0.4959,  0.0868,  0.6199,  0.4222],\n",
       "         [ 0.2240,  0.7869,  0.0792,  0.1409,  0.8723],\n",
       "         [ 0.5601,  0.7698,  0.6216,  0.0775,  0.4805],\n",
       "         [ 0.6955,  0.7348,  0.2648,  0.4156,  0.6693],\n",
       "         [ 0.9822,  0.9442,  0.0987,  0.1608,  0.0291],\n",
       "         [ 0.0092,  0.4354,  0.0141,  0.6994,  0.6995],\n",
       "         [ 0.5416,  0.4830,  0.3556,  0.0692,  0.8925],\n",
       "         [ 0.0769,  0.6537,  0.0961,  0.6789,  0.7989],\n",
       "         [ 0.4666,  0.2243,  0.5856,  0.0311,  0.9678],\n",
       "         [ 0.0899,  0.7989,  0.5315,  0.8992,  0.0939],\n",
       "         [ 0.4709,  0.1218,  0.6558,  0.0739,  0.9556],\n",
       "         [ 0.2858,  0.4296,  0.1505,  0.4179,  0.0531],\n",
       "         [ 0.2595,  0.7083,  0.7522,  0.0427,  0.7779],\n",
       "         [ 0.3732,  0.7959,  0.3760,  0.7242,  0.6349],\n",
       "         [ 0.6532,  0.0461,  0.7198,  0.1621,  0.7363],\n",
       "         [ 0.0283,  0.7151,  0.8521,  0.4018,  0.8654],\n",
       "         [ 0.7981,  0.6579,  0.4203,  0.9219,  0.2864],\n",
       "         [ 0.6926,  0.9306,  0.4403,  0.0463,  0.4197],\n",
       "         [ 0.4407,  0.2340,  0.4981,  0.4147,  0.7584],\n",
       "         [ 0.7703,  0.8794,  0.8104,  0.6680,  0.0387],\n",
       "         [ 0.4604,  0.7202,  0.1780,  0.2301,  0.5281],\n",
       "         [ 0.2942,  0.0932,  0.9938,  0.3595,  0.5163],\n",
       "         [ 0.3174,  0.9219,  0.8772,  0.0987,  0.5803],\n",
       "         [ 0.6441,  0.6653,  0.3517,  0.3494,  0.1990],\n",
       "         [ 0.0394,  0.0701,  0.8395,  0.4367,  0.0736],\n",
       "         [ 0.4954,  0.9768,  0.3555,  0.4339,  0.2041],\n",
       "         [ 0.7765,  0.9522,  0.7906,  0.6430,  0.0361],\n",
       "         [ 0.2528,  0.7320,  0.3554,  0.2970,  0.6246],\n",
       "         [ 0.2838,  0.7461,  0.5648,  0.6907,  0.2892],\n",
       "         [ 0.3164,  0.4465,  0.8011,  0.5004,  0.7818],\n",
       "         [ 0.3962,  0.3870,  0.8222,  0.6951,  0.7572],\n",
       "         [ 0.4177,  0.3860,  0.3691,  0.2899,  0.3764],\n",
       "         [ 0.7999,  0.6651,  0.1808,  0.8828,  0.1793],\n",
       "         [ 0.6355,  0.0184,  0.4972,  0.5096,  0.2451],\n",
       "         [ 0.4438,  0.0294,  0.4881,  0.2904,  0.6040],\n",
       "         [ 0.5549,  0.8704,  0.6723,  0.0452,  0.7011],\n",
       "         [ 0.9774,  0.1037,  0.0617,  0.1336,  0.2401],\n",
       "         [ 0.8633,  0.4781,  0.3200,  0.2967,  0.4612],\n",
       "         [ 0.7376,  0.9860,  0.0312,  0.9060,  0.1238],\n",
       "         [ 0.3153,  0.0688,  0.5696,  0.3511,  0.0586],\n",
       "         [ 0.5865,  0.2357,  0.9625,  0.4398,  0.2161],\n",
       "         [ 0.3566,  0.2532,  0.3807,  0.9455,  0.6655],\n",
       "         [ 0.4701,  0.9820,  0.5903,  0.2857,  0.7177],\n",
       "         [ 0.2664,  0.6013,  0.3827,  0.2204,  0.0664],\n",
       "         [ 0.5458,  0.3121,  0.7565,  0.9445,  0.4367],\n",
       "         [ 0.7669,  0.4959,  0.4040,  0.8933,  0.6672],\n",
       "         [ 0.5583,  0.8897,  0.7241,  0.6409,  0.0270],\n",
       "         [ 0.2911,  0.5706,  0.2861,  0.4785,  0.1147],\n",
       "         [ 0.3878,  0.4567,  0.2014,  0.2494,  0.3456],\n",
       "         [ 0.3706,  0.0750,  0.5948,  0.2985,  0.9972],\n",
       "         [ 0.3522,  0.9665,  0.7139,  0.1414,  0.9024],\n",
       "         [ 0.2275,  0.2855,  0.3120,  0.7617,  0.0860],\n",
       "         [ 0.9504,  0.7144,  0.5229,  0.1519,  0.6691],\n",
       "         [ 0.1692,  0.5334,  0.5636,  0.7735,  0.9477],\n",
       "         [ 0.1840,  0.7808,  0.3166,  0.0438,  0.4221],\n",
       "         [ 0.2058,  0.5828,  0.4810,  0.1196,  0.6287],\n",
       "         [ 0.1160,  0.6343,  0.8399,  0.1572,  0.1780],\n",
       "         [ 0.3699,  0.0457,  0.5265,  0.2672,  0.4317],\n",
       "         [ 0.7060,  0.4649,  0.0164,  0.5156,  0.4240],\n",
       "         [ 0.5129,  0.1565,  0.2513,  0.3204,  0.0897],\n",
       "         [ 0.2339,  0.6639,  0.4593,  0.9174,  0.3554],\n",
       "         [ 0.1805,  0.4324,  0.7775,  0.0467,  0.1022],\n",
       "         [ 0.9519,  0.5416,  0.7341,  0.1274,  0.7902],\n",
       "         [ 0.4029,  0.2070,  0.4339,  0.0566,  0.3202],\n",
       "         [ 0.1397,  0.2268,  0.1912,  0.2847,  0.6388],\n",
       "         [ 0.1471,  0.1338,  0.0766,  0.8841,  0.9669],\n",
       "         [ 0.0983,  0.2351,  0.3295,  0.4316,  0.3735],\n",
       "         [ 0.9080,  0.7735,  0.0953,  0.9291,  0.7115],\n",
       "         [ 0.7214,  0.1166,  0.3514,  0.4045,  0.8966],\n",
       "         [ 0.8765,  0.5384,  0.7769,  0.5001,  0.2471],\n",
       "         [ 0.6006,  0.8886,  0.4938,  0.7848,  0.0319],\n",
       "         [ 0.0607,  0.5517,  0.8090,  0.2185,  0.3486],\n",
       "         [ 0.0827,  0.6663,  0.9305,  0.9128,  0.1667],\n",
       "         [ 0.6148,  0.4968,  0.3861,  0.4048,  0.5832],\n",
       "         [ 0.5857,  0.6734,  0.3095,  0.8606,  0.9386],\n",
       "         [ 0.1276,  0.9055,  0.6275,  0.5199,  0.5063],\n",
       "         [ 0.9158,  0.9842,  0.3269,  0.3354,  0.1839],\n",
       "         [ 0.7820,  0.0707,  0.9747,  0.9280,  0.6867],\n",
       "         [ 0.1023,  0.2745,  0.2697,  0.2217,  0.7130],\n",
       "         [ 0.2921,  0.2729,  0.9601,  0.4100,  0.3947],\n",
       "         [ 0.8981,  0.3920,  0.0063,  0.9176,  0.5905],\n",
       "         [ 0.0962,  0.4552,  0.7004,  0.9582,  0.7400],\n",
       "         [ 0.5382,  0.2494,  0.5372,  0.2705,  0.2928],\n",
       "         [ 0.4201,  0.7154,  0.7232,  0.0780,  0.5747],\n",
       "         [ 0.4049,  0.0497,  0.4463,  0.4162,  0.4420],\n",
       "         [ 0.2534,  0.6764,  0.6472,  0.1174,  0.2832],\n",
       "         [ 0.2100,  0.9613,  0.5806,  0.1476,  0.8849],\n",
       "         [ 0.7353,  0.2061,  0.7328,  0.5484,  0.0304],\n",
       "         [ 0.1126,  0.4865,  0.2758,  0.1995,  0.4962],\n",
       "         [ 0.6285,  0.7556,  0.9365,  0.6949,  0.3304],\n",
       "         [ 0.1263,  0.1191,  0.2304,  0.3382,  0.8768],\n",
       "         [ 0.7139,  0.8247,  0.7082,  0.4266,  0.0796],\n",
       "         [ 0.2854,  0.7515,  0.9123,  0.3247,  0.8724],\n",
       "         [ 0.8665,  0.3797,  0.2909,  0.8780,  0.9379],\n",
       "         [ 0.2554,  0.3406,  0.2754,  0.8616,  0.0118],\n",
       "         [ 0.0588,  0.9324,  0.9505,  0.6623,  0.0571],\n",
       "         [ 0.6649,  0.9423,  0.8737,  0.9602,  0.5780],\n",
       "         [ 0.8640,  0.4080,  0.7008,  0.1765,  0.3361],\n",
       "         [ 0.9674,  0.2612,  0.4043,  0.3867,  0.3021],\n",
       "         [ 0.9391,  0.4888,  0.5908,  0.8245,  0.1963],\n",
       "         [ 0.2987,  0.3694,  0.5292,  0.8878,  0.5777],\n",
       "         [ 0.9484,  0.9213,  0.6880,  0.0836,  0.5667],\n",
       "         [ 0.1954,  0.3090,  0.8501,  0.8762,  0.2649],\n",
       "         [ 0.5576,  0.0340,  0.6636,  0.8064,  0.0647],\n",
       "         [ 0.2195,  0.7877,  0.9141,  0.8484,  0.0277],\n",
       "         [ 0.6495,  0.2347,  0.9937,  0.6392,  0.8648],\n",
       "         [ 0.6277,  0.2176,  0.2829,  0.0976,  0.8893],\n",
       "         [ 0.1693,  0.6358,  0.4508,  0.1866,  0.3565],\n",
       "         [ 0.8897,  0.7046,  0.2162,  0.3628,  0.3443],\n",
       "         [ 0.8309,  0.6926,  0.9204,  0.0939,  0.7282],\n",
       "         [ 0.9378,  0.1043,  0.1771,  0.4732,  0.7253],\n",
       "         [ 0.8866,  0.6015,  0.3664,  0.1742,  0.9200],\n",
       "         [ 0.9972,  0.7919,  0.0461,  0.9471,  0.2375],\n",
       "         [ 0.6201,  0.9628,  0.1637,  0.4710,  0.7645],\n",
       "         [ 0.8472,  0.1711,  0.9413,  0.4464,  0.8287],\n",
       "         [ 0.4470,  0.1745,  0.0564,  0.2211,  0.5795],\n",
       "         [ 0.7155,  0.1959,  0.0710,  0.4395,  0.3230],\n",
       "         [ 0.2419,  0.6337,  0.2128,  0.3822,  0.7648],\n",
       "         [ 0.0167,  0.1277,  0.3592,  0.9807,  0.7732],\n",
       "         [ 0.1251,  0.8931,  0.4690,  0.4033,  0.6220],\n",
       "         [ 0.4378,  0.4341,  0.0719,  0.6884,  0.4015],\n",
       "         [ 0.4223,  0.8652,  0.7741,  0.2150,  0.8964],\n",
       "         [ 0.2937,  0.2793,  0.2966,  0.8584,  0.4098],\n",
       "         [ 0.3253,  0.3484,  0.2092,  0.1861,  0.7706],\n",
       "         [ 0.0226,  0.2426,  0.6556,  0.1140,  0.7222],\n",
       "         [ 0.1006,  0.8443,  0.8217,  0.6438,  0.3755],\n",
       "         [ 0.8557,  0.8726,  0.8556,  0.2336,  0.0253],\n",
       "         [ 0.6842,  0.6333,  0.6353,  0.6617,  0.6589],\n",
       "         [ 0.4416,  0.8706,  0.3394,  0.4115,  0.2823],\n",
       "         [ 0.4668,  0.9323,  0.8181,  0.1453,  0.0600],\n",
       "         [ 0.3478,  0.3597,  0.6699,  0.6520,  0.7986],\n",
       "         [ 0.2508,  0.0768,  0.5906,  0.7030,  0.6762],\n",
       "         [ 0.6745,  0.4171,  0.7239,  0.8604,  0.4412],\n",
       "         [ 0.3645,  0.7197,  0.7850,  0.7109,  0.9168],\n",
       "         [ 0.1184,  0.4548,  0.9706,  0.6418,  0.0902]]),\n",
       " 'centroids': tensor([[-47.0509, -46.0810],\n",
       "         [ 42.1237, -13.4616],\n",
       "         [ -3.4263,   3.0953],\n",
       "         [ -8.4498, -20.8009],\n",
       "         [ 12.4217,   4.0182]]),\n",
       " 'log_sigma': tensor([-0.1319])}"
      ]
     },
     "execution_count": 10,
     "metadata": {},
     "output_type": "execute_result"
    }
   ],
   "source": [
    "obj_class_reinforce.experiment_class.var_params"
   ]
  },
  {
   "cell_type": "code",
   "execution_count": 11,
   "metadata": {
    "collapsed": false
   },
   "outputs": [],
   "source": [
    "vb_params_opt, losses = obj_class_reinforce.run_SGD(alpha=0.0, topk = 0, lr = 1e-3, n_steps=1000, \n",
    "                                               use_true_grad = True)"
   ]
  },
  {
   "cell_type": "code",
   "execution_count": 12,
   "metadata": {
    "collapsed": false
   },
   "outputs": [
    {
     "data": {
      "text/plain": [
       "[<matplotlib.lines.Line2D at 0x7f6c06a2f240>]"
      ]
     },
     "execution_count": 12,
     "metadata": {},
     "output_type": "execute_result"
    },
    {
     "data": {
      "image/png": "[encoded data removed]",
      "text/plain": [
       "<Figure size 432x288 with 1 Axes>"
      ]
     },
     "metadata": {},
     "output_type": "display_data"
    }
   ],
   "source": [
    "plt.plot(losses)"
   ]
  },
  {
   "cell_type": "code",
   "execution_count": 13,
   "metadata": {
    "collapsed": false
   },
   "outputs": [],
   "source": [
    "class_weights_opt = deepcopy(obj_class_reinforce.class_weights)\n",
    "centroids_opt = vb_params_opt['centroids']\n",
    "sigma_opt = vb_params_opt['log_sigma']\n",
    "\n",
    "z_ind = torch.argmax(obj_class_reinforce.class_weights, dim=1).numpy()"
   ]
  },
  {
   "cell_type": "code",
   "execution_count": 14,
   "metadata": {
    "collapsed": false
   },
   "outputs": [
    {
     "data": {
      "image/png": "[encoded data removed]",
      "text/plain": [
       "<Figure size 432x288 with 1 Axes>"
      ]
     },
     "metadata": {},
     "output_type": "display_data"
    }
   ],
   "source": [
    "plt.figure()\n",
    "plt.plot(centroids_opt[:, 0].detach().numpy(), \n",
    "         centroids_opt[:, 1].detach().numpy(), 'x', color = 'red')\n",
    "# plt.plot(gmm_experiment.true_mus[:, 0].numpy(), \n",
    "#          gmm_experiment.true_mus[:, 1].numpy(), 'x', color = 'blue')\n",
    "\n",
    "for i in range(n_clusters): \n",
    "    plt.plot(gmm_experiment.y.numpy()[z_ind == i, 0], \n",
    "            gmm_experiment.y.numpy()[z_ind == i, 1], '.')\n",
    "    "
   ]
  },
  {
   "cell_type": "code",
   "execution_count": 15,
   "metadata": {
    "collapsed": false,
    "scrolled": true
   },
   "outputs": [
    {
     "data": {
      "text/plain": [
       "tensor([ 0,  0,  4,  1])"
      ]
     },
     "execution_count": 15,
     "metadata": {},
     "output_type": "execute_result"
    }
   ],
   "source": [
    "torch.argmax(obj_class_reinforce.class_weights, dim=1)[0:4]"
   ]
  },
  {
   "cell_type": "code",
   "execution_count": 16,
   "metadata": {
    "collapsed": false
   },
   "outputs": [
    {
     "data": {
      "text/plain": [
       "tensor([ 0.,  0.,  3.,  2.])"
      ]
     },
     "execution_count": 16,
     "metadata": {},
     "output_type": "execute_result"
    }
   ],
   "source": [
    "gmm_experiment.z[0:4]"
   ]
  },
  {
   "cell_type": "code",
   "execution_count": null,
   "metadata": {
    "collapsed": true
   },
   "outputs": [],
   "source": []
  },
  {
   "cell_type": "code",
   "execution_count": null,
   "metadata": {
    "collapsed": true
   },
   "outputs": [],
   "source": []
  },
  {
   "cell_type": "code",
   "execution_count": null,
   "metadata": {
    "collapsed": true
   },
   "outputs": [],
   "source": []
  }
 ],
 "metadata": {
  "kernelspec": {
   "display_name": "Python (pytorch_04)",
   "language": "python",
   "name": "pytorch_update"
  },
  "language_info": {
   "codemirror_mode": {
    "name": "ipython",
    "version": 3
   },
   "file_extension": ".py",
   "mimetype": "text/x-python",
   "name": "python",
   "nbconvert_exporter": "python",
   "pygments_lexer": "ipython3",
   "version": "3.6.5"
  }
 },
 "nbformat": 4,
 "nbformat_minor": 2
}
