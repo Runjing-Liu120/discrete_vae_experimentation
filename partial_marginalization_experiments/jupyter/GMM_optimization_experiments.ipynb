{
 "cells": [
  {
   "cell_type": "code",
   "execution_count": 1,
   "metadata": {
    "collapsed": false
   },
   "outputs": [],
   "source": [
    "import numpy as np\n",
    "\n",
    "import matplotlib.pyplot as plt\n",
    "%matplotlib inline  \n",
    "\n",
    "import torch\n",
    "import torch.nn as nn\n",
    "\n",
    "import torch.optim as optim\n",
    "\n",
    "from copy import deepcopy\n",
    "\n",
    "from torch.distributions import Categorical\n",
    "\n",
    "import itertools\n",
    "\n",
    "import sys\n",
    "sys.path.insert(0, './../libraries/')\n",
    "\n",
    "import partial_marginalization_lib as pm_lib\n",
    "import gmm_experiments_lib as gmm_lib"
   ]
  },
  {
   "cell_type": "code",
   "execution_count": 2,
   "metadata": {
    "collapsed": false
   },
   "outputs": [],
   "source": [
    "softmax = nn.Softmax(dim = 0)\n",
    "\n",
    "sigmoid = nn.Sigmoid()"
   ]
  },
  {
   "cell_type": "code",
   "execution_count": 3,
   "metadata": {
    "collapsed": true
   },
   "outputs": [],
   "source": [
    "import torch"
   ]
  },
  {
   "cell_type": "code",
   "execution_count": 4,
   "metadata": {
    "collapsed": true
   },
   "outputs": [],
   "source": [
    "np.random.seed(45224)\n",
    "_ = torch.manual_seed(45224)"
   ]
  },
  {
   "cell_type": "markdown",
   "metadata": {},
   "source": [
    "# Draw data"
   ]
  },
  {
   "cell_type": "code",
   "execution_count": 5,
   "metadata": {
    "collapsed": false
   },
   "outputs": [],
   "source": [
    "mu0 = torch.Tensor([0, 0])\n",
    "sigma0 = 4.\n",
    "n_clusters = 5\n",
    "\n",
    "n_obs = 200"
   ]
  },
  {
   "cell_type": "code",
   "execution_count": 6,
   "metadata": {
    "collapsed": false
   },
   "outputs": [],
   "source": [
    "gmm_experiment = gmm_lib.GMMExperiments(n_obs, mu0, sigma0, n_clusters, hidden_dim=100)"
   ]
  },
  {
   "cell_type": "code",
   "execution_count": 7,
   "metadata": {
    "collapsed": false
   },
   "outputs": [
    {
     "data": {
      "text/plain": [
       "[<matplotlib.lines.Line2D at 0x7f9eed67e668>]"
      ]
     },
     "execution_count": 7,
     "metadata": {},
     "output_type": "execute_result"
    },
    {
     "data": {
      "image/png": "[encoded data removed]",
      "text/plain": [
       "<Figure size 432x288 with 1 Axes>"
      ]
     },
     "metadata": {},
     "output_type": "display_data"
    }
   ],
   "source": [
    "plt.plot(gmm_experiment.y[:, 0].numpy(), gmm_experiment.y[:, 1].numpy(), '+')\n",
    "plt.plot(gmm_experiment.true_mus[:, 0].numpy(), gmm_experiment.true_mus[:, 1].numpy(), 'x')"
   ]
  },
  {
   "cell_type": "markdown",
   "metadata": {},
   "source": [
    "# Set up marginalization class and run k-means init"
   ]
  },
  {
   "cell_type": "code",
   "execution_count": 8,
   "metadata": {
    "collapsed": false
   },
   "outputs": [],
   "source": [
    "obj_class_reinforce = pm_lib.PartialMarginalizationREINFORCE(gmm_experiment)"
   ]
  },
  {
   "cell_type": "code",
   "execution_count": 12,
   "metadata": {
    "collapsed": false
   },
   "outputs": [],
   "source": [
    "obj_class_reinforce.experiment_class.set_kmeans_init_var_params()\n",
    "# obj_class_reinforce.experiment_class.set_random_var_params()\n",
    "\n",
    "k_means_init_params = deepcopy(obj_class_reinforce.experiment_class.var_params)"
   ]
  },
  {
   "cell_type": "code",
   "execution_count": 13,
   "metadata": {
    "collapsed": false
   },
   "outputs": [],
   "source": [
    "# check kmeans init\n",
    "centroids_init = obj_class_reinforce.experiment_class.var_params['centroids']\n",
    "obj_class_reinforce.set_and_get_log_q()\n",
    "\n",
    "z_ind = np.argmax(obj_class_reinforce.class_weights.numpy(), axis = 1)"
   ]
  },
  {
   "cell_type": "code",
   "execution_count": 14,
   "metadata": {
    "collapsed": false
   },
   "outputs": [
    {
     "data": {
      "image/png": "[encoded data removed]",
      "text/plain": [
       "<Figure size 432x288 with 1 Axes>"
      ]
     },
     "metadata": {},
     "output_type": "display_data"
    }
   ],
   "source": [
    "plt.figure()\n",
    "\n",
    "plt.plot(centroids_init[:, 0].detach().numpy(), \n",
    "         centroids_init[:, 1].detach().numpy(), 'x', color = 'red')\n",
    "# plt.plot(gmm_experiment.true_mus[:, 0].numpy(), \n",
    "#          gmm_experiment.true_mus[:, 1].numpy(), 'x', color = 'blue')\n",
    "\n",
    "for i in range(n_clusters): \n",
    "    plt.plot(gmm_experiment.y.numpy()[z_ind == i, 0], \n",
    "            gmm_experiment.y.numpy()[z_ind == i, 1], '.')\n"
   ]
  },
  {
   "cell_type": "markdown",
   "metadata": {},
   "source": [
    "# Train with true gradient"
   ]
  },
  {
   "cell_type": "code",
   "execution_count": 15,
   "metadata": {
    "collapsed": false
   },
   "outputs": [],
   "source": [
    "vb_params_opt, loss_array_true_grad = obj_class_reinforce.run_SGD(alpha=0.0, topk = 1, lr = 1e-2, n_steps=1000, \n",
    "                                               use_true_grad = True)"
   ]
  },
  {
   "cell_type": "code",
   "execution_count": 16,
   "metadata": {
    "collapsed": false
   },
   "outputs": [
    {
     "data": {
      "text/plain": [
       "[<matplotlib.lines.Line2D at 0x7f9eeccbef28>]"
      ]
     },
     "execution_count": 16,
     "metadata": {},
     "output_type": "execute_result"
    },
    {
     "data": {
      "image/png": "[encoded data removed]",
      "text/plain": [
       "<Figure size 432x288 with 1 Axes>"
      ]
     },
     "metadata": {},
     "output_type": "display_data"
    }
   ],
   "source": [
    "plt.plot(loss_array_true_grad)"
   ]
  },
  {
   "cell_type": "code",
   "execution_count": 17,
   "metadata": {
    "collapsed": false
   },
   "outputs": [
    {
     "name": "stdout",
     "output_type": "stream",
     "text": [
      "initial elbo:  5039.4169921875\n"
     ]
    }
   ],
   "source": [
    "print('initial elbo: ', loss_array_true_grad[0])"
   ]
  },
  {
   "cell_type": "code",
   "execution_count": 18,
   "metadata": {
    "collapsed": false
   },
   "outputs": [
    {
     "name": "stdout",
     "output_type": "stream",
     "text": [
      "final elbo:  512.8735961914062\n"
     ]
    }
   ],
   "source": [
    "print('final elbo: ', loss_array_true_grad[-1])"
   ]
  },
  {
   "cell_type": "code",
   "execution_count": 19,
   "metadata": {
    "collapsed": false
   },
   "outputs": [
    {
     "data": {
      "text/plain": [
       "tensor([-0.1319])"
      ]
     },
     "execution_count": 19,
     "metadata": {},
     "output_type": "execute_result"
    }
   ],
   "source": [
    "obj_class_reinforce.experiment_class.var_params['log_sigma']"
   ]
  },
  {
   "cell_type": "code",
   "execution_count": 20,
   "metadata": {
    "collapsed": false
   },
   "outputs": [],
   "source": [
    "class_weights_opt = deepcopy(obj_class_reinforce.class_weights)\n",
    "centroids_opt = vb_params_opt['centroids']\n",
    "sigma_opt = vb_params_opt['log_sigma']\n",
    "\n",
    "z_ind = torch.argmax(obj_class_reinforce.class_weights, dim=1).numpy()"
   ]
  },
  {
   "cell_type": "code",
   "execution_count": 21,
   "metadata": {
    "collapsed": false
   },
   "outputs": [
    {
     "data": {
      "image/png": "[encoded data removed]",
      "text/plain": [
       "<Figure size 432x288 with 1 Axes>"
      ]
     },
     "metadata": {},
     "output_type": "display_data"
    }
   ],
   "source": [
    "plt.figure()\n",
    "plt.plot(centroids_opt[:, 0].detach().numpy(), \n",
    "         centroids_opt[:, 1].detach().numpy(), 'x', color = 'red')\n",
    "plt.plot(gmm_experiment.true_mus[:, 0].numpy(), \n",
    "         gmm_experiment.true_mus[:, 1].numpy(), 'x', color = 'blue')\n",
    "\n",
    "for i in range(n_clusters): \n",
    "    plt.plot(gmm_experiment.y.numpy()[z_ind == i, 0], \n",
    "            gmm_experiment.y.numpy()[z_ind == i, 1], '.')\n",
    "    "
   ]
  },
  {
   "cell_type": "markdown",
   "metadata": {
    "collapsed": true
   },
   "source": [
    "# Is REINFORCE useful at all here?"
   ]
  },
  {
   "cell_type": "code",
   "execution_count": 22,
   "metadata": {
    "collapsed": false
   },
   "outputs": [],
   "source": [
    "# Reuse same kmeans init\n",
    "obj_class_reinforce.experiment_class.var_params['free_class_weights'] = \\\n",
    "    deepcopy(k_means_init_params['free_class_weights'])\n",
    "\n",
    "obj_class_reinforce.experiment_class.var_params['centroids'] = deepcopy(k_means_init_params['centroids'])\n",
    "obj_class_reinforce.experiment_class.var_params['log_sigma'] = deepcopy(k_means_init_params['log_sigma'])"
   ]
  },
  {
   "cell_type": "code",
   "execution_count": 23,
   "metadata": {
    "collapsed": false,
    "scrolled": true
   },
   "outputs": [
    {
     "data": {
      "image/png": "[encoded data removed]",
      "text/plain": [
       "<Figure size 432x288 with 1 Axes>"
      ]
     },
     "metadata": {},
     "output_type": "display_data"
    }
   ],
   "source": [
    "# # check kmeans init\n",
    "centroids_init = obj_class_reinforce.experiment_class.var_params['centroids']\n",
    "obj_class_reinforce.set_and_get_log_q()\n",
    "\n",
    "z_ind = np.argmax(obj_class_reinforce.class_weights.numpy(), axis = 1)\n",
    "\n",
    "plt.figure()\n",
    "\n",
    "plt.plot(centroids_init[:, 0].detach().numpy(), \n",
    "         centroids_init[:, 1].detach().numpy(), 'x', color = 'red')\n",
    "# plt.plot(gmm_experiment.true_mus[:, 0].numpy(), \n",
    "#          gmm_experiment.true_mus[:, 1].numpy(), 'x', color = 'blue')\n",
    "\n",
    "for i in range(n_clusters): \n",
    "    plt.plot(gmm_experiment.y.numpy()[z_ind == i, 0], \n",
    "            gmm_experiment.y.numpy()[z_ind == i, 1], '.')\n"
   ]
  },
  {
   "cell_type": "raw",
   "metadata": {},
   "source": [
    "concentrated_mask = pm_lib.get_concentrated_mask(obj_class_reinforce.class_weights, 0.0, 2)"
   ]
  },
  {
   "cell_type": "raw",
   "metadata": {},
   "source": [
    "sampled_weight = torch.sum(obj_class_reinforce.class_weights * (1 - concentrated_mask), dim = 1, keepdim = True)"
   ]
  },
  {
   "cell_type": "raw",
   "metadata": {},
   "source": [
    "conditional_class_weights = \\\n",
    "                obj_class_reinforce.class_weights * (1 - concentrated_mask) / (sampled_weight)"
   ]
  },
  {
   "cell_type": "raw",
   "metadata": {},
   "source": [
    "conditional_z_sample = pm_lib.sample_class_weights(conditional_class_weights)"
   ]
  },
  {
   "cell_type": "raw",
   "metadata": {},
   "source": [
    "centroid_mask = gmm_experiment._get_centroid_mask(conditional_z_sample)\n",
    "centroids = gmm_experiment.var_params['centroids'] "
   ]
  },
  {
   "cell_type": "raw",
   "metadata": {},
   "source": [
    "centroids_masked = torch.matmul(centroid_mask, centroids)\n",
    "\n",
    "log_sigma = torch.log(torch.Tensor([gmm_experiment.true_sigma]))"
   ]
  },
  {
   "cell_type": "raw",
   "metadata": {},
   "source": [
    "f_z_i = obj_class_reinforce.experiment_class.f_z(i)\n",
    "log_q = obj_class_reinforce.set_and_get_log_q()\n",
    "log_q_i = log_q[:, i]\n",
    "reinforce_grad_sample = obj_class_reinforce.get_reinforce_grad_sample(f_z_i, log_q_i, use_baseline = True)"
   ]
  },
  {
   "cell_type": "raw",
   "metadata": {},
   "source": [
    "f_z_i.shape"
   ]
  },
  {
   "cell_type": "code",
   "execution_count": 24,
   "metadata": {
    "collapsed": false
   },
   "outputs": [],
   "source": [
    "vb_params_opt, loss_array_reinforce = obj_class_reinforce.run_SGD(alpha=0.0, topk = 0, \n",
    "                                                use_baseline = False, \n",
    "                                                lr = 1e-4, n_steps=1000, \n",
    "                                               use_true_grad = False)"
   ]
  },
  {
   "cell_type": "code",
   "execution_count": 25,
   "metadata": {
    "collapsed": false,
    "scrolled": true
   },
   "outputs": [
    {
     "data": {
      "text/plain": [
       "[<matplotlib.lines.Line2D at 0x7f9edff5ff28>]"
      ]
     },
     "execution_count": 25,
     "metadata": {},
     "output_type": "execute_result"
    },
    {
     "data": {
      "image/png": "[encoded data removed]",
      "text/plain": [
       "<Figure size 432x288 with 1 Axes>"
      ]
     },
     "metadata": {},
     "output_type": "display_data"
    }
   ],
   "source": [
    "plt.plot(loss_array_reinforce)"
   ]
  },
  {
   "cell_type": "code",
   "execution_count": 26,
   "metadata": {
    "collapsed": false
   },
   "outputs": [
    {
     "name": "stdout",
     "output_type": "stream",
     "text": [
      "initial elbo:  5039.4169921875\n"
     ]
    }
   ],
   "source": [
    "print('initial elbo: ', loss_array_reinforce[0])"
   ]
  },
  {
   "cell_type": "code",
   "execution_count": 27,
   "metadata": {
    "collapsed": false
   },
   "outputs": [
    {
     "name": "stdout",
     "output_type": "stream",
     "text": [
      "final elbo:  2092.896484375\n"
     ]
    }
   ],
   "source": [
    "print('final elbo: ', loss_array_reinforce[-1])"
   ]
  },
  {
   "cell_type": "code",
   "execution_count": 28,
   "metadata": {
    "collapsed": false
   },
   "outputs": [],
   "source": [
    "class_weights_opt = deepcopy(obj_class_reinforce.class_weights)\n",
    "centroids_opt = vb_params_opt['centroids']\n",
    "sigma_opt = vb_params_opt['log_sigma']\n",
    "\n",
    "z_ind = torch.argmax(obj_class_reinforce.class_weights, dim=1).numpy()"
   ]
  },
  {
   "cell_type": "code",
   "execution_count": 29,
   "metadata": {
    "collapsed": false
   },
   "outputs": [
    {
     "data": {
      "image/png": "[encoded data removed]",
      "text/plain": [
       "<Figure size 432x288 with 1 Axes>"
      ]
     },
     "metadata": {},
     "output_type": "display_data"
    }
   ],
   "source": [
    "plt.figure()\n",
    "plt.plot(centroids_opt[:, 0].detach().numpy(), \n",
    "         centroids_opt[:, 1].detach().numpy(), 'x', color = 'red')\n",
    "plt.plot(gmm_experiment.true_mus[:, 0].numpy(), \n",
    "         gmm_experiment.true_mus[:, 1].numpy(), 'x', color = 'blue')\n",
    "\n",
    "for i in range(n_clusters): \n",
    "    plt.plot(gmm_experiment.y.numpy()[z_ind == i, 0], \n",
    "            gmm_experiment.y.numpy()[z_ind == i, 1], '.')\n",
    "    "
   ]
  },
  {
   "cell_type": "code",
   "execution_count": 30,
   "metadata": {
    "collapsed": false
   },
   "outputs": [
    {
     "data": {
      "text/plain": [
       "1001"
      ]
     },
     "execution_count": 30,
     "metadata": {},
     "output_type": "execute_result"
    }
   ],
   "source": [
    "len(loss_array_reinforce)"
   ]
  },
  {
   "cell_type": "code",
   "execution_count": 33,
   "metadata": {
    "collapsed": false
   },
   "outputs": [
    {
     "name": "stdout",
     "output_type": "stream",
     "text": [
      "topk:  0\n",
      "initial elbo:  5039.4169921875\n",
      "final elbo:  512.94189453125\n",
      "topk:  1\n",
      "initial elbo:  5039.4169921875\n",
      "final elbo:  512.81494140625\n",
      "topk:  2\n",
      "initial elbo:  5039.4169921875\n",
      "final elbo:  512.8218994140625\n",
      "topk:  3\n",
      "initial elbo:  5039.4169921875\n",
      "final elbo:  512.8743896484375\n",
      "topk:  4\n",
      "initial elbo:  5039.4169921875\n",
      "final elbo:  512.886474609375\n",
      "topk:  5\n",
      "initial elbo:  5039.4169921875\n",
      "final elbo:  512.8865966796875\n"
     ]
    }
   ],
   "source": [
    "n_steps = 1000\n",
    "losses_array_all = np.zeros((n_clusters + 1, n_steps + 1))\n",
    "\n",
    "for i in range(n_clusters + 1): \n",
    "    obj_class_reinforce.experiment_class.var_params['free_class_weights'] = \\\n",
    "    deepcopy(k_means_init_params['free_class_weights'])\n",
    "\n",
    "    obj_class_reinforce.experiment_class.var_params['centroids'] = deepcopy(k_means_init_params['centroids'])\n",
    "    obj_class_reinforce.experiment_class.var_params['log_sigma'] = deepcopy(k_means_init_params['log_sigma'])\n",
    "\n",
    "    print('topk: ', i)\n",
    "    vb_params_opt, loss_array_reinforce = obj_class_reinforce.run_SGD(alpha=0.0, topk = i, \n",
    "                                                    use_baseline = True, \n",
    "                                                    lr = 1e-2, n_steps=n_steps, \n",
    "                                                   use_true_grad = False)\n",
    "    \n",
    "    losses_array_all[i, :] = loss_array_reinforce\n",
    "    \n",
    "    print('initial elbo: ', loss_array_reinforce[0])\n",
    "    print('final elbo: ', loss_array_reinforce[-1])"
   ]
  },
  {
   "cell_type": "code",
   "execution_count": 34,
   "metadata": {
    "collapsed": false
   },
   "outputs": [
    {
     "data": {
      "text/plain": [
       "<matplotlib.legend.Legend at 0x7f9edfeeedd8>"
      ]
     },
     "execution_count": 34,
     "metadata": {},
     "output_type": "execute_result"
    },
    {
     "data": {
      "image/png": "[encoded data removed]",
      "text/plain": [
       "<Figure size 432x288 with 1 Axes>"
      ]
     },
     "metadata": {},
     "output_type": "display_data"
    }
   ],
   "source": [
    "plt.plot(losses_array_all.T, '-')\n",
    "\n",
    "plt.xlabel('iteration')\n",
    "plt.ylabel('loss')\n",
    "\n",
    "plt.legend(('0', '1', '2', '3', '4', '5'))\n"
   ]
  },
  {
   "cell_type": "code",
   "execution_count": null,
   "metadata": {
    "collapsed": true
   },
   "outputs": [],
   "source": []
  }
 ],
 "metadata": {
  "kernelspec": {
   "display_name": "Python (pytorch_04)",
   "language": "python",
   "name": "pytorch_update"
  },
  "language_info": {
   "codemirror_mode": {
    "name": "ipython",
    "version": 3
   },
   "file_extension": ".py",
   "mimetype": "text/x-python",
   "name": "python",
   "nbconvert_exporter": "python",
   "pygments_lexer": "ipython3",
   "version": "3.6.5"
  }
 },
 "nbformat": 4,
 "nbformat_minor": 2
}
