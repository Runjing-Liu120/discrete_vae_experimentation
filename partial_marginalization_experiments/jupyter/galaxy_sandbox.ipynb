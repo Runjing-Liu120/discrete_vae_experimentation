{
 "cells": [
  {
   "cell_type": "code",
   "execution_count": 1,
   "metadata": {
    "collapsed": true
   },
   "outputs": [],
   "source": [
    "import numpy as np\n",
    "\n",
    "import matplotlib.pyplot as plt\n",
    "%matplotlib inline  \n",
    "\n",
    "import torch\n",
    "import torch.nn as nn\n",
    "\n",
    "import torch.optim as optim\n",
    "\n",
    "from copy import deepcopy\n",
    "\n",
    "from torch.distributions import Categorical, Normal\n",
    "\n",
    "import itertools\n",
    "\n",
    "import sys\n",
    "sys.path.insert(0, './../libraries/')\n",
    "\n",
    "import partial_marginalization_lib as pm_lib\n",
    "\n",
    "import sys\n",
    "sys.path.insert(0, '../../../celeste_net/')\n",
    "import celeste_net \n",
    "\n",
    "from celeste_net import OneGalaxyVAE\n",
    "\n",
    "\n",
    "from datasets import Synthetic"
   ]
  },
  {
   "cell_type": "markdown",
   "metadata": {},
   "source": [
    "# Load data"
   ]
  },
  {
   "cell_type": "code",
   "execution_count": 2,
   "metadata": {
    "collapsed": true
   },
   "outputs": [],
   "source": [
    "side_len = 31"
   ]
  },
  {
   "cell_type": "code",
   "execution_count": 3,
   "metadata": {
    "collapsed": true
   },
   "outputs": [],
   "source": [
    "galaxy_data = Synthetic(side_len, min_galaxies=1, max_galaxies=1, num_bands=5)"
   ]
  },
  {
   "cell_type": "code",
   "execution_count": 4,
   "metadata": {
    "collapsed": false
   },
   "outputs": [
    {
     "data": {
      "text/plain": [
       "<matplotlib.image.AxesImage at 0x7f5ec10ca748>"
      ]
     },
     "execution_count": 4,
     "metadata": {},
     "output_type": "execute_result"
    },
    {
     "data": {
      "image/png": "[encoded data removed]",
      "text/plain": [
       "<Figure size 288x288 with 1 Axes>"
      ]
     },
     "metadata": {},
     "output_type": "display_data"
    }
   ],
   "source": [
    "data1 = galaxy_data.__getitem__(1)\n",
    "\n",
    "plt.matshow(data1['image'][0, :, :])"
   ]
  },
  {
   "cell_type": "code",
   "execution_count": 5,
   "metadata": {
    "collapsed": false
   },
   "outputs": [],
   "source": [
    "# The VAE\n",
    "galaxy_vae = celeste_net.OneGalaxyVAE(side_len)"
   ]
  },
  {
   "cell_type": "code",
   "execution_count": 6,
   "metadata": {
    "collapsed": false
   },
   "outputs": [],
   "source": [
    "state_dict = torch.load(\"./galaxy_vae.dat\", map_location='cpu')\n",
    "galaxy_vae.load_state_dict(state_dict, strict=False)\n",
    "\n",
    "galaxy_vae.eval(); "
   ]
  },
  {
   "cell_type": "code",
   "execution_count": 7,
   "metadata": {
    "collapsed": true
   },
   "outputs": [],
   "source": [
    "image = torch.Tensor([data1['image']])\n",
    "var =  torch.Tensor([data1['image']])"
   ]
  },
  {
   "cell_type": "code",
   "execution_count": 8,
   "metadata": {
    "collapsed": false
   },
   "outputs": [],
   "source": [
    "pixel_probs = galaxy_vae.attn_enc(image, var)"
   ]
  },
  {
   "cell_type": "code",
   "execution_count": 9,
   "metadata": {
    "collapsed": true
   },
   "outputs": [],
   "source": [
    "log_q_a, pixel_2d, keep_on = galaxy_vae.pixel_sample(pixel_probs)"
   ]
  },
  {
   "cell_type": "code",
   "execution_count": 10,
   "metadata": {
    "collapsed": false
   },
   "outputs": [],
   "source": [
    "z_mean, z_var = galaxy_vae.enc(image, pixel_2d)"
   ]
  },
  {
   "cell_type": "code",
   "execution_count": 11,
   "metadata": {
    "collapsed": true
   },
   "outputs": [],
   "source": [
    "recon_mean, recon_var = galaxy_vae.dec(pixel_2d, keep_on, z_mean)"
   ]
  },
  {
   "cell_type": "code",
   "execution_count": 12,
   "metadata": {
    "collapsed": false
   },
   "outputs": [
    {
     "data": {
      "text/plain": [
       "<matplotlib.image.AxesImage at 0x7f5ec08abeb8>"
      ]
     },
     "execution_count": 12,
     "metadata": {},
     "output_type": "execute_result"
    },
    {
     "data": {
      "image/png": "[encoded data removed]",
      "text/plain": [
       "<Figure size 288x288 with 1 Axes>"
      ]
     },
     "metadata": {},
     "output_type": "display_data"
    }
   ],
   "source": [
    "plt.matshow(recon_mean[0, 0, :, :].detach())"
   ]
  },
  {
   "cell_type": "code",
   "execution_count": 51,
   "metadata": {
    "collapsed": true
   },
   "outputs": [],
   "source": [
    "class CelesteRNN(nn.Module):\n",
    "\n",
    "    def __init__(self, sout, one_galaxy_vae, max_detections=1):\n",
    "        super(CelesteRNN, self).__init__()\n",
    "        \n",
    "        self.one_galaxy_vae = one_galaxy_vae\n",
    "        self.max_detections = max_detections\n",
    "        \n",
    "        # number of discrete random variables\n",
    "        self.n_discrete_latent = (sout - self.one_galaxy_vae.attn_enc.attn_offset)**2\n",
    "        \n",
    "    def get_pixel_probs(self, image, image_var): \n",
    "        pixel_probs = self.one_galaxy_vae.attn_enc(image, image_var)      \n",
    "        \n",
    "        # just for myself to make sure I understand this right\n",
    "        assert (pixel_probs.size(1) - 1) == self.n_discrete_latent\n",
    "        \n",
    "        return pixel_probs\n",
    "    \n",
    "    def sample_pixel(self, pixel_probs): \n",
    "        pixel_dist = Categorical(pixel_probs)\n",
    "        return pixel_dist.sample()\n",
    "        \n",
    "    def get_loss_conditional_a(self, image, pixel_1d): \n",
    "        \n",
    "        is_on = (pixel_1d < (self.n_discrete_latent - 1)).float()\n",
    "\n",
    "        # pass through galaxy encoder\n",
    "        pixel_2d = self.one_galaxy_vae.pixel_1d_to_2d(pixel_1d)\n",
    "        z_mean, z_var = self.one_galaxy_vae.enc(image, pixel_2d)\n",
    "                \n",
    "        # sample z\n",
    "        q_z = Normal(z_mean, z_var.sqrt())\n",
    "        z_sample = q_z.rsample()\n",
    "        \n",
    "        # kl term for continuous latent vars\n",
    "        log_q_z = q_z.log_prob(z_sample).sum(1)\n",
    "        p_z = Normal(torch.zeros_like(z_sample), torch.ones_like(z_sample))\n",
    "        log_p_z = p_z.log_prob(z_sample).sum(1)\n",
    "        kl_z = is_on * (log_q_z - log_p_z)\n",
    "                \n",
    "        # run through decoder        \n",
    "        recon_mean, recon_var = self.one_galaxy_vae.dec(pixel_2d, is_on, z_sample)\n",
    "\n",
    "        # get recon loss\n",
    "        recon_losses = -Normal(recon_mean, (recon_var + 1e-8).sqrt()).log_prob(image)\n",
    "        recon_losses = recon_losses.view(image.size(0), -1).sum(1)\n",
    "        \n",
    "        print(recon_losses)\n",
    "        \n",
    "        conditional_loss = recon_losses + kl_z\n",
    "        \n",
    "        return conditional_loss, recon_mean, recon_var\n",
    "    \n",
    "    def get_reinforce_grad_sample(self, f_z_i, log_q_i, use_baseline = False):\n",
    "        if use_baseline:\n",
    "            z_sample2 = self.sample_pixel(class_weights)\n",
    "            baseline = self.experiment_class.f_z(z_sample2).detach()\n",
    "        else:\n",
    "            baseline = 0.0\n",
    "\n",
    "        return (f_z_i.detach() - baseline) * log_q_i\n",
    "\n",
    "    def get_partial_marginalization_loss(self, image, topk, alpha = 0.0): \n",
    "        \n",
    "        # get class weights from the variational distribution\n",
    "        log_q = self.get_pixel_probs()\n",
    "        class_weights = torch.exp(log_q.detach())\n",
    "        \n",
    "        # this is the indicator C_\\alpha\n",
    "        concentrated_mask, concentrated_indx = pm_lib.get_concentrated_mask(class_weights, alpha, topk)\n",
    "        concentrated_mask = concentrated_mask.float().detach()\n",
    "\n",
    "        # the summed term\n",
    "        summed_term = 0.0\n",
    "        full_loss = 0.0\n",
    "        \n",
    "        seq_tensor = torch.LongTensor([i for i in range(class_weights.shape[0])])\n",
    "\n",
    "        for a in range(topk):\n",
    "            cond_loss_a = self.get_loss_conditional_z(image, concentrated_indx[:, a])\n",
    "            log_q_a = log_q[seq_tensor, a]\n",
    "\n",
    "            reinforce_grad_sample = self.get_reinforce_grad_sample(cond_loss_a, log_q_i, use_baseline)\n",
    "            summed_term = summed_term + \\\n",
    "                ((reinforce_grad_sample + cond_loss_a) * self.class_weights[seq_tensor, i]).sum()\n",
    "\n",
    "        # sampled term\n",
    "        sampled_weight = torch.sum(self.class_weights * (1 - concentrated_mask), dim = 1, keepdim = True)\n",
    "\n",
    "        if not(topk == self.class_weights.shape[1]):\n",
    "            conditional_class_weights = \\\n",
    "                self.class_weights * (1 - concentrated_mask) / (sampled_weight)\n",
    "\n",
    "            conditional_a_sample = self.sample_pixel(conditional_class_weights)\n",
    "\n",
    "            # just for my own sanity ...\n",
    "            assert np.all((1 - concentrated_mask)[self.seq_tensor, conditional_a_sample].numpy() == 1.)\n",
    "\n",
    "            f_z_i_sample = self.get_loss_conditional_z(conditional_a_sample)\n",
    "            log_q_i_sample = log_q[seq_tensor, conditional_z_sample]\n",
    "\n",
    "            sampled_term = self.get_reinforce_grad_sample(f_z_i_sample, log_q_i_sample, use_baseline) + \\\n",
    "                                    f_z_i_sample\n",
    "\n",
    "        else:\n",
    "            sampled_term = 0.\n",
    "\n",
    "        return (sampled_term * sampled_weight.squeeze()).sum() + summed_term, full_loss\n",
    "\n",
    "    \n",
    "#     def forward(self, image, background, save_history=False):\n",
    "#         log_q_as = 0.0\n",
    "#         is_on = torch.ones_like(image[:, 0, 0, 0])\n",
    "#         recon_means = background.data.clone()\n",
    "#         recon_vars = background.data.clone()\n",
    "#         latent_losses = 0.0\n",
    "#         history = []\n",
    "\n",
    "#         for t in range(self.max_detections):\n",
    "#             res_image = image - recon_means\n",
    "\n",
    "#             pixel_2d, is_on, z, log_q_a, latent_loss = self.sample_latent(res_image, recon_vars)\n",
    "#             recon_mean, recon_var = self.dec(pixel_2d, is_on, z)\n",
    "\n",
    "#             if save_history and is_on:\n",
    "#                 history.append(recon_mean)\n",
    "\n",
    "#             # save iteration state\n",
    "#             recon_means += recon_mean\n",
    "#             recon_vars += recon_var\n",
    "#             latent_losses += latent_loss\n",
    "#             log_q_as += log_q_a\n",
    "\n",
    "#         # -log p(x | a, z)\n",
    "#         recon_losses = -Normal(recon_means, recon_vars.sqrt()).log_prob(image)\n",
    "#         recon_losses = recon_losses.view(image.size(0), -1).sum(1)\n",
    "\n",
    "#         if save_history:\n",
    "#             return recon_means, history\n",
    "\n",
    "#         return recon_means, recon_vars, log_q_as, latent_losses, recon_losses\n"
   ]
  },
  {
   "cell_type": "code",
   "execution_count": 52,
   "metadata": {
    "collapsed": false
   },
   "outputs": [],
   "source": [
    "galaxy_rnn = CelesteRNN(side_len, one_galaxy_vae=galaxy_vae)"
   ]
  },
  {
   "cell_type": "code",
   "execution_count": 53,
   "metadata": {
    "collapsed": false
   },
   "outputs": [],
   "source": [
    "pixel_probs = galaxy_vae.attn_enc(image, var)"
   ]
  },
  {
   "cell_type": "code",
   "execution_count": 54,
   "metadata": {
    "collapsed": true
   },
   "outputs": [],
   "source": [
    "pixel_1d = galaxy_rnn.sample_pixel(pixel_probs)"
   ]
  },
  {
   "cell_type": "code",
   "execution_count": 55,
   "metadata": {
    "collapsed": false
   },
   "outputs": [
    {
     "data": {
      "text/plain": [
       "tensor([ 35])"
      ]
     },
     "execution_count": 55,
     "metadata": {},
     "output_type": "execute_result"
    }
   ],
   "source": [
    "pixel_1d"
   ]
  },
  {
   "cell_type": "code",
   "execution_count": 56,
   "metadata": {
    "collapsed": false
   },
   "outputs": [
    {
     "name": "stdout",
     "output_type": "stream",
     "text": [
      "tensor([ 9.4088e+16])\n"
     ]
    }
   ],
   "source": [
    "_ = galaxy_rnn.get_loss_conditional_z(image, pixel_1d)"
   ]
  },
  {
   "cell_type": "code",
   "execution_count": null,
   "metadata": {
    "collapsed": true
   },
   "outputs": [],
   "source": []
  },
  {
   "cell_type": "code",
   "execution_count": null,
   "metadata": {
    "collapsed": true
   },
   "outputs": [],
   "source": []
  },
  {
   "cell_type": "code",
   "execution_count": null,
   "metadata": {
    "collapsed": true
   },
   "outputs": [],
   "source": []
  },
  {
   "cell_type": "code",
   "execution_count": null,
   "metadata": {
    "collapsed": true
   },
   "outputs": [],
   "source": []
  }
 ],
 "metadata": {
  "kernelspec": {
   "display_name": "Python (pytorch_04)",
   "language": "python",
   "name": "pytorch_update"
  },
  "language_info": {
   "codemirror_mode": {
    "name": "ipython",
    "version": 3
   },
   "file_extension": ".py",
   "mimetype": "text/x-python",
   "name": "python",
   "nbconvert_exporter": "python",
   "pygments_lexer": "ipython3",
   "version": "3.6.5"
  }
 },
 "nbformat": 4,
 "nbformat_minor": 2
}
