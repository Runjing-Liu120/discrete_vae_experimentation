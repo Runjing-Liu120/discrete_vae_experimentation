{
 "cells": [
  {
   "cell_type": "markdown",
   "metadata": {},
   "source": [
    "In this notebook, we examine with the variances of the gradient estimators described in bernoulli_optimization_experiments.py"
   ]
  },
  {
   "cell_type": "code",
   "execution_count": 1,
   "metadata": {
    "collapsed": false
   },
   "outputs": [],
   "source": [
    "import numpy as np\n",
    "\n",
    "import matplotlib.pyplot as plt\n",
    "%matplotlib inline  \n",
    "\n",
    "import torch\n",
    "import torch.nn as nn\n",
    "\n",
    "import sys\n",
    "sys.path.insert(0, './../libraries/')\n",
    "\n",
    "import partial_marginalization_lib as pm_lib\n",
    "import bernoulli_experiments_lib as bern_lib\n",
    "\n",
    "import torch.optim as optim\n",
    "\n",
    "from copy import deepcopy\n",
    "\n",
    "from torch.distributions import Categorical\n",
    "\n",
    "import itertools"
   ]
  },
  {
   "cell_type": "code",
   "execution_count": 2,
   "metadata": {
    "collapsed": false
   },
   "outputs": [],
   "source": [
    "softmax = nn.Softmax(dim = 0)\n",
    "\n",
    "sigmoid = nn.Sigmoid()"
   ]
  },
  {
   "cell_type": "code",
   "execution_count": 3,
   "metadata": {
    "collapsed": true
   },
   "outputs": [],
   "source": [
    "np.random.seed(454)\n",
    "_ = torch.manual_seed(454)"
   ]
  },
  {
   "cell_type": "code",
   "execution_count": 4,
   "metadata": {
    "collapsed": false
   },
   "outputs": [
    {
     "name": "stdout",
     "output_type": "stream",
     "text": [
      "p0:  tensor([ 0.6000,  0.5100,  0.4800]) \n",
      "\n",
      "sum(p0^2):  tensor(0.8505)\n",
      "sum((1 - p0)^2):  tensor(0.6705) \n",
      "\n",
      "optimal loss:  tensor(0.6705)\n",
      "optimal x:  1\n"
     ]
    }
   ],
   "source": [
    "# fixed parameters\n",
    "d = 3\n",
    "# p0 = torch.rand(d)\n",
    "p0 = torch.Tensor([0.6, 0.51, 0.48])\n",
    "print('p0: ', p0, '\\n')\n",
    "\n",
    "print('sum(p0^2): ', torch.sum(p0**2))\n",
    "print('sum((1 - p0)^2): ', torch.sum((1 - p0)**2), '\\n')\n",
    "\n",
    "# the optima\n",
    "x_optimal = torch.argmin(torch.Tensor([torch.sum(p0**2), torch.sum((1 - p0)**2)]))\n",
    "\n",
    "optimal_loss = torch.min(torch.Tensor([torch.sum(p0**2), torch.sum((1 - p0)**2)]))\n",
    "\n",
    "print('optimal loss: ', optimal_loss)\n",
    "print('optimal x: ', x_optimal.numpy())"
   ]
  },
  {
   "cell_type": "code",
   "execution_count": 5,
   "metadata": {
    "collapsed": false
   },
   "outputs": [
    {
     "name": "stdout",
     "output_type": "stream",
     "text": [
      "init phi0:  tensor([ 0.])\n",
      "init e_b:  tensor([ 0.5000])\n"
     ]
    }
   ],
   "source": [
    "# random init for phi\n",
    "phi0 = torch.Tensor([0.0])\n",
    "phi0.requires_grad_(True)\n",
    "print('init phi0: ', phi0)\n",
    "print('init e_b: ', sigmoid(phi0))"
   ]
  },
  {
   "cell_type": "code",
   "execution_count": 6,
   "metadata": {
    "collapsed": false
   },
   "outputs": [],
   "source": [
    "params = [phi0]\n",
    "optimizer = optim.SGD(params, lr = 1.0)"
   ]
  },
  {
   "cell_type": "markdown",
   "metadata": {
    "collapsed": true
   },
   "source": [
    "# True gradient"
   ]
  },
  {
   "cell_type": "code",
   "execution_count": 7,
   "metadata": {
    "collapsed": true
   },
   "outputs": [],
   "source": [
    "bern_experiment = bern_lib.BernoulliExperiments(p0, d)"
   ]
  },
  {
   "cell_type": "code",
   "execution_count": 8,
   "metadata": {
    "collapsed": false
   },
   "outputs": [],
   "source": [
    "obj_class_reinforce = pm_lib.PartialMarginalizationREINFORCE(\n",
    "                        f_z = bern_experiment.get_loss_from_draw_i,\n",
    "                        var_params = deepcopy(phi0),\n",
    "                        get_log_q_from_var_params = bern_experiment.get_bernoulli_log_prob_vec)"
   ]
  },
  {
   "cell_type": "code",
   "execution_count": 9,
   "metadata": {
    "collapsed": true
   },
   "outputs": [],
   "source": [
    "obj_class_reinforce.set_var_params(deepcopy(phi0))"
   ]
  },
  {
   "cell_type": "code",
   "execution_count": 10,
   "metadata": {
    "collapsed": true
   },
   "outputs": [],
   "source": [
    "optimizer.zero_grad()"
   ]
  },
  {
   "cell_type": "code",
   "execution_count": 11,
   "metadata": {
    "collapsed": false
   },
   "outputs": [],
   "source": [
    "loss = obj_class_reinforce.get_full_loss(diffble=True)"
   ]
  },
  {
   "cell_type": "code",
   "execution_count": 12,
   "metadata": {
    "collapsed": false
   },
   "outputs": [],
   "source": [
    "loss.backward()"
   ]
  },
  {
   "cell_type": "code",
   "execution_count": 13,
   "metadata": {
    "collapsed": false
   },
   "outputs": [
    {
     "name": "stdout",
     "output_type": "stream",
     "text": [
      "tensor(1.00000e-02 *\n",
      "       [-4.5000])\n"
     ]
    }
   ],
   "source": [
    "true_grad = deepcopy(obj_class_reinforce.var_params.grad)\n",
    "print(true_grad)"
   ]
  },
  {
   "cell_type": "code",
   "execution_count": 14,
   "metadata": {
    "collapsed": true
   },
   "outputs": [],
   "source": [
    "# analytically integrate REINFORCE gradient: should recover the true gradient"
   ]
  },
  {
   "cell_type": "code",
   "execution_count": 15,
   "metadata": {
    "collapsed": false
   },
   "outputs": [],
   "source": [
    "obj_class_reinforce.set_var_params(deepcopy(phi0))\n",
    "optimizer.zero_grad()\n",
    "ps_loss = obj_class_reinforce.get_partial_marginal_loss(alpha = 0.0, topk = 8)"
   ]
  },
  {
   "cell_type": "code",
   "execution_count": 16,
   "metadata": {
    "collapsed": false
   },
   "outputs": [
    {
     "name": "stdout",
     "output_type": "stream",
     "text": [
      "tensor(1.00000e-02 *\n",
      "       [-4.5000])\n"
     ]
    }
   ],
   "source": [
    "ps_loss.backward()\n",
    "reinforce_analytic_grad = deepcopy(obj_class_reinforce.var_params.grad)\n",
    "print(reinforce_analytic_grad)"
   ]
  },
  {
   "cell_type": "code",
   "execution_count": 17,
   "metadata": {
    "collapsed": true
   },
   "outputs": [],
   "source": [
    "assert reinforce_analytic_grad == true_grad"
   ]
  },
  {
   "cell_type": "code",
   "execution_count": 18,
   "metadata": {
    "collapsed": false
   },
   "outputs": [],
   "source": [
    "# Function to sample the gradient from a given estimator \n",
    "\n",
    "def sample_gradient(phi0, obj_class_reinforce, topk, alpha, n_samples = 10000):\n",
    "    params = [phi0]\n",
    "    optimizer = optim.SGD(params, lr = 1.0)\n",
    "\n",
    "    grad_array = torch.zeros(n_samples)\n",
    "    \n",
    "    for i in range(n_samples): \n",
    "        obj_class_reinforce.set_var_params(deepcopy(phi0))\n",
    "        optimizer.zero_grad()\n",
    "        ps_loss = obj_class_reinforce.get_partial_marginal_loss(alpha = alpha, topk = topk)\n",
    "        ps_loss.backward()\n",
    "        \n",
    "        grad_array[i] = obj_class_reinforce.var_params.grad\n",
    "\n",
    "        \n",
    "    return grad_array"
   ]
  },
  {
   "cell_type": "markdown",
   "metadata": {
    "collapsed": true
   },
   "source": [
    "# Reinforce gradient"
   ]
  },
  {
   "cell_type": "code",
   "execution_count": 20,
   "metadata": {
    "collapsed": false
   },
   "outputs": [],
   "source": [
    "n_samples = 10000\n",
    "reinforce_grads = sample_gradient(phi0, obj_class_reinforce, \n",
    "                                  topk = 0, \n",
    "                                  alpha = 0., \n",
    "                                  n_samples = n_samples)"
   ]
  },
  {
   "cell_type": "code",
   "execution_count": 21,
   "metadata": {
    "collapsed": false,
    "scrolled": true
   },
   "outputs": [
    {
     "name": "stdout",
     "output_type": "stream",
     "text": [
      "true_grad:  [-0.04500001]\n",
      "mean reinforce grad:  -0.057431042\n",
      "variance:  0.43400547\n",
      "scaled error:  0.019763729\n"
     ]
    }
   ],
   "source": [
    "print('true_grad: ', true_grad.numpy())\n",
    "print('mean reinforce grad: ', torch.mean(reinforce_grads).numpy())\n",
    "print('variance: ', torch.var(reinforce_grads).numpy())\n",
    "\n",
    "print('scaled error: ', (torch.std(reinforce_grads) / np.sqrt(n_samples) * 3).numpy())"
   ]
  },
  {
   "cell_type": "code",
   "execution_count": 22,
   "metadata": {
    "collapsed": false,
    "scrolled": false
   },
   "outputs": [
    {
     "data": {
      "text/plain": [
       "Text(0.5,0,'reinforce gradients')"
      ]
     },
     "execution_count": 22,
     "metadata": {},
     "output_type": "execute_result"
    },
    {
     "data": {
      "image/png": "[encoded data removed]",
      "text/plain": [
       "<Figure size 432x288 with 1 Axes>"
      ]
     },
     "metadata": {},
     "output_type": "display_data"
    }
   ],
   "source": [
    "plt.hist(reinforce_grads)\n",
    "plt.axvline(x=true_grad, color = 'orange') # true gradient \n",
    "\n",
    "plt.xlabel('reinforce gradients')"
   ]
  },
  {
   "cell_type": "code",
   "execution_count": null,
   "metadata": {
    "collapsed": true
   },
   "outputs": [],
   "source": []
  },
  {
   "cell_type": "markdown",
   "metadata": {},
   "source": [
    "# Partial marginalization"
   ]
  },
  {
   "cell_type": "code",
   "execution_count": 24,
   "metadata": {
    "collapsed": false
   },
   "outputs": [
    {
     "name": "stdout",
     "output_type": "stream",
     "text": [
      "tensor([ 0.])\n"
     ]
    }
   ],
   "source": [
    "print(phi0)"
   ]
  },
  {
   "cell_type": "code",
   "execution_count": 31,
   "metadata": {
    "code_folding": [],
    "collapsed": false
   },
   "outputs": [
    {
     "name": "stdout",
     "output_type": "stream",
     "text": [
      "topk = 0\n",
      "mean reinforce grad:  -0.045547545\n",
      "variance:  0.43163463\n",
      "topk = 1\n",
      "mean reinforce grad:  -0.03286963\n",
      "variance:  0.24368902\n",
      "topk = 2\n",
      "mean reinforce grad:  -0.052467234\n",
      "variance:  0.20608073\n",
      "topk = 3\n",
      "mean reinforce grad:  -0.04680873\n",
      "variance:  0.16318353\n",
      "topk = 4\n",
      "mean reinforce grad:  -0.040008154\n",
      "variance:  0.12492949\n",
      "topk = 5\n",
      "mean reinforce grad:  -0.04510875\n",
      "variance:  0.00036480842\n",
      "topk = 6\n",
      "mean reinforce grad:  -0.04493475\n",
      "variance:  0.00012657091\n",
      "topk = 7\n",
      "mean reinforce grad:  -0.04500001\n",
      "variance:  0.0\n",
      "topk = 8\n",
      "mean reinforce grad:  -0.04500001\n",
      "variance:  0.0\n"
     ]
    }
   ],
   "source": [
    "n_samples = 10000\n",
    "\n",
    "mixed_grads_array = torch.zeros((2**d + 1, n_samples))\n",
    "\n",
    "for i in range(0, 2**d + 1): \n",
    "    grads = sample_gradient(phi0, obj_class_reinforce, \n",
    "                                  topk = i, \n",
    "                                  alpha = 0., \n",
    "                                  n_samples = n_samples)\n",
    "    \n",
    "    mixed_grads_array[i, :] = grads\n",
    "    \n",
    "    print('topk = {}'.format(i))\n",
    "    print('mean reinforce grad: ', torch.mean(grads).numpy())\n",
    "    print('variance: ', torch.var(grads).numpy())\n"
   ]
  },
  {
   "cell_type": "code",
   "execution_count": 32,
   "metadata": {
    "collapsed": false,
    "scrolled": true
   },
   "outputs": [
    {
     "data": {
      "image/png": "[encoded data removed]",
      "text/plain": [
       "<Figure size 432x288 with 1 Axes>"
      ]
     },
     "metadata": {},
     "output_type": "display_data"
    },
    {
     "data": {
      "image/png": "[encoded data removed]",
      "text/plain": [
       "<Figure size 432x288 with 1 Axes>"
      ]
     },
     "metadata": {},
     "output_type": "display_data"
    },
    {
     "data": {
      "image/png": "[encoded data removed]",
      "text/plain": [
       "<Figure size 432x288 with 1 Axes>"
      ]
     },
     "metadata": {},
     "output_type": "display_data"
    },
    {
     "data": {
      "image/png": "[encoded data removed]",
      "text/plain": [
       "<Figure size 432x288 with 1 Axes>"
      ]
     },
     "metadata": {},
     "output_type": "display_data"
    },
    {
     "data": {
      "image/png": "[encoded data removed]",
      "text/plain": [
       "<Figure size 432x288 with 1 Axes>"
      ]
     },
     "metadata": {},
     "output_type": "display_data"
    },
    {
     "data": {
      "image/png": "[encoded data removed]",
      "text/plain": [
       "<Figure size 432x288 with 1 Axes>"
      ]
     },
     "metadata": {},
     "output_type": "display_data"
    },
    {
     "data": {
      "image/png": "[encoded data removed]",
      "text/plain": [
       "<Figure size 432x288 with 1 Axes>"
      ]
     },
     "metadata": {},
     "output_type": "display_data"
    }
   ],
   "source": [
    "# Lets look at the histogram of the distribution of \n",
    "# the gradient estimates\n",
    "\n",
    "for i in range(1, 2**d): \n",
    "    plt.figure()\n",
    "    plt.hist(mixed_grads_array[i-1, :])\n",
    "    plt.axvline(x=true_grad, color = 'orange') # true gradient \n",
    "    \n",
    "    plt.title('num_reinforced = {}'.format(i))\n",
    "    plt.xlabel('gradients')"
   ]
  },
  {
   "cell_type": "code",
   "execution_count": 36,
   "metadata": {
    "collapsed": false
   },
   "outputs": [
    {
     "data": {
      "text/plain": [
       "Text(0.5,0,'num_reinforced')"
      ]
     },
     "execution_count": 36,
     "metadata": {},
     "output_type": "execute_result"
    },
    {
     "data": {
      "image/png": "[encoded data removed]",
      "text/plain": [
       "<Figure size 432x288 with 1 Axes>"
      ]
     },
     "metadata": {},
     "output_type": "display_data"
    }
   ],
   "source": [
    "# summarize distribution all on the same plot\n",
    "# Error bars are 3 * st. error of the distribution \n",
    "\n",
    "mixed_grads_means = np.mean(mixed_grads_array.numpy(), axis = 1)\n",
    "mixed_grads_stds = np.std(mixed_grads_array.numpy(), axis = 1)\n",
    "\n",
    "plt.errorbar(np.arange(0, 2**d + 1), \n",
    "             mixed_grads_means,\n",
    "             yerr= mixed_grads_stds * 3 / np.sqrt(n_samples))\n",
    "\n",
    "plt.plot(np.linspace(0, 2**d), true_grad.numpy() * np.ones(50), '--')\n",
    "\n",
    "plt.ylabel('gradient')\n",
    "plt.xlabel('num_reinforced')"
   ]
  },
  {
   "cell_type": "code",
   "execution_count": 38,
   "metadata": {
    "collapsed": false
   },
   "outputs": [
    {
     "data": {
      "text/plain": [
       "[<matplotlib.lines.Line2D at 0x7fc3a855f9b0>]"
      ]
     },
     "execution_count": 38,
     "metadata": {},
     "output_type": "execute_result"
    },
    {
     "data": {
      "image/png": "[encoded data removed]",
      "text/plain": [
       "<Figure size 432x288 with 1 Axes>"
      ]
     },
     "metadata": {},
     "output_type": "display_data"
    }
   ],
   "source": [
    "plt.plot(np.arange(0, 2**d + 1), mixed_grads_stds, '+')"
   ]
  },
  {
   "cell_type": "code",
   "execution_count": null,
   "metadata": {
    "collapsed": true
   },
   "outputs": [],
   "source": []
  },
  {
   "cell_type": "code",
   "execution_count": 34,
   "metadata": {
    "collapsed": true
   },
   "outputs": [],
   "source": [
    "# The effect of partial marginalization is better as the variational distribution becomes more concentrated"
   ]
  },
  {
   "cell_type": "code",
   "execution_count": 39,
   "metadata": {
    "collapsed": false
   },
   "outputs": [
    {
     "data": {
      "text/plain": [
       "tensor([ 3.])"
      ]
     },
     "execution_count": 39,
     "metadata": {},
     "output_type": "execute_result"
    }
   ],
   "source": [
    "phi0 = torch.Tensor([3.0])\n",
    "phi0.requires_grad_(True)"
   ]
  },
  {
   "cell_type": "code",
   "execution_count": 43,
   "metadata": {
    "collapsed": false
   },
   "outputs": [
    {
     "name": "stdout",
     "output_type": "stream",
     "text": [
      "tensor([ 0.0001,  0.0021,  0.0021,  0.0430,  0.0021,  0.0430,  0.0430,\n",
      "         0.8644])\n"
     ]
    }
   ],
   "source": [
    "obj_class_reinforce.set_var_params(deepcopy(phi0))\n",
    "_ = obj_class_reinforce.get_log_q()\n",
    "print(obj_class_reinforce.class_weights)"
   ]
  },
  {
   "cell_type": "code",
   "execution_count": 44,
   "metadata": {
    "collapsed": false
   },
   "outputs": [
    {
     "name": "stdout",
     "output_type": "stream",
     "text": [
      "tensor(1.00000e-03 *\n",
      "       [-8.1318])\n"
     ]
    }
   ],
   "source": [
    "optimizer.zero_grad()\n",
    "loss = obj_class_reinforce.get_full_loss(diffble=True)\n",
    "loss.backward()\n",
    "\n",
    "\n",
    "true_grad = deepcopy(obj_class_reinforce.var_params.grad)\n",
    "print(true_grad)"
   ]
  },
  {
   "cell_type": "code",
   "execution_count": 45,
   "metadata": {
    "collapsed": false
   },
   "outputs": [
    {
     "name": "stdout",
     "output_type": "stream",
     "text": [
      "tensor(1.00000e-03 *\n",
      "       [-8.1318])\n"
     ]
    }
   ],
   "source": [
    "obj_class_reinforce.set_var_params(deepcopy(phi0))\n",
    "optimizer.zero_grad()\n",
    "ps_loss = obj_class_reinforce.get_partial_marginal_loss(alpha = 0.0, topk = 8)\n",
    "\n",
    "ps_loss.backward()\n",
    "reinforce_analytic_grad = deepcopy(obj_class_reinforce.var_params.grad)\n",
    "print(reinforce_analytic_grad)"
   ]
  },
  {
   "cell_type": "code",
   "execution_count": 46,
   "metadata": {
    "collapsed": true
   },
   "outputs": [],
   "source": [
    "assert reinforce_analytic_grad == true_grad"
   ]
  },
  {
   "cell_type": "code",
   "execution_count": 47,
   "metadata": {
    "collapsed": true
   },
   "outputs": [],
   "source": [
    "# re-examine the effect of partial marginalization"
   ]
  },
  {
   "cell_type": "code",
   "execution_count": 50,
   "metadata": {
    "collapsed": false
   },
   "outputs": [
    {
     "name": "stdout",
     "output_type": "stream",
     "text": [
      "tensor([ 3.])\n"
     ]
    }
   ],
   "source": [
    "print(phi0)"
   ]
  },
  {
   "cell_type": "code",
   "execution_count": 51,
   "metadata": {
    "code_folding": [],
    "collapsed": false
   },
   "outputs": [
    {
     "name": "stdout",
     "output_type": "stream",
     "text": [
      "topk = 0\n",
      "mean reinforce grad:  -0.0049786186\n",
      "variance:  0.07278688\n",
      "topk = 1\n",
      "mean reinforce grad:  -0.0077354326\n",
      "variance:  0.0007697503\n",
      "topk = 2\n",
      "mean reinforce grad:  -0.008086975\n",
      "variance:  0.0004976325\n",
      "topk = 3\n",
      "mean reinforce grad:  -0.008334441\n",
      "variance:  0.0002703853\n",
      "topk = 4\n",
      "mean reinforce grad:  -0.008112884\n",
      "variance:  2.1061885e-06\n",
      "topk = 5\n",
      "mean reinforce grad:  -0.008144005\n",
      "variance:  1.0425847e-06\n",
      "topk = 6\n",
      "mean reinforce grad:  -0.008129552\n",
      "variance:  1.7602937e-07\n",
      "topk = 7\n",
      "mean reinforce grad:  -0.008131799\n",
      "variance:  0.0\n",
      "topk = 8\n",
      "mean reinforce grad:  -0.008131799\n",
      "variance:  0.0\n"
     ]
    }
   ],
   "source": [
    "n_samples = 10000\n",
    "\n",
    "mixed_grads_array = torch.zeros((2**d + 1, n_samples))\n",
    "\n",
    "for i in range(0, 2**d + 1): \n",
    "    grads = sample_gradient(phi0, obj_class_reinforce, \n",
    "                                  topk = i, \n",
    "                                  alpha = 0., \n",
    "                                  n_samples = n_samples)\n",
    "    \n",
    "    mixed_grads_array[i, :] = grads\n",
    "    \n",
    "    print('topk = {}'.format(i))\n",
    "    print('mean reinforce grad: ', torch.mean(grads).numpy())\n",
    "    print('variance: ', torch.var(grads).numpy())\n"
   ]
  },
  {
   "cell_type": "code",
   "execution_count": 52,
   "metadata": {
    "collapsed": false,
    "scrolled": true
   },
   "outputs": [
    {
     "data": {
      "image/png": "[encoded data removed]",
      "text/plain": [
       "<Figure size 432x288 with 1 Axes>"
      ]
     },
     "metadata": {},
     "output_type": "display_data"
    },
    {
     "data": {
      "image/png": "[encoded data removed]",
      "text/plain": [
       "<Figure size 432x288 with 1 Axes>"
      ]
     },
     "metadata": {},
     "output_type": "display_data"
    },
    {
     "data": {
      "image/png": "[encoded data removed]",
      "text/plain": [
       "<Figure size 432x288 with 1 Axes>"
      ]
     },
     "metadata": {},
     "output_type": "display_data"
    },
    {
     "data": {
      "image/png": "[encoded data removed]",
      "text/plain": [
       "<Figure size 432x288 with 1 Axes>"
      ]
     },
     "metadata": {},
     "output_type": "display_data"
    },
    {
     "data": {
      "image/png": "[encoded data removed]",
      "text/plain": [
       "<Figure size 432x288 with 1 Axes>"
      ]
     },
     "metadata": {},
     "output_type": "display_data"
    },
    {
     "data": {
      "image/png": "[encoded data removed]",
      "text/plain": [
       "<Figure size 432x288 with 1 Axes>"
      ]
     },
     "metadata": {},
     "output_type": "display_data"
    },
    {
     "data": {
      "image/png": "[encoded data removed]",
      "text/plain": [
       "<Figure size 432x288 with 1 Axes>"
      ]
     },
     "metadata": {},
     "output_type": "display_data"
    }
   ],
   "source": [
    "# Lets look at the histogram of the distribution of \n",
    "# the gradient estimates\n",
    "\n",
    "for i in range(1, 2**d): \n",
    "    plt.figure()\n",
    "    plt.hist(mixed_grads_array[i-1, :])\n",
    "    plt.axvline(x=true_grad, color = 'orange') # true gradient \n",
    "    \n",
    "    plt.title('num_reinforced = {}'.format(i))\n",
    "    plt.xlabel('gradients')"
   ]
  },
  {
   "cell_type": "code",
   "execution_count": 55,
   "metadata": {
    "collapsed": false
   },
   "outputs": [
    {
     "data": {
      "text/plain": [
       "Text(0.5,0,'number summed')"
      ]
     },
     "execution_count": 55,
     "metadata": {},
     "output_type": "execute_result"
    },
    {
     "data": {
      "image/png": "[encoded data removed]",
      "text/plain": [
       "<Figure size 432x288 with 1 Axes>"
      ]
     },
     "metadata": {},
     "output_type": "display_data"
    }
   ],
   "source": [
    "# summarize distribution all on the same plot\n",
    "# Error bars are 3 * st. error of the distribution \n",
    "\n",
    "mixed_grads_means = np.mean(mixed_grads_array.numpy(), axis = 1)\n",
    "mixed_grads_stds = np.std(mixed_grads_array.numpy(), axis = 1)\n",
    "\n",
    "plt.errorbar(np.arange(0, 2**d + 1), \n",
    "             mixed_grads_means,\n",
    "             yerr= mixed_grads_stds * 3 / np.sqrt(n_samples))\n",
    "\n",
    "plt.plot(np.linspace(0, 2**d + 1), true_grad.numpy() * np.ones(50), '--')\n",
    "\n",
    "plt.ylabel('gradient')\n",
    "plt.xlabel('number summed')"
   ]
  },
  {
   "cell_type": "code",
   "execution_count": 56,
   "metadata": {
    "collapsed": false
   },
   "outputs": [
    {
     "data": {
      "text/plain": [
       "[<matplotlib.lines.Line2D at 0x7fc3a8942c18>]"
      ]
     },
     "execution_count": 56,
     "metadata": {},
     "output_type": "execute_result"
    },
    {
     "data": {
      "image/png": "[encoded data removed]",
      "text/plain": [
       "<Figure size 432x288 with 1 Axes>"
      ]
     },
     "metadata": {},
     "output_type": "display_data"
    }
   ],
   "source": [
    "plt.plot(np.arange(0, 2**d + 1), mixed_grads_stds, '+')"
   ]
  },
  {
   "cell_type": "code",
   "execution_count": null,
   "metadata": {
    "collapsed": true
   },
   "outputs": [],
   "source": []
  },
  {
   "cell_type": "code",
   "execution_count": null,
   "metadata": {
    "collapsed": true
   },
   "outputs": [],
   "source": []
  }
 ],
 "metadata": {
  "kernelspec": {
   "display_name": "Python (pytorch_04)",
   "language": "python",
   "name": "pytorch_update"
  },
  "language_info": {
   "codemirror_mode": {
    "name": "ipython",
    "version": 3
   },
   "file_extension": ".py",
   "mimetype": "text/x-python",
   "name": "python",
   "nbconvert_exporter": "python",
   "pygments_lexer": "ipython3",
   "version": "3.6.5"
  }
 },
 "nbformat": 4,
 "nbformat_minor": 2
}
