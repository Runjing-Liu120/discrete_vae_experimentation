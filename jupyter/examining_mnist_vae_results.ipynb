{
 "cells": [
  {
   "cell_type": "code",
   "execution_count": 1,
   "metadata": {
    "collapsed": false
   },
   "outputs": [],
   "source": [
    "import numpy as np\n",
    "\n",
    "import matplotlib.pyplot as plt\n",
    "%matplotlib inline  \n",
    "\n",
    "import torch\n",
    "import torch.nn as nn\n",
    "\n",
    "\n",
    "import torch.optim as optim\n",
    "\n",
    "import sys\n",
    "sys.path.insert(0, '../libraries/')\n",
    "\n",
    "import mnist_data_lib\n",
    "import mnist_vae_lib\n",
    "import common_utils"
   ]
  },
  {
   "cell_type": "markdown",
   "metadata": {},
   "source": [
    "# Load data"
   ]
  },
  {
   "cell_type": "code",
   "execution_count": 2,
   "metadata": {
    "collapsed": true
   },
   "outputs": [],
   "source": [
    "seed = 9033"
   ]
  },
  {
   "cell_type": "code",
   "execution_count": 3,
   "metadata": {
    "collapsed": false
   },
   "outputs": [
    {
     "name": "stdout",
     "output_type": "stream",
     "text": [
      "Loading data\n",
      "Done.\n"
     ]
    }
   ],
   "source": [
    "np.random.seed(seed)\n",
    "_ = torch.manual_seed(seed)\n",
    "\n",
    "# LOAD DATA\n",
    "print('Loading data')\n",
    "train_set_labeled, train_set_unlabeled, test_set = \\\n",
    "    mnist_data_lib.get_mnist_dataset_semisupervised(propn_sample = 1.0,\n",
    "                                                    propn_labeled = 0.1)\n",
    "\n",
    "train_loader_labeled = torch.utils.data.DataLoader(\n",
    "                 dataset=train_set_labeled,\n",
    "                 batch_size=20,\n",
    "                 shuffle=True)\n",
    "\n",
    "train_loader_unlabeled = torch.utils.data.DataLoader(\n",
    "                 dataset=train_set_unlabeled,\n",
    "                 batch_size=100,\n",
    "                 shuffle=True)\n",
    "\n",
    "test_loader = torch.utils.data.DataLoader(\n",
    "                dataset=test_set,\n",
    "                batch_size=100,\n",
    "                shuffle=False)\n",
    "\n",
    "for batch_idx, d in enumerate(train_loader_labeled):\n",
    "    data_labeled = d\n",
    "    break\n",
    "\n",
    "for batch_idx, d in enumerate(train_loader_unlabeled):\n",
    "    data_unlabeled = d\n",
    "    break\n",
    "    \n",
    "for batch_idx, d in enumerate(test_loader):\n",
    "    test_data = d\n",
    "    break\n",
    "\n",
    "\n",
    "print('Done.')"
   ]
  },
  {
   "cell_type": "code",
   "execution_count": 4,
   "metadata": {
    "collapsed": false,
    "scrolled": true
   },
   "outputs": [
    {
     "data": {
      "text/plain": [
       "<matplotlib.image.AxesImage at 0x7fe91f7eb2e8>"
      ]
     },
     "execution_count": 4,
     "metadata": {},
     "output_type": "execute_result"
    },
    {
     "data": {
      "image/png": "[encoded data removed]",
      "text/plain": [
       "<Figure size 288x288 with 1 Axes>"
      ]
     },
     "metadata": {},
     "output_type": "display_data"
    }
   ],
   "source": [
    "plt.matshow(data_labeled['image'][0, :, :])"
   ]
  },
  {
   "cell_type": "code",
   "execution_count": 5,
   "metadata": {
    "collapsed": false
   },
   "outputs": [],
   "source": [
    "slen = data_labeled['image'].shape[-1]"
   ]
  },
  {
   "cell_type": "markdown",
   "metadata": {},
   "source": [
    "# Define VAE"
   ]
  },
  {
   "cell_type": "code",
   "execution_count": 6,
   "metadata": {
    "collapsed": true
   },
   "outputs": [],
   "source": [
    "latent_dim = 5\n",
    "n_classes = 10"
   ]
  },
  {
   "cell_type": "code",
   "execution_count": 7,
   "metadata": {
    "collapsed": false
   },
   "outputs": [],
   "source": [
    "vae = mnist_vae_lib.HandwritingVAE(latent_dim = latent_dim, \n",
    "                                    n_classes = n_classes)"
   ]
  },
  {
   "cell_type": "code",
   "execution_count": 8,
   "metadata": {
    "collapsed": false
   },
   "outputs": [
    {
     "ename": "RuntimeError",
     "evalue": "Error(s) in loading state_dict for MLPEncoder:\n\tWhile copying the parameter named \"fc1.weight\", whose dimensions in the model are torch.Size([128, 794]) and whose dimensions in the checkpoint are torch.Size([128, 784]).",
     "output_type": "error",
     "traceback": [
      "\u001b[0;31m---------------------------------------------------------------------------\u001b[0m",
      "\u001b[0;31mRuntimeError\u001b[0m                              Traceback (most recent call last)",
      "\u001b[0;32m<ipython-input-8-642bb381a291>\u001b[0m in \u001b[0;36m<module>\u001b[0;34m()\u001b[0m\n\u001b[1;32m      5\u001b[0m \u001b[0mclassifier_file\u001b[0m \u001b[0;34m=\u001b[0m \u001b[0;34m'../mnist_vae_results_aws/mnist_vae3_semisupervised_classifier_epoch30'\u001b[0m\u001b[0;34m\u001b[0m\u001b[0m\n\u001b[1;32m      6\u001b[0m vae.encoder.load_state_dict(torch.load(enc_file,\n\u001b[0;32m----> 7\u001b[0;31m                                map_location=lambda storage, loc: storage))\n\u001b[0m\u001b[1;32m      8\u001b[0m \u001b[0;34m\u001b[0m\u001b[0m\n\u001b[1;32m      9\u001b[0m vae.decoder.load_state_dict(torch.load(dec_file,\n",
      "\u001b[0;32m~/anaconda3/envs/pytorch_update/lib/python3.6/site-packages/torch/nn/modules/module.py\u001b[0m in \u001b[0;36mload_state_dict\u001b[0;34m(self, state_dict, strict)\u001b[0m\n\u001b[1;32m    719\u001b[0m         \u001b[0;32mif\u001b[0m \u001b[0mlen\u001b[0m\u001b[0;34m(\u001b[0m\u001b[0merror_msgs\u001b[0m\u001b[0;34m)\u001b[0m \u001b[0;34m>\u001b[0m \u001b[0;36m0\u001b[0m\u001b[0;34m:\u001b[0m\u001b[0;34m\u001b[0m\u001b[0m\n\u001b[1;32m    720\u001b[0m             raise RuntimeError('Error(s) in loading state_dict for {}:\\n\\t{}'.format(\n\u001b[0;32m--> 721\u001b[0;31m                                self.__class__.__name__, \"\\n\\t\".join(error_msgs)))\n\u001b[0m\u001b[1;32m    722\u001b[0m \u001b[0;34m\u001b[0m\u001b[0m\n\u001b[1;32m    723\u001b[0m     \u001b[0;32mdef\u001b[0m \u001b[0mparameters\u001b[0m\u001b[0;34m(\u001b[0m\u001b[0mself\u001b[0m\u001b[0;34m)\u001b[0m\u001b[0;34m:\u001b[0m\u001b[0;34m\u001b[0m\u001b[0m\n",
      "\u001b[0;31mRuntimeError\u001b[0m: Error(s) in loading state_dict for MLPEncoder:\n\tWhile copying the parameter named \"fc1.weight\", whose dimensions in the model are torch.Size([128, 794]) and whose dimensions in the checkpoint are torch.Size([128, 784])."
     ]
    }
   ],
   "source": [
    "# Load results\n",
    "\n",
    "enc_file = \"../mnist_vae_results_aws/mnist_vae3_semisupervised_enc_epoch30\"\n",
    "dec_file = '../mnist_vae_results_aws/mnist_vae3_semisupervised_dec_epoch30'\n",
    "classifier_file = '../mnist_vae_results_aws/mnist_vae3_semisupervised_classifier_epoch30'\n",
    "vae.encoder.load_state_dict(torch.load(enc_file,\n",
    "                               map_location=lambda storage, loc: storage))\n",
    "\n",
    "vae.decoder.load_state_dict(torch.load(dec_file,\n",
    "                               map_location=lambda storage, loc: storage))\n",
    "\n",
    "vae.classifier.load_state_dict(torch.load(classifier_file,\n",
    "                               map_location=lambda storage, loc: storage))\n",
    "\n",
    "\n",
    "vae.eval()"
   ]
  },
  {
   "cell_type": "code",
   "execution_count": null,
   "metadata": {
    "collapsed": false,
    "scrolled": true
   },
   "outputs": [],
   "source": [
    "print(vae.parameters)"
   ]
  },
  {
   "cell_type": "code",
   "execution_count": null,
   "metadata": {
    "collapsed": false
   },
   "outputs": [],
   "source": [
    "loss_array = np.loadtxt('../mnist_vae_results_aws/mnist_vae2_semisupervisedloss_array.txt')"
   ]
  },
  {
   "cell_type": "code",
   "execution_count": null,
   "metadata": {
    "collapsed": false
   },
   "outputs": [],
   "source": [
    "plt.plot(loss_array[0, :], loss_array[1, :], '+')\n",
    "plt.plot(loss_array[0, :], loss_array[2, :], '+')\n",
    "plt.xlabel('epoch')\n",
    "plt.ylabel('loss')\n",
    "plt.legend(('train loss', 'test_loss'))"
   ]
  },
  {
   "cell_type": "code",
   "execution_count": null,
   "metadata": {
    "collapsed": false,
    "scrolled": true
   },
   "outputs": [],
   "source": [
    "vae.loss(data_unlabeled['image'])[0]"
   ]
  },
  {
   "cell_type": "code",
   "execution_count": null,
   "metadata": {
    "collapsed": false
   },
   "outputs": [],
   "source": [
    "vae.loss(test_data['image'])[0]"
   ]
  },
  {
   "cell_type": "code",
   "execution_count": null,
   "metadata": {
    "collapsed": true
   },
   "outputs": [],
   "source": [
    "# check a few train images"
   ]
  },
  {
   "cell_type": "code",
   "execution_count": null,
   "metadata": {
    "collapsed": false
   },
   "outputs": [],
   "source": [
    "latent_means, latent_std, latent_samples, class_weights = \\\n",
    "    vae.encoder_forward(data_unlabeled['image'])\n",
    "\n",
    "z_ind = torch.argmax(class_weights, dim = 1)\n",
    "    \n",
    "image_mu, image_std = vae.decoder_forward(latent_means, z_ind)"
   ]
  },
  {
   "cell_type": "code",
   "execution_count": null,
   "metadata": {
    "collapsed": false
   },
   "outputs": [],
   "source": [
    "class_weights"
   ]
  },
  {
   "cell_type": "code",
   "execution_count": null,
   "metadata": {
    "collapsed": false
   },
   "outputs": [],
   "source": [
    "for i in range(10): \n",
    "    plt.matshow(image_mu[i, :, :].detach())\n",
    "    plt.title('true class label: {} \\n predicted class label: {}\\n'.format(data_unlabeled['label'][i], z_ind[i]))"
   ]
  },
  {
   "cell_type": "code",
   "execution_count": null,
   "metadata": {
    "collapsed": true
   },
   "outputs": [],
   "source": [
    "# check a few test images "
   ]
  },
  {
   "cell_type": "code",
   "execution_count": null,
   "metadata": {
    "collapsed": false
   },
   "outputs": [],
   "source": [
    "latent_means, latent_std, latent_samples, class_weights = \\\n",
    "    vae.encoder_forward(test_data['image'])\n",
    "\n",
    "z_ind = torch.argmax(class_weights, dim = 1)\n",
    "\n",
    "image_mu, image_std = vae.decoder_forward(latent_means, z_ind)"
   ]
  },
  {
   "cell_type": "code",
   "execution_count": null,
   "metadata": {
    "collapsed": false
   },
   "outputs": [],
   "source": [
    "for i in range(10): \n",
    "    plt.matshow(image_mu[i, :, :].detach())\n",
    "    plt.title('true class label: {} \\n predicted class label: {}\\n'.format(test_data['label'][i], z_ind[i]))"
   ]
  },
  {
   "cell_type": "code",
   "execution_count": null,
   "metadata": {
    "collapsed": true
   },
   "outputs": [],
   "source": []
  },
  {
   "cell_type": "code",
   "execution_count": null,
   "metadata": {
    "collapsed": true
   },
   "outputs": [],
   "source": [
    "_, _, _, class_weights_unlab = \\\n",
    "    vae.encoder_forward(data_unlabeled['image'])\n",
    "\n",
    "_, _, _, class_weights_lab = \\\n",
    "    vae.encoder_forward(data_labeled['image'])\n",
    "\n",
    "_, _, _, class_weights_test = \\\n",
    "    vae.encoder_forward(test_data['image'])\n"
   ]
  },
  {
   "cell_type": "code",
   "execution_count": null,
   "metadata": {
    "collapsed": false
   },
   "outputs": [],
   "source": [
    "vae.get_class_label_cross_entropy(class_weights_unlab, data_unlabeled['label']) / len(data_unlabeled['label'])"
   ]
  },
  {
   "cell_type": "code",
   "execution_count": null,
   "metadata": {
    "collapsed": false
   },
   "outputs": [],
   "source": [
    "vae.get_class_label_cross_entropy(class_weights_lab, data_labeled['label']) / len(data_labeled['label'])"
   ]
  },
  {
   "cell_type": "code",
   "execution_count": null,
   "metadata": {
    "collapsed": false
   },
   "outputs": [],
   "source": [
    "vae.get_class_label_cross_entropy(class_weights_test, test_data['label'])  / len(test_data['label'])"
   ]
  },
  {
   "cell_type": "code",
   "execution_count": null,
   "metadata": {
    "collapsed": false
   },
   "outputs": [],
   "source": [
    "class_weights_test.shape"
   ]
  },
  {
   "cell_type": "code",
   "execution_count": null,
   "metadata": {
    "collapsed": false
   },
   "outputs": [],
   "source": [
    "class_weights_lab.shape"
   ]
  },
  {
   "cell_type": "code",
   "execution_count": null,
   "metadata": {
    "collapsed": false
   },
   "outputs": [],
   "source": [
    "plt.matshow(class_weights_lab.detach())"
   ]
  },
  {
   "cell_type": "code",
   "execution_count": null,
   "metadata": {
    "collapsed": false
   },
   "outputs": [],
   "source": [
    "common_utils.get_one_hot_encoding_from_int(test_data['label'], vae.encoder.n_classes).shape"
   ]
  },
  {
   "cell_type": "code",
   "execution_count": null,
   "metadata": {
    "collapsed": true
   },
   "outputs": [],
   "source": []
  }
 ],
 "metadata": {
  "kernelspec": {
   "display_name": "Python (pytorch_04)",
   "language": "python",
   "name": "pytorch_update"
  },
  "language_info": {
   "codemirror_mode": {
    "name": "ipython",
    "version": 3
   },
   "file_extension": ".py",
   "mimetype": "text/x-python",
   "name": "python",
   "nbconvert_exporter": "python",
   "pygments_lexer": "ipython3",
   "version": "3.6.5"
  }
 },
 "nbformat": 4,
 "nbformat_minor": 2
}
