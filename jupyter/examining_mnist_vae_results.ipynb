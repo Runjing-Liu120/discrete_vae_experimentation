{
 "cells": [
  {
   "cell_type": "code",
   "execution_count": 1,
   "metadata": {
    "collapsed": false
   },
   "outputs": [],
   "source": [
    "import numpy as np\n",
    "\n",
    "import matplotlib.pyplot as plt\n",
    "%matplotlib inline  \n",
    "\n",
    "import torch\n",
    "import torch.nn as nn\n",
    "\n",
    "\n",
    "import torch.optim as optim\n",
    "\n",
    "import sys\n",
    "sys.path.insert(0, '../libraries/')\n",
    "\n",
    "import mnist_data_lib\n",
    "import mnist_vae_lib\n",
    "import common_utils"
   ]
  },
  {
   "cell_type": "markdown",
   "metadata": {},
   "source": [
    "# Load data"
   ]
  },
  {
   "cell_type": "code",
   "execution_count": 2,
   "metadata": {
    "collapsed": false
   },
   "outputs": [],
   "source": [
    "train_set, test_set = mnist_data_lib.load_mnist_data()"
   ]
  },
  {
   "cell_type": "code",
   "execution_count": 3,
   "metadata": {
    "collapsed": false,
    "scrolled": true
   },
   "outputs": [
    {
     "data": {
      "text/plain": [
       "<matplotlib.image.AxesImage at 0x7fe082cdc5f8>"
      ]
     },
     "execution_count": 3,
     "metadata": {},
     "output_type": "execute_result"
    },
    {
     "data": {
      "image/png": "[encoded data removed]",
      "text/plain": [
       "<Figure size 288x288 with 1 Axes>"
      ]
     },
     "metadata": {},
     "output_type": "display_data"
    }
   ],
   "source": [
    "plt.matshow(train_set.train_data[0])"
   ]
  },
  {
   "cell_type": "code",
   "execution_count": 4,
   "metadata": {
    "collapsed": false
   },
   "outputs": [],
   "source": [
    "slen = train_set.train_data[0].shape[0]"
   ]
  },
  {
   "cell_type": "markdown",
   "metadata": {},
   "source": [
    "# Get data loaders"
   ]
  },
  {
   "cell_type": "code",
   "execution_count": 5,
   "metadata": {
    "collapsed": false
   },
   "outputs": [],
   "source": [
    "batchsize = 20\n",
    "\n",
    "train_loader = torch.utils.data.DataLoader(\n",
    "                 dataset=train_set,\n",
    "                 batch_size=batchsize,\n",
    "                 shuffle=True)\n",
    "test_loader = torch.utils.data.DataLoader(\n",
    "                dataset=test_set,\n",
    "                batch_size=batchsize,\n",
    "                shuffle=False)\n"
   ]
  },
  {
   "cell_type": "code",
   "execution_count": 6,
   "metadata": {
    "collapsed": false
   },
   "outputs": [],
   "source": [
    "for batch_idx, d in enumerate(train_loader):\n",
    "    data = d\n",
    "    break"
   ]
  },
  {
   "cell_type": "markdown",
   "metadata": {},
   "source": [
    "# Define VAE"
   ]
  },
  {
   "cell_type": "code",
   "execution_count": 7,
   "metadata": {
    "collapsed": true
   },
   "outputs": [],
   "source": [
    "latent_dim = 5\n",
    "n_classes = 10"
   ]
  },
  {
   "cell_type": "code",
   "execution_count": 8,
   "metadata": {
    "collapsed": false
   },
   "outputs": [],
   "source": [
    "vae = mnist_vae_lib.HandwritingVAE(latent_dim = latent_dim, \n",
    "                                    n_classes = n_classes)"
   ]
  },
  {
   "cell_type": "code",
   "execution_count": 9,
   "metadata": {
    "collapsed": false
   },
   "outputs": [
    {
     "data": {
      "text/plain": [
       "HandwritingVAE(\n",
       "  (encoder): MLPEncoder(\n",
       "    (fc1): Linear(in_features=784, out_features=500, bias=True)\n",
       "    (fc2): Linear(in_features=500, out_features=784, bias=True)\n",
       "    (fc3): Linear(in_features=784, out_features=19, bias=True)\n",
       "  )\n",
       "  (decoder): MLPConditionalDecoder(\n",
       "    (fc1): Linear(in_features=15, out_features=784, bias=True)\n",
       "    (fc2): Linear(in_features=784, out_features=500, bias=True)\n",
       "    (fc3): Linear(in_features=500, out_features=1568, bias=True)\n",
       "  )\n",
       ")"
      ]
     },
     "execution_count": 9,
     "metadata": {},
     "output_type": "execute_result"
    }
   ],
   "source": [
    "# Load results\n",
    "\n",
    "enc_file = \"../mnist_vae_results_aws/mnist_vae_enc_final\"\n",
    "dec_file = '../mnist_vae_results_aws/mnist_vae_dec_final'\n",
    "\n",
    "vae.encoder.load_state_dict(torch.load(enc_file,\n",
    "                               map_location=lambda storage, loc: storage))\n",
    "\n",
    "vae.decoder.load_state_dict(torch.load(dec_file,\n",
    "                               map_location=lambda storage, loc: storage))\n",
    "\n",
    "vae.eval()"
   ]
  },
  {
   "cell_type": "code",
   "execution_count": 10,
   "metadata": {
    "collapsed": false,
    "scrolled": true
   },
   "outputs": [
    {
     "name": "stdout",
     "output_type": "stream",
     "text": [
      "<bound method Module.parameters of HandwritingVAE(\n",
      "  (encoder): MLPEncoder(\n",
      "    (fc1): Linear(in_features=784, out_features=500, bias=True)\n",
      "    (fc2): Linear(in_features=500, out_features=784, bias=True)\n",
      "    (fc3): Linear(in_features=784, out_features=19, bias=True)\n",
      "  )\n",
      "  (decoder): MLPConditionalDecoder(\n",
      "    (fc1): Linear(in_features=15, out_features=784, bias=True)\n",
      "    (fc2): Linear(in_features=784, out_features=500, bias=True)\n",
      "    (fc3): Linear(in_features=500, out_features=1568, bias=True)\n",
      "  )\n",
      ")>\n"
     ]
    }
   ],
   "source": [
    "print(vae.parameters)"
   ]
  },
  {
   "cell_type": "code",
   "execution_count": 23,
   "metadata": {
    "collapsed": false
   },
   "outputs": [],
   "source": [
    "latent_means, latent_std, latent_samples, class_weights = \\\n",
    "            vae.encoder_forward(data[0])"
   ]
  },
  {
   "cell_type": "code",
   "execution_count": 24,
   "metadata": {
    "collapsed": false
   },
   "outputs": [
    {
     "data": {
      "text/plain": [
       "tensor(1.00000e-02 *\n",
       "       [[ 0.5696,  0.3213, -0.1933, -0.4892, -0.0272],\n",
       "        [ 0.3313, -1.1851,  1.1198, -0.7523, -1.6754],\n",
       "        [ 1.0485, -0.6138,  1.2252, -0.1321, -1.0327],\n",
       "        [ 0.2498, -0.4777,  1.2095, -0.4127, -0.7255],\n",
       "        [-0.5650,  0.1522,  0.0756, -1.5688, -0.4521],\n",
       "        [ 0.9940, -0.2904,  0.3731, -0.3081, -1.3588],\n",
       "        [ 0.9852, -0.6018,  0.6824,  1.0933, -0.7458],\n",
       "        [ 0.4508, -0.8708, -0.1019,  0.3532, -0.0779],\n",
       "        [ 0.3123, -1.0131, -0.1414,  0.4708, -2.0110],\n",
       "        [ 1.5345, -0.1938,  0.9013,  1.2407,  0.4320],\n",
       "        [ 1.2451, -0.5528, -0.1080,  1.5408, -0.5895],\n",
       "        [ 0.7671,  0.4189,  1.1875, -0.2196,  0.5911],\n",
       "        [ 1.4290, -1.9096,  1.7853,  1.2548, -2.1458],\n",
       "        [ 1.2213, -3.2182,  1.7027,  0.0418, -1.9699],\n",
       "        [ 0.1524, -0.2636, -0.2069, -0.5272, -1.5212],\n",
       "        [ 0.8294, -0.2593, -0.1290,  0.9315,  1.2103],\n",
       "        [ 0.7321, -1.3258,  0.7284,  0.5430, -0.3883],\n",
       "        [ 1.1243, -0.2951,  0.6075,  0.2564, -0.2619],\n",
       "        [ 1.3570, -2.1773,  1.1320,  0.0382, -1.5413],\n",
       "        [-0.0243, -0.4176, -0.0261, -0.2619, -1.2431]])"
      ]
     },
     "execution_count": 24,
     "metadata": {},
     "output_type": "execute_result"
    }
   ],
   "source": [
    "latent_means"
   ]
  },
  {
   "cell_type": "code",
   "execution_count": 31,
   "metadata": {
    "collapsed": false
   },
   "outputs": [
    {
     "name": "stdout",
     "output_type": "stream",
     "text": [
      "tensor(1.00000e-35 *\n",
      "       8.1269)\n",
      "tensor(1.00000e-02 *\n",
      "       1.3384)\n",
      "tensor(54366.6758)\n",
      "tensor(54562.8555)\n",
      "tensor(53708.2734)\n",
      "tensor(55774.2109)\n",
      "tensor(54277.6133)\n",
      "tensor(53994.0234)\n",
      "tensor(53651.0195)\n",
      "tensor(-0.)\n"
     ]
    }
   ],
   "source": [
    "loss = 0.0\n",
    "for z in range(vae.encoder.n_classes):\n",
    "    batch_z = torch.ones(data[0].shape[0]) * z\n",
    "    image_mu, image_std = vae.decoder_forward(latent_samples, batch_z)\n",
    "\n",
    "    normal_loglik_z = common_utils.get_normal_loglik(data[0], image_mu,\n",
    "                                            image_std, scale = False)\n",
    "    if not(np.all(np.isfinite(normal_loglik_z.detach().cpu().numpy()))):\n",
    "        print(z)\n",
    "        print(image_std)\n",
    "        assert np.all(np.isfinite(normal_loglik_z.detach().cpu().numpy()))\n",
    "\n",
    "    foo = - (class_weights[:, z] * normal_loglik_z).sum()\n",
    "    print(foo)"
   ]
  },
  {
   "cell_type": "code",
   "execution_count": null,
   "metadata": {
    "collapsed": true
   },
   "outputs": [],
   "source": []
  },
  {
   "cell_type": "code",
   "execution_count": null,
   "metadata": {
    "collapsed": true
   },
   "outputs": [],
   "source": []
  },
  {
   "cell_type": "code",
   "execution_count": null,
   "metadata": {
    "collapsed": true
   },
   "outputs": [],
   "source": []
  },
  {
   "cell_type": "code",
   "execution_count": null,
   "metadata": {
    "collapsed": true
   },
   "outputs": [],
   "source": []
  },
  {
   "cell_type": "code",
   "execution_count": null,
   "metadata": {
    "collapsed": true
   },
   "outputs": [],
   "source": []
  },
  {
   "cell_type": "code",
   "execution_count": 12,
   "metadata": {
    "collapsed": true
   },
   "outputs": [],
   "source": [
    "trainloader_subs = mnist_data_lib.subsample_mnist_data(batch_size=10, \n",
    "                                                       data_set=train_set, \n",
    "                                                       propn_sample=0.001)\n",
    "\n",
    "testloader_subs = mnist_data_lib.subsample_mnist_data(batch_size=10, \n",
    "                                                       data_set=test_set, \n",
    "                                                       propn_sample=0.001)"
   ]
  },
  {
   "cell_type": "code",
   "execution_count": 13,
   "metadata": {
    "collapsed": false
   },
   "outputs": [
    {
     "name": "stdout",
     "output_type": "stream",
     "text": [
      "log like tensor(-0.)\n",
      "kl q latent tensor(43.5519)\n",
      "kl q z tensor(-1.9458)\n",
      "log like tensor(-0.)\n",
      "kl q latent tensor(43.5519)\n",
      "kl q z tensor(-1.9458)\n",
      "log like tensor(-0.)\n",
      "kl q latent tensor(43.5519)\n",
      "kl q z tensor(-1.9457)\n",
      "log like tensor(-0.)\n",
      "kl q latent tensor(43.5519)\n",
      "kl q z tensor(-1.9457)\n",
      "log like tensor(-0.)\n",
      "kl q latent tensor(43.5519)\n",
      "kl q z tensor(-1.9458)\n",
      "log like tensor(-0.)\n",
      "kl q latent tensor(43.5519)\n",
      "kl q z tensor(-1.9457)\n"
     ]
    },
    {
     "data": {
      "text/plain": [
       "tensor(1.00000e-02 *\n",
       "       4.1606)"
      ]
     },
     "execution_count": 13,
     "metadata": {},
     "output_type": "execute_result"
    }
   ],
   "source": [
    "vae.eval_vae(trainloader_subs)"
   ]
  },
  {
   "cell_type": "code",
   "execution_count": 14,
   "metadata": {
    "collapsed": false
   },
   "outputs": [
    {
     "name": "stdout",
     "output_type": "stream",
     "text": [
      "log like tensor(-0.)\n",
      "kl q latent tensor(43.5522)\n",
      "kl q z tensor(-1.9457)\n"
     ]
    },
    {
     "data": {
      "text/plain": [
       "tensor(1.00000e-02 *\n",
       "       4.1606)"
      ]
     },
     "execution_count": 14,
     "metadata": {},
     "output_type": "execute_result"
    }
   ],
   "source": [
    "vae.eval_vae(testloader_subs)"
   ]
  },
  {
   "cell_type": "code",
   "execution_count": 15,
   "metadata": {
    "collapsed": true
   },
   "outputs": [],
   "source": [
    "latent_means, latent_std, latent_samples, class_weights = \\\n",
    "    vae.encoder_forward(data[0])"
   ]
  },
  {
   "cell_type": "code",
   "execution_count": 21,
   "metadata": {
    "collapsed": false
   },
   "outputs": [
    {
     "data": {
      "text/plain": [
       "tensor([[ 0.0000,  0.0000,  0.1442,  0.1426,  0.1440,  0.1463,  0.1428,\n",
       "          0.1410,  0.1391,  0.0000],\n",
       "        [ 0.0000,  0.0000,  0.1446,  0.1431,  0.1394,  0.1465,  0.1441,\n",
       "          0.1426,  0.1398,  0.0000],\n",
       "        [ 0.0000,  0.0000,  0.1386,  0.1467,  0.1414,  0.1460,  0.1435,\n",
       "          0.1424,  0.1413,  0.0000],\n",
       "        [ 0.0000,  0.0000,  0.1438,  0.1432,  0.1425,  0.1461,  0.1426,\n",
       "          0.1424,  0.1395,  0.0000],\n",
       "        [ 0.0000,  0.0000,  0.1440,  0.1425,  0.1400,  0.1451,  0.1442,\n",
       "          0.1430,  0.1411,  0.0000],\n",
       "        [ 0.0000,  0.0000,  0.1432,  0.1453,  0.1419,  0.1461,  0.1425,\n",
       "          0.1411,  0.1399,  0.0000],\n",
       "        [ 0.0000,  0.0000,  0.1399,  0.1447,  0.1413,  0.1468,  0.1417,\n",
       "          0.1428,  0.1428,  0.0000],\n",
       "        [ 0.0000,  0.0000,  0.1424,  0.1428,  0.1434,  0.1489,  0.1423,\n",
       "          0.1415,  0.1388,  0.0000],\n",
       "        [ 0.0000,  0.0000,  0.1434,  0.1465,  0.1388,  0.1475,  0.1409,\n",
       "          0.1420,  0.1410,  0.0000],\n",
       "        [ 0.0000,  0.0000,  0.1400,  0.1443,  0.1436,  0.1458,  0.1428,\n",
       "          0.1412,  0.1422,  0.0000],\n",
       "        [ 0.0000,  0.0000,  0.1402,  0.1442,  0.1461,  0.1469,  0.1421,\n",
       "          0.1400,  0.1405,  0.0000],\n",
       "        [ 0.0000,  0.0000,  0.1458,  0.1389,  0.1413,  0.1458,  0.1442,\n",
       "          0.1406,  0.1434,  0.0000],\n",
       "        [ 0.0000,  0.0000,  0.1438,  0.1434,  0.1417,  0.1464,  0.1423,\n",
       "          0.1425,  0.1399,  0.0000],\n",
       "        [ 0.0000,  0.0000,  0.1451,  0.1429,  0.1423,  0.1508,  0.1421,\n",
       "          0.1402,  0.1366,  0.0000],\n",
       "        [ 0.0000,  0.0000,  0.1480,  0.1383,  0.1416,  0.1440,  0.1447,\n",
       "          0.1426,  0.1408,  0.0000],\n",
       "        [ 0.0000,  0.0000,  0.1444,  0.1393,  0.1312,  0.1466,  0.1421,\n",
       "          0.1450,  0.1514,  0.0000],\n",
       "        [ 0.0000,  0.0000,  0.1417,  0.1458,  0.1421,  0.1479,  0.1405,\n",
       "          0.1425,  0.1395,  0.0000],\n",
       "        [ 0.0000,  0.0000,  0.1435,  0.1425,  0.1413,  0.1462,  0.1435,\n",
       "          0.1421,  0.1408,  0.0000],\n",
       "        [ 0.0000,  0.0000,  0.1407,  0.1461,  0.1408,  0.1475,  0.1427,\n",
       "          0.1416,  0.1407,  0.0000],\n",
       "        [ 0.0000,  0.0000,  0.1416,  0.1459,  0.1392,  0.1458,  0.1428,\n",
       "          0.1424,  0.1422,  0.0000]])"
      ]
     },
     "execution_count": 21,
     "metadata": {},
     "output_type": "execute_result"
    }
   ],
   "source": [
    "class_weights"
   ]
  },
  {
   "cell_type": "code",
   "execution_count": 16,
   "metadata": {
    "collapsed": false
   },
   "outputs": [
    {
     "data": {
      "text/plain": [
       "tensor(1.00000e-23 *\n",
       "       [[ 0.0000,  0.0011,  0.0000,  0.0000,  0.0000],\n",
       "        [ 0.0000,  0.0000,  0.0000,  0.0000,  0.0000],\n",
       "        [ 0.0000,  0.0062,  0.0000,  0.0000,  0.0000],\n",
       "        [ 0.0000,  0.0016,  0.0000,  0.0000,  0.0000],\n",
       "        [ 0.0000,  0.0005,  0.0000,  0.0000,  0.0000],\n",
       "        [ 0.0000,  0.1460,  0.0000,  0.0005,  0.0000],\n",
       "        [ 0.0000,  0.0004,  0.0000,  0.0000,  0.0000],\n",
       "        [ 0.0000,  3.2463,  0.0000,  0.0163,  0.0000],\n",
       "        [ 0.0000,  0.0000,  0.0000,  0.0000,  0.0000],\n",
       "        [ 0.0000,  0.0119,  0.0000,  0.0000,  0.0000],\n",
       "        [ 0.0000,  0.0315,  0.0000,  0.0001,  0.0000],\n",
       "        [ 0.0000,  0.0043,  0.0000,  0.0000,  0.0000],\n",
       "        [ 0.0000,  0.0067,  0.0000,  0.0000,  0.0000],\n",
       "        [ 0.0000,  0.0280,  0.0000,  0.0001,  0.0000],\n",
       "        [ 0.0000,  0.0001,  0.0000,  0.0000,  0.0000],\n",
       "        [ 0.0000,  1.0687,  0.0000,  0.0046,  0.0000],\n",
       "        [ 0.0000,  0.0001,  0.0000,  0.0000,  0.0000],\n",
       "        [ 0.0000,  0.0203,  0.0000,  0.0001,  0.0000],\n",
       "        [ 0.0000,  0.0014,  0.0000,  0.0000,  0.0000],\n",
       "        [ 0.0000,  0.0001,  0.0000,  0.0000,  0.0000]])"
      ]
     },
     "execution_count": 16,
     "metadata": {},
     "output_type": "execute_result"
    }
   ],
   "source": [
    "latent_std"
   ]
  },
  {
   "cell_type": "code",
   "execution_count": 17,
   "metadata": {
    "collapsed": false
   },
   "outputs": [],
   "source": [
    "z_ind = torch.argmax(class_weights, dim = 1)\n",
    "\n",
    "one_hot_z = common_utils.get_one_hot_encoding_from_int(z_ind, vae.encoder.n_classes)"
   ]
  },
  {
   "cell_type": "code",
   "execution_count": 18,
   "metadata": {
    "collapsed": false
   },
   "outputs": [
    {
     "data": {
      "text/plain": [
       "tensor([[ 0.,  0.,  0.,  0.,  0.,  1.,  0.,  0.,  0.,  0.],\n",
       "        [ 0.,  0.,  0.,  0.,  0.,  1.,  0.,  0.,  0.,  0.],\n",
       "        [ 0.,  0.,  0.,  1.,  0.,  0.,  0.,  0.,  0.,  0.],\n",
       "        [ 0.,  0.,  0.,  0.,  0.,  1.,  0.,  0.,  0.,  0.],\n",
       "        [ 0.,  0.,  0.,  0.,  0.,  1.,  0.,  0.,  0.,  0.],\n",
       "        [ 0.,  0.,  0.,  0.,  0.,  1.,  0.,  0.,  0.,  0.],\n",
       "        [ 0.,  0.,  0.,  0.,  0.,  1.,  0.,  0.,  0.,  0.],\n",
       "        [ 0.,  0.,  0.,  0.,  0.,  1.,  0.,  0.,  0.,  0.],\n",
       "        [ 0.,  0.,  0.,  0.,  0.,  1.,  0.,  0.,  0.,  0.],\n",
       "        [ 0.,  0.,  0.,  0.,  0.,  1.,  0.,  0.,  0.,  0.],\n",
       "        [ 0.,  0.,  0.,  0.,  0.,  1.,  0.,  0.,  0.,  0.],\n",
       "        [ 0.,  0.,  1.,  0.,  0.,  0.,  0.,  0.,  0.,  0.],\n",
       "        [ 0.,  0.,  0.,  0.,  0.,  1.,  0.,  0.,  0.,  0.],\n",
       "        [ 0.,  0.,  0.,  0.,  0.,  1.,  0.,  0.,  0.,  0.],\n",
       "        [ 0.,  0.,  1.,  0.,  0.,  0.,  0.,  0.,  0.,  0.],\n",
       "        [ 0.,  0.,  0.,  0.,  0.,  0.,  0.,  0.,  1.,  0.],\n",
       "        [ 0.,  0.,  0.,  0.,  0.,  1.,  0.,  0.,  0.,  0.],\n",
       "        [ 0.,  0.,  0.,  0.,  0.,  1.,  0.,  0.,  0.,  0.],\n",
       "        [ 0.,  0.,  0.,  0.,  0.,  1.,  0.,  0.,  0.,  0.],\n",
       "        [ 0.,  0.,  0.,  1.,  0.,  0.,  0.,  0.,  0.,  0.]])"
      ]
     },
     "execution_count": 18,
     "metadata": {},
     "output_type": "execute_result"
    }
   ],
   "source": [
    "one_hot_z"
   ]
  },
  {
   "cell_type": "code",
   "execution_count": 19,
   "metadata": {
    "collapsed": true
   },
   "outputs": [],
   "source": [
    "image_mean, image_std = vae.decoder(latent_samples, one_hot_z)"
   ]
  },
  {
   "cell_type": "code",
   "execution_count": 69,
   "metadata": {
    "collapsed": false
   },
   "outputs": [
    {
     "data": {
      "text/plain": [
       "(array([  47., 1389., 3199., 2740., 2855., 2921., 2404.,   85.,   20.,\n",
       "          20.]),\n",
       " array([1.08411908, 1.10362318, 1.12312727, 1.14263136, 1.16213546,\n",
       "        1.18163955, 1.20114365, 1.22064774, 1.24015183, 1.25965593,\n",
       "        1.27916002]),\n",
       " <a list of 10 Patch objects>)"
      ]
     },
     "execution_count": 69,
     "metadata": {},
     "output_type": "execute_result"
    },
    {
     "data": {
      "image/png": "[encoded data removed]",
      "text/plain": [
       "<Figure size 432x288 with 1 Axes>"
      ]
     },
     "metadata": {},
     "output_type": "display_data"
    }
   ],
   "source": [
    "plt.hist(image_std.detach().numpy().flatten())"
   ]
  },
  {
   "cell_type": "code",
   "execution_count": null,
   "metadata": {
    "collapsed": true
   },
   "outputs": [],
   "source": []
  },
  {
   "cell_type": "code",
   "execution_count": 67,
   "metadata": {
    "collapsed": false
   },
   "outputs": [
    {
     "data": {
      "image/png": "[encoded data removed]",
      "text/plain": [
       "<Figure size 288x288 with 1 Axes>"
      ]
     },
     "metadata": {},
     "output_type": "display_data"
    },
    {
     "data": {
      "image/png": "[encoded data removed]",
      "text/plain": [
       "<Figure size 288x288 with 1 Axes>"
      ]
     },
     "metadata": {},
     "output_type": "display_data"
    },
    {
     "data": {
      "image/png": "[encoded data removed]",
      "text/plain": [
       "<Figure size 288x288 with 1 Axes>"
      ]
     },
     "metadata": {},
     "output_type": "display_data"
    },
    {
     "data": {
      "image/png": "[encoded data removed]",
      "text/plain": [
       "<Figure size 288x288 with 1 Axes>"
      ]
     },
     "metadata": {},
     "output_type": "display_data"
    },
    {
     "data": {
      "image/png": "[encoded data removed]",
      "text/plain": [
       "<Figure size 288x288 with 1 Axes>"
      ]
     },
     "metadata": {},
     "output_type": "display_data"
    },
    {
     "data": {
      "image/png": "[encoded data removed]",
      "text/plain": [
       "<Figure size 288x288 with 1 Axes>"
      ]
     },
     "metadata": {},
     "output_type": "display_data"
    },
    {
     "data": {
      "image/png": "[encoded data removed]",
      "text/plain": [
       "<Figure size 288x288 with 1 Axes>"
      ]
     },
     "metadata": {},
     "output_type": "display_data"
    },
    {
     "data": {
      "image/png": "[encoded data removed]",
      "text/plain": [
       "<Figure size 288x288 with 1 Axes>"
      ]
     },
     "metadata": {},
     "output_type": "display_data"
    },
    {
     "data": {
      "image/png": "[encoded data removed]",
      "text/plain": [
       "<Figure size 288x288 with 1 Axes>"
      ]
     },
     "metadata": {},
     "output_type": "display_data"
    },
    {
     "data": {
      "image/png": "[encoded data removed]",
      "text/plain": [
       "<Figure size 288x288 with 1 Axes>"
      ]
     },
     "metadata": {},
     "output_type": "display_data"
    }
   ],
   "source": [
    "for i in range(10): \n",
    "    plt.matshow(image_mean[i, :, :].detach())"
   ]
  },
  {
   "cell_type": "code",
   "execution_count": null,
   "metadata": {
    "collapsed": true
   },
   "outputs": [],
   "source": []
  },
  {
   "cell_type": "code",
   "execution_count": 12,
   "metadata": {
    "code_folding": [],
    "collapsed": true
   },
   "outputs": [],
   "source": [
    "### Check things run"
   ]
  },
  {
   "cell_type": "code",
   "execution_count": 13,
   "metadata": {
    "collapsed": false
   },
   "outputs": [],
   "source": [
    "# check encoder \n",
    "\n",
    "latent_means, latent_std, free_class_weights = \\\n",
    "    vae.encoder(data[0])\n",
    "    \n",
    "assert latent_means.shape[0] == batchsize\n",
    "assert latent_means.shape[1] == latent_dim\n",
    "\n",
    "assert latent_std.shape[0] == batchsize\n",
    "assert latent_std.shape[1] == latent_dim\n",
    "\n",
    "assert free_class_weights.shape[0] == batchsize\n",
    "assert free_class_weights.shape[1] == n_classes \n"
   ]
  },
  {
   "cell_type": "code",
   "execution_count": 14,
   "metadata": {
    "collapsed": true
   },
   "outputs": [],
   "source": [
    "z_ind = torch.argmax(free_class_weights, dim = 1)"
   ]
  },
  {
   "cell_type": "code",
   "execution_count": 15,
   "metadata": {
    "collapsed": false
   },
   "outputs": [
    {
     "data": {
      "text/plain": [
       "tensor([ 2,  2,  2,  2,  2,  2,  5,  2,  9,  9,  2,  2,  9,  2,\n",
       "         2,  2,  2,  2,  9,  2])"
      ]
     },
     "execution_count": 15,
     "metadata": {},
     "output_type": "execute_result"
    }
   ],
   "source": [
    "z_ind"
   ]
  },
  {
   "cell_type": "code",
   "execution_count": 16,
   "metadata": {
    "collapsed": false
   },
   "outputs": [],
   "source": [
    "# check one hot encoding \n",
    "\n",
    "one_hot_z = common_utils.get_one_hot_encoding_from_int(z_ind, 10)\n",
    "\n",
    "seq = torch.Tensor([i for i in range(n_classes)])\n",
    "\n",
    "for n in range(batchsize): \n",
    "    foo = one_hot_z[n, :]\n",
    "    \n",
    "    assert foo[z_ind[n]] == 1.\n",
    "    assert sum(foo) == 1."
   ]
  },
  {
   "cell_type": "code",
   "execution_count": 17,
   "metadata": {
    "collapsed": false
   },
   "outputs": [],
   "source": [
    "image_mean, image_std = vae.decoder(latent_means, one_hot_z)\n",
    "assert image_mean.shape[0] == batchsize\n",
    "assert image_mean.shape[1] == slen\n",
    "assert image_mean.shape[1] == slen"
   ]
  },
  {
   "cell_type": "code",
   "execution_count": 18,
   "metadata": {
    "collapsed": true
   },
   "outputs": [],
   "source": [
    "# check loss goes through"
   ]
  },
  {
   "cell_type": "code",
   "execution_count": 19,
   "metadata": {
    "collapsed": false
   },
   "outputs": [
    {
     "data": {
      "text/plain": [
       "tensor(1656.3547)"
      ]
     },
     "execution_count": 19,
     "metadata": {},
     "output_type": "execute_result"
    }
   ],
   "source": [
    "vae.loss(data[0])"
   ]
  },
  {
   "cell_type": "markdown",
   "metadata": {},
   "source": [
    "# Check gradient works "
   ]
  },
  {
   "cell_type": "code",
   "execution_count": 20,
   "metadata": {
    "collapsed": true
   },
   "outputs": [],
   "source": [
    "def get_vae_params(vae): \n",
    "    vae_params = np.array([])\n",
    "    for f in vae.parameters(): \n",
    "        vae_params = np.append(vae_params, f.detach().numpy().flatten())\n",
    "    return vae_params\n"
   ]
  },
  {
   "cell_type": "code",
   "execution_count": 21,
   "metadata": {
    "collapsed": false
   },
   "outputs": [],
   "source": [
    "vae_params0 = get_vae_params(vae)"
   ]
  },
  {
   "cell_type": "code",
   "execution_count": 22,
   "metadata": {
    "collapsed": false
   },
   "outputs": [],
   "source": [
    "assert np.any(np.isnan(vae_params0)) == False"
   ]
  },
  {
   "cell_type": "code",
   "execution_count": 23,
   "metadata": {
    "collapsed": false
   },
   "outputs": [],
   "source": [
    "optimizer = optim.Adam(vae.parameters(), lr=0.01)\n",
    "optimizer.zero_grad()"
   ]
  },
  {
   "cell_type": "code",
   "execution_count": 24,
   "metadata": {
    "collapsed": false
   },
   "outputs": [
    {
     "name": "stdout",
     "output_type": "stream",
     "text": [
      "tensor(1655.6113)\n"
     ]
    }
   ],
   "source": [
    "loss = vae.loss(data[0])\n",
    "print(loss)"
   ]
  },
  {
   "cell_type": "code",
   "execution_count": 25,
   "metadata": {
    "collapsed": true
   },
   "outputs": [],
   "source": [
    "loss.backward()\n",
    "optimizer.step()"
   ]
  },
  {
   "cell_type": "code",
   "execution_count": 26,
   "metadata": {
    "collapsed": true
   },
   "outputs": [],
   "source": [
    "vae_params1 = get_vae_params(vae)"
   ]
  },
  {
   "cell_type": "code",
   "execution_count": 27,
   "metadata": {
    "collapsed": false
   },
   "outputs": [],
   "source": [
    "assert np.any(np.isnan(vae_params1)) == False"
   ]
  },
  {
   "cell_type": "code",
   "execution_count": 28,
   "metadata": {
    "collapsed": false
   },
   "outputs": [
    {
     "data": {
      "image/png": "[encoded data removed]",
      "text/plain": [
       "<Figure size 432x288 with 1 Axes>"
      ]
     },
     "metadata": {},
     "output_type": "display_data"
    }
   ],
   "source": [
    "plt.hist(vae_params1 - vae_params0, bins = 30); "
   ]
  },
  {
   "cell_type": "code",
   "execution_count": 29,
   "metadata": {
    "collapsed": false,
    "scrolled": true
   },
   "outputs": [],
   "source": [
    "loss = vae.loss(data[0])"
   ]
  },
  {
   "cell_type": "code",
   "execution_count": 30,
   "metadata": {
    "collapsed": false
   },
   "outputs": [],
   "source": [
    "assert np.isfinite(loss.detach().numpy())"
   ]
  },
  {
   "cell_type": "code",
   "execution_count": null,
   "metadata": {
    "collapsed": true
   },
   "outputs": [],
   "source": []
  },
  {
   "cell_type": "markdown",
   "metadata": {},
   "source": [
    "# Test training"
   ]
  },
  {
   "cell_type": "code",
   "execution_count": 31,
   "metadata": {
    "collapsed": true
   },
   "outputs": [],
   "source": [
    "from torch.utils.data.sampler import Sampler"
   ]
  },
  {
   "cell_type": "raw",
   "metadata": {},
   "source": [
    "# Subset the train and test loaders \n",
    "class DataSubsetter(Sampler):\n",
    "    def __init__(self, mask):\n",
    "        self.mask = mask\n",
    "\n",
    "    def __iter__(self):\n",
    "        return (i for i in self.mask)\n",
    "\n",
    "    def __len__(self):\n",
    "        return len(self.mask)\n",
    "\n",
    "mask1 = torch.Tensor([i for i in range(40)])\n",
    "mask2 = torch.Tensor([i for i in range(20)])\n",
    "\n",
    "sampler1 = DataSubsetter(mask1)\n",
    "sampler2 = DataSubsetter(mask2)\n"
   ]
  },
  {
   "cell_type": "raw",
   "metadata": {},
   "source": [
    "trainloader_subs = torch.utils.data.DataLoader(train_set, batch_size=10,\n",
    "                                          sampler = sampler1, shuffle=False, num_workers=2)\n",
    "\n",
    "testloader_subs = torch.utils.data.DataLoader(test_set, batch_size=10,\n",
    "                                          sampler = sampler2, shuffle=False, num_workers=2)"
   ]
  },
  {
   "cell_type": "code",
   "execution_count": 32,
   "metadata": {
    "collapsed": false
   },
   "outputs": [],
   "source": [
    "trainloader_subs = mnist_data_lib.subsample_mnist_data(batch_size=10, \n",
    "                                                       data_set=train_set, \n",
    "                                                       propn_sample=0.001)\n",
    "\n",
    "testloader_subs = mnist_data_lib.subsample_mnist_data(batch_size=10, \n",
    "                                                       data_set=test_set, \n",
    "                                                       propn_sample=0.001)"
   ]
  },
  {
   "cell_type": "code",
   "execution_count": 33,
   "metadata": {
    "collapsed": false
   },
   "outputs": [
    {
     "data": {
      "text/plain": [
       "60000"
      ]
     },
     "execution_count": 33,
     "metadata": {},
     "output_type": "execute_result"
    }
   ],
   "source": [
    "len(train_loader.dataset)"
   ]
  },
  {
   "cell_type": "code",
   "execution_count": 34,
   "metadata": {
    "collapsed": false
   },
   "outputs": [
    {
     "name": "stdout",
     "output_type": "stream",
     "text": [
      "batch 1\n",
      "batch 2\n",
      "batch 3\n",
      "batch 4\n",
      "batch 5\n",
      "batch 6\n",
      "batch 1\n",
      "  * init train recon loss: 0.5448997021;\n",
      "  * init test recon loss: 0.5487380624;\n",
      "batch 1\n",
      "batch 2\n",
      "batch 3\n",
      "batch 4\n",
      "batch 5\n",
      "batch 6\n",
      "[1] loss: 0.1817598045  \t[0.4 seconds]\n",
      "batch 1\n",
      "batch 2\n",
      "batch 3\n",
      "batch 4\n",
      "batch 5\n",
      "batch 6\n",
      "[2] loss: 0.02134082653  \t[0.5 seconds]\n",
      "batch 1\n",
      "batch 2\n",
      "batch 3\n",
      "batch 4\n",
      "batch 5\n",
      "batch 6\n",
      "batch 1\n",
      "  * train recon loss: 0.005951912608;\n",
      "  * test recon loss: 0.005426646676;\n",
      "batch 1\n",
      "batch 2\n",
      "batch 3\n",
      "batch 4\n",
      "batch 5\n",
      "batch 6\n",
      "[3] loss: 0.003752589924  \t[0.6 seconds]\n",
      "batch 1\n",
      "batch 2\n",
      "batch 3\n",
      "batch 4\n",
      "batch 5\n",
      "batch 6\n",
      "[4] loss: 0.002013224876  \t[0.7 seconds]\n",
      "batch 1\n",
      "batch 2\n",
      "batch 3\n",
      "batch 4\n",
      "batch 5\n",
      "batch 6\n",
      "batch 1\n",
      "  * train recon loss: 0.001051260275;\n",
      "  * test recon loss: 0.001159751904;\n",
      "batch 1\n",
      "batch 2\n",
      "batch 3\n",
      "batch 4\n",
      "batch 5\n",
      "batch 6\n",
      "[5] loss: 0.0006263965624  \t[0.6 seconds]\n",
      "writing the encoder parameters to ./test_enc_final\n",
      "\n",
      "writing the decoder parameters to ./test_dec_final\n",
      "\n"
     ]
    }
   ],
   "source": [
    "vae.train_module(trainloader_subs, testloader_subs, \n",
    "                 n_epoch = 5, \n",
    "                print_every = 2, \n",
    "                outfile = './test')"
   ]
  },
  {
   "cell_type": "code",
   "execution_count": 35,
   "metadata": {
    "collapsed": true
   },
   "outputs": [],
   "source": [
    "# check reloading"
   ]
  },
  {
   "cell_type": "code",
   "execution_count": 36,
   "metadata": {
    "collapsed": true
   },
   "outputs": [],
   "source": [
    "reload_vae = vae = mnist_vae_lib.HandwritingVAE(latent_dim = latent_dim, \n",
    "                                    n_classes = n_classes)"
   ]
  },
  {
   "cell_type": "code",
   "execution_count": 37,
   "metadata": {
    "collapsed": false
   },
   "outputs": [],
   "source": [
    "enc_file = \"./test_enc_final\"\n",
    "dec_file = './test_dec_final'\n",
    "\n",
    "reload_vae.encoder.load_state_dict(torch.load(enc_file,\n",
    "                               map_location=lambda storage, loc: storage))\n",
    "\n",
    "reload_vae.decoder.load_state_dict(torch.load(dec_file,\n",
    "                               map_location=lambda storage, loc: storage))\n"
   ]
  },
  {
   "cell_type": "code",
   "execution_count": 38,
   "metadata": {
    "collapsed": false
   },
   "outputs": [
    {
     "name": "stdout",
     "output_type": "stream",
     "text": [
      "batch 1\n",
      "batch 2\n",
      "batch 3\n",
      "batch 4\n",
      "batch 5\n",
      "batch 6\n"
     ]
    },
    {
     "data": {
      "text/plain": [
       "tensor(1.00000e-05 *\n",
       "       7.9501)"
      ]
     },
     "execution_count": 38,
     "metadata": {},
     "output_type": "execute_result"
    }
   ],
   "source": [
    "reload_vae.eval_vae(trainloader_subs)"
   ]
  },
  {
   "cell_type": "code",
   "execution_count": null,
   "metadata": {
    "collapsed": true
   },
   "outputs": [],
   "source": []
  }
 ],
 "metadata": {
  "kernelspec": {
   "display_name": "Python (pytorch_04)",
   "language": "python",
   "name": "pytorch_update"
  },
  "language_info": {
   "codemirror_mode": {
    "name": "ipython",
    "version": 3
   },
   "file_extension": ".py",
   "mimetype": "text/x-python",
   "name": "python",
   "nbconvert_exporter": "python",
   "pygments_lexer": "ipython3",
   "version": "3.6.5"
  }
 },
 "nbformat": 4,
 "nbformat_minor": 2
}
