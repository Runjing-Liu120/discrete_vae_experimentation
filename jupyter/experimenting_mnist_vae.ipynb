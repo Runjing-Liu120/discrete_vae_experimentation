{
 "cells": [
  {
   "cell_type": "code",
   "execution_count": 1,
   "metadata": {
    "collapsed": false
   },
   "outputs": [],
   "source": [
    "import numpy as np\n",
    "\n",
    "import matplotlib.pyplot as plt\n",
    "%matplotlib inline  \n",
    "\n",
    "import torch\n",
    "import torch.nn as nn\n",
    "\n",
    "\n",
    "import torch.optim as optim\n",
    "\n",
    "import sys\n",
    "sys.path.insert(0, '../libraries/')\n",
    "\n",
    "import mnist_data_lib\n",
    "import mnist_vae_lib\n",
    "import common_utils"
   ]
  },
  {
   "cell_type": "markdown",
   "metadata": {},
   "source": [
    "# Load data"
   ]
  },
  {
   "cell_type": "code",
   "execution_count": 2,
   "metadata": {
    "collapsed": false
   },
   "outputs": [],
   "source": [
    "train_set, test_set = mnist_data_lib.load_mnist_data()"
   ]
  },
  {
   "cell_type": "code",
   "execution_count": 3,
   "metadata": {
    "collapsed": false,
    "scrolled": true
   },
   "outputs": [
    {
     "data": {
      "text/plain": [
       "<matplotlib.image.AxesImage at 0x7f712c5e2780>"
      ]
     },
     "execution_count": 3,
     "metadata": {},
     "output_type": "execute_result"
    },
    {
     "data": {
      "image/png": "[encoded data removed]",
      "text/plain": [
       "<Figure size 288x288 with 1 Axes>"
      ]
     },
     "metadata": {},
     "output_type": "display_data"
    }
   ],
   "source": [
    "plt.matshow(train_set.train_data[0])"
   ]
  },
  {
   "cell_type": "code",
   "execution_count": 4,
   "metadata": {
    "collapsed": false
   },
   "outputs": [],
   "source": [
    "slen = train_set.train_data[0].shape[0]"
   ]
  },
  {
   "cell_type": "markdown",
   "metadata": {},
   "source": [
    "# Get data loaders"
   ]
  },
  {
   "cell_type": "code",
   "execution_count": 5,
   "metadata": {
    "collapsed": false
   },
   "outputs": [],
   "source": [
    "batchsize = 20\n",
    "\n",
    "train_loader = torch.utils.data.DataLoader(\n",
    "                 dataset=train_set,\n",
    "                 batch_size=batchsize,\n",
    "                 shuffle=True)\n",
    "test_loader = torch.utils.data.DataLoader(\n",
    "                dataset=test_set,\n",
    "                batch_size=batchsize,\n",
    "                shuffle=False)\n"
   ]
  },
  {
   "cell_type": "code",
   "execution_count": 6,
   "metadata": {
    "collapsed": false
   },
   "outputs": [],
   "source": [
    "for batch_idx, d in enumerate(train_loader):\n",
    "    data = d\n",
    "    break"
   ]
  },
  {
   "cell_type": "markdown",
   "metadata": {},
   "source": [
    "# Define VAE"
   ]
  },
  {
   "cell_type": "code",
   "execution_count": 7,
   "metadata": {
    "collapsed": true
   },
   "outputs": [],
   "source": [
    "latent_dim = 5\n",
    "n_classes = 10"
   ]
  },
  {
   "cell_type": "code",
   "execution_count": 8,
   "metadata": {
    "collapsed": false
   },
   "outputs": [],
   "source": [
    "vae = mnist_vae_lib.HandwritingVAE(latent_dim = latent_dim, \n",
    "                                    n_classes = n_classes)"
   ]
  },
  {
   "cell_type": "code",
   "execution_count": 9,
   "metadata": {
    "collapsed": false
   },
   "outputs": [
    {
     "name": "stdout",
     "output_type": "stream",
     "text": [
      "<bound method Module.parameters of HandwritingVAE(\n",
      "  (encoder): MLPEncoder(\n",
      "    (fc1): Linear(in_features=784, out_features=500, bias=True)\n",
      "    (fc2): Linear(in_features=500, out_features=784, bias=True)\n",
      "    (fc3): Linear(in_features=784, out_features=19, bias=True)\n",
      "  )\n",
      "  (decoder): MLPConditionalDecoder(\n",
      "    (fc1): Linear(in_features=15, out_features=784, bias=True)\n",
      "    (fc2): Linear(in_features=784, out_features=500, bias=True)\n",
      "    (fc3): Linear(in_features=500, out_features=1568, bias=True)\n",
      "  )\n",
      ")>\n"
     ]
    }
   ],
   "source": [
    "print(vae.parameters)"
   ]
  },
  {
   "cell_type": "code",
   "execution_count": 10,
   "metadata": {
    "collapsed": false
   },
   "outputs": [
    {
     "data": {
      "text/plain": [
       "784"
      ]
     },
     "execution_count": 10,
     "metadata": {},
     "output_type": "execute_result"
    }
   ],
   "source": [
    "28 * 28"
   ]
  },
  {
   "cell_type": "code",
   "execution_count": 11,
   "metadata": {
    "collapsed": false
   },
   "outputs": [
    {
     "data": {
      "text/plain": [
       "1568"
      ]
     },
     "execution_count": 11,
     "metadata": {},
     "output_type": "execute_result"
    }
   ],
   "source": [
    "2 * 28 * 28"
   ]
  },
  {
   "cell_type": "code",
   "execution_count": 12,
   "metadata": {
    "code_folding": [],
    "collapsed": true
   },
   "outputs": [],
   "source": [
    "### Check things run"
   ]
  },
  {
   "cell_type": "code",
   "execution_count": 13,
   "metadata": {
    "collapsed": false
   },
   "outputs": [],
   "source": [
    "# check encoder \n",
    "\n",
    "latent_means, latent_std, free_class_weights = \\\n",
    "    vae.encoder(data[0])\n",
    "    \n",
    "assert latent_means.shape[0] == batchsize\n",
    "assert latent_means.shape[1] == latent_dim\n",
    "\n",
    "assert latent_std.shape[0] == batchsize\n",
    "assert latent_std.shape[1] == latent_dim\n",
    "\n",
    "assert free_class_weights.shape[0] == batchsize\n",
    "assert free_class_weights.shape[1] == n_classes \n"
   ]
  },
  {
   "cell_type": "code",
   "execution_count": 14,
   "metadata": {
    "collapsed": true
   },
   "outputs": [],
   "source": [
    "z_ind = torch.argmax(free_class_weights, dim = 1)"
   ]
  },
  {
   "cell_type": "code",
   "execution_count": 15,
   "metadata": {
    "collapsed": false
   },
   "outputs": [
    {
     "data": {
      "text/plain": [
       "tensor([ 7,  2,  5,  7,  7,  7,  5,  7,  7,  7,  7,  5,  7,  7,\n",
       "         7,  7,  5,  7,  5,  5])"
      ]
     },
     "execution_count": 15,
     "metadata": {},
     "output_type": "execute_result"
    }
   ],
   "source": [
    "z_ind"
   ]
  },
  {
   "cell_type": "code",
   "execution_count": 16,
   "metadata": {
    "collapsed": false
   },
   "outputs": [],
   "source": [
    "# check one hot encoding \n",
    "\n",
    "one_hot_z = common_utils.get_one_hot_encoding_from_int(z_ind, 10)\n",
    "\n",
    "seq = torch.Tensor([i for i in range(n_classes)])\n",
    "\n",
    "for n in range(batchsize): \n",
    "    foo = one_hot_z[n, :]\n",
    "    \n",
    "    assert foo[z_ind[n]] == 1.\n",
    "    assert sum(foo) == 1."
   ]
  },
  {
   "cell_type": "code",
   "execution_count": 17,
   "metadata": {
    "collapsed": false
   },
   "outputs": [],
   "source": [
    "image_mean, image_std = vae.decoder(latent_means, one_hot_z)\n",
    "assert image_mean.shape[0] == batchsize\n",
    "assert image_mean.shape[1] == slen\n",
    "assert image_mean.shape[1] == slen"
   ]
  },
  {
   "cell_type": "code",
   "execution_count": 18,
   "metadata": {
    "collapsed": true
   },
   "outputs": [],
   "source": [
    "# check loss goes through"
   ]
  },
  {
   "cell_type": "code",
   "execution_count": 19,
   "metadata": {
    "collapsed": false
   },
   "outputs": [
    {
     "data": {
      "text/plain": [
       "tensor(16282.3174)"
      ]
     },
     "execution_count": 19,
     "metadata": {},
     "output_type": "execute_result"
    }
   ],
   "source": [
    "vae.loss(data[0])"
   ]
  },
  {
   "cell_type": "raw",
   "metadata": {},
   "source": [
    "# z = torch.zeros((1, n_classes))\n",
    "z[0, 5] = 1.\n",
    "image_mean, image_std = vae.decoder(torch.Tensor(np.array([latent_means[0, :].detach().numpy()])),\n",
    "                                    z)\n",
    "\n",
    "plt.matshow(image_mean[0, :, :].detach())"
   ]
  },
  {
   "cell_type": "code",
   "execution_count": null,
   "metadata": {
    "collapsed": true
   },
   "outputs": [],
   "source": []
  },
  {
   "cell_type": "markdown",
   "metadata": {},
   "source": [
    "# Check gradient works "
   ]
  },
  {
   "cell_type": "code",
   "execution_count": 20,
   "metadata": {
    "collapsed": true
   },
   "outputs": [],
   "source": [
    "def get_vae_params(vae): \n",
    "    vae_params = np.array([])\n",
    "    for f in vae.parameters(): \n",
    "        vae_params = np.append(vae_params, f.detach().numpy().flatten())\n",
    "    return vae_params\n"
   ]
  },
  {
   "cell_type": "code",
   "execution_count": 21,
   "metadata": {
    "collapsed": false
   },
   "outputs": [],
   "source": [
    "vae_params0 = get_vae_params(vae)"
   ]
  },
  {
   "cell_type": "code",
   "execution_count": 22,
   "metadata": {
    "collapsed": false
   },
   "outputs": [],
   "source": [
    "assert np.any(np.isnan(vae_params0)) == False"
   ]
  },
  {
   "cell_type": "code",
   "execution_count": 23,
   "metadata": {
    "collapsed": false
   },
   "outputs": [],
   "source": [
    "optimizer = optim.Adam(vae.parameters(), lr=0.01)\n",
    "optimizer.zero_grad()"
   ]
  },
  {
   "cell_type": "code",
   "execution_count": 24,
   "metadata": {
    "collapsed": false
   },
   "outputs": [
    {
     "name": "stdout",
     "output_type": "stream",
     "text": [
      "tensor(16278.9551)\n"
     ]
    }
   ],
   "source": [
    "loss = vae.loss(data[0])\n",
    "print(loss)"
   ]
  },
  {
   "cell_type": "code",
   "execution_count": 25,
   "metadata": {
    "collapsed": true
   },
   "outputs": [],
   "source": [
    "loss.backward()\n",
    "optimizer.step()"
   ]
  },
  {
   "cell_type": "code",
   "execution_count": 26,
   "metadata": {
    "collapsed": true
   },
   "outputs": [],
   "source": [
    "vae_params1 = get_vae_params(vae)"
   ]
  },
  {
   "cell_type": "code",
   "execution_count": 27,
   "metadata": {
    "collapsed": false
   },
   "outputs": [],
   "source": [
    "assert np.any(np.isnan(vae_params1)) == False"
   ]
  },
  {
   "cell_type": "code",
   "execution_count": 28,
   "metadata": {
    "collapsed": false
   },
   "outputs": [
    {
     "data": {
      "image/png": "[encoded data removed]",
      "text/plain": [
       "<Figure size 432x288 with 1 Axes>"
      ]
     },
     "metadata": {},
     "output_type": "display_data"
    }
   ],
   "source": [
    "plt.hist(vae_params1 - vae_params0, bins = 30); "
   ]
  },
  {
   "cell_type": "code",
   "execution_count": 29,
   "metadata": {
    "collapsed": false,
    "scrolled": true
   },
   "outputs": [],
   "source": [
    "loss = vae.loss(data[0])"
   ]
  },
  {
   "cell_type": "code",
   "execution_count": 30,
   "metadata": {
    "collapsed": false
   },
   "outputs": [],
   "source": [
    "assert np.isfinite(loss.detach().numpy())"
   ]
  },
  {
   "cell_type": "code",
   "execution_count": null,
   "metadata": {
    "collapsed": true
   },
   "outputs": [],
   "source": []
  },
  {
   "cell_type": "markdown",
   "metadata": {},
   "source": [
    "# Test training"
   ]
  },
  {
   "cell_type": "code",
   "execution_count": 31,
   "metadata": {
    "collapsed": true
   },
   "outputs": [],
   "source": [
    "from torch.utils.data.sampler import Sampler"
   ]
  },
  {
   "cell_type": "raw",
   "metadata": {},
   "source": [
    "# Subset the train and test loaders \n",
    "class DataSubsetter(Sampler):\n",
    "    def __init__(self, mask):\n",
    "        self.mask = mask\n",
    "\n",
    "    def __iter__(self):\n",
    "        return (i for i in self.mask)\n",
    "\n",
    "    def __len__(self):\n",
    "        return len(self.mask)\n",
    "\n",
    "mask1 = torch.Tensor([i for i in range(40)])\n",
    "mask2 = torch.Tensor([i for i in range(20)])\n",
    "\n",
    "sampler1 = DataSubsetter(mask1)\n",
    "sampler2 = DataSubsetter(mask2)\n"
   ]
  },
  {
   "cell_type": "raw",
   "metadata": {},
   "source": [
    "trainloader_subs = torch.utils.data.DataLoader(train_set, batch_size=10,\n",
    "                                          sampler = sampler1, shuffle=False, num_workers=2)\n",
    "\n",
    "testloader_subs = torch.utils.data.DataLoader(test_set, batch_size=10,\n",
    "                                          sampler = sampler2, shuffle=False, num_workers=2)"
   ]
  },
  {
   "cell_type": "code",
   "execution_count": 32,
   "metadata": {
    "collapsed": false
   },
   "outputs": [],
   "source": [
    "trainloader_subs = mnist_data_lib.subsample_mnist_data(batch_size=10, \n",
    "                                                       data_set=train_set, \n",
    "                                                       propn_sample=0.001)\n",
    "\n",
    "testloader_subs = mnist_data_lib.subsample_mnist_data(batch_size=10, \n",
    "                                                       data_set=test_set, \n",
    "                                                       propn_sample=0.001)"
   ]
  },
  {
   "cell_type": "code",
   "execution_count": 33,
   "metadata": {
    "collapsed": false
   },
   "outputs": [
    {
     "data": {
      "text/plain": [
       "60000"
      ]
     },
     "execution_count": 33,
     "metadata": {},
     "output_type": "execute_result"
    }
   ],
   "source": [
    "len(train_loader.dataset)"
   ]
  },
  {
   "cell_type": "code",
   "execution_count": 34,
   "metadata": {
    "collapsed": false
   },
   "outputs": [
    {
     "name": "stdout",
     "output_type": "stream",
     "text": [
      "setting true class label\n",
      "setting true class label\n",
      "setting true class label\n",
      "setting true class label\n",
      "setting true class label\n",
      "setting true class label\n",
      "setting true class label\n",
      "  * init train recon loss: 4.006862704e+19;\n",
      "  * init test recon loss: 4.121640723e+19;\n",
      "setting true class label\n",
      "setting true class label\n",
      "setting true class label\n",
      "setting true class label\n",
      "setting true class label\n",
      "setting true class label\n",
      "[1] loss: 7.708895925e+18  \t[0.9 seconds]\n",
      "setting true class label\n",
      "setting true class label\n",
      "setting true class label\n",
      "setting true class label\n",
      "setting true class label\n",
      "setting true class label\n",
      "[2] loss: 19.74143982  \t[0.9 seconds]\n",
      "setting true class label\n",
      "setting true class label\n",
      "setting true class label\n",
      "setting true class label\n",
      "setting true class label\n",
      "setting true class label\n",
      "setting true class label\n",
      "  * train recon loss: 5.397624493;\n",
      "  * test recon loss: 5.561275005;\n",
      "setting true class label\n",
      "setting true class label\n",
      "setting true class label\n",
      "setting true class label\n",
      "setting true class label\n",
      "setting true class label\n",
      "[3] loss: 4.859688759  \t[0.9 seconds]\n",
      "setting true class label\n",
      "setting true class label\n",
      "setting true class label\n",
      "setting true class label\n",
      "setting true class label\n",
      "setting true class label\n",
      "[4] loss: 5.030435562  \t[1.2 seconds]\n",
      "setting true class label\n",
      "setting true class label\n",
      "setting true class label\n",
      "setting true class label\n",
      "setting true class label\n",
      "setting true class label\n",
      "setting true class label\n",
      "  * train recon loss: 4.490092278;\n",
      "  * test recon loss: 4.371778965;\n",
      "setting true class label\n",
      "setting true class label\n",
      "setting true class label\n",
      "setting true class label\n",
      "setting true class label\n",
      "setting true class label\n",
      "[5] loss: 4.404260159  \t[0.9 seconds]\n",
      "writing the encoder parameters to ./test_enc_final\n",
      "\n",
      "writing the decoder parameters to ./test_dec_final\n",
      "\n"
     ]
    }
   ],
   "source": [
    "vae.train_module(trainloader_subs, testloader_subs, \n",
    "                 n_epoch = 5, \n",
    "                print_every = 2, \n",
    "                outfile = './test', \n",
    "                set_true_class_label = True)"
   ]
  },
  {
   "cell_type": "code",
   "execution_count": 35,
   "metadata": {
    "collapsed": true
   },
   "outputs": [],
   "source": [
    "# check reloading"
   ]
  },
  {
   "cell_type": "code",
   "execution_count": 36,
   "metadata": {
    "collapsed": true
   },
   "outputs": [],
   "source": [
    "reload_vae = vae = mnist_vae_lib.HandwritingVAE(latent_dim = latent_dim, \n",
    "                                    n_classes = n_classes)"
   ]
  },
  {
   "cell_type": "code",
   "execution_count": 37,
   "metadata": {
    "collapsed": false
   },
   "outputs": [],
   "source": [
    "enc_file = \"./test_enc_final\"\n",
    "dec_file = './test_dec_final'\n",
    "\n",
    "reload_vae.encoder.load_state_dict(torch.load(enc_file,\n",
    "                               map_location=lambda storage, loc: storage))\n",
    "\n",
    "reload_vae.decoder.load_state_dict(torch.load(dec_file,\n",
    "                               map_location=lambda storage, loc: storage))\n"
   ]
  },
  {
   "cell_type": "code",
   "execution_count": 38,
   "metadata": {
    "collapsed": false
   },
   "outputs": [
    {
     "data": {
      "text/plain": [
       "tensor(3.8448)"
      ]
     },
     "execution_count": 38,
     "metadata": {},
     "output_type": "execute_result"
    }
   ],
   "source": [
    "reload_vae.eval_vae(trainloader_subs)"
   ]
  },
  {
   "cell_type": "code",
   "execution_count": null,
   "metadata": {
    "collapsed": true
   },
   "outputs": [],
   "source": []
  }
 ],
 "metadata": {
  "kernelspec": {
   "display_name": "Python (pytorch_04)",
   "language": "python",
   "name": "pytorch_update"
  },
  "language_info": {
   "codemirror_mode": {
    "name": "ipython",
    "version": 3
   },
   "file_extension": ".py",
   "mimetype": "text/x-python",
   "name": "python",
   "nbconvert_exporter": "python",
   "pygments_lexer": "ipython3",
   "version": "3.6.5"
  }
 },
 "nbformat": 4,
 "nbformat_minor": 2
}
