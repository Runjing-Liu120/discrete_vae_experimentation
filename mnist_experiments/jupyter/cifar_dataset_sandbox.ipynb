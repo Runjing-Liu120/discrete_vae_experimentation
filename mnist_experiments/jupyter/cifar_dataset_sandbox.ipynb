{
 "cells": [
  {
   "cell_type": "code",
   "execution_count": 1,
   "metadata": {
    "collapsed": false
   },
   "outputs": [],
   "source": [
    "import numpy as np\n",
    "\n",
    "import matplotlib.pyplot as plt\n",
    "%matplotlib inline  \n",
    "\n",
    "import torch\n",
    "import torch.nn as nn\n",
    "\n",
    "\n",
    "import torch.optim as optim\n",
    "\n",
    "import sys\n",
    "sys.path.insert(0, '../libraries/')\n",
    "\n",
    "import cifar_data_utils\n",
    "import semisupervised_vae_lib as ss_vae_lib\n",
    "\n",
    "import torchvision\n",
    "import torchvision.datasets as dset\n",
    "import torchvision.transforms as transforms\n",
    "import torch.nn.functional as F\n"
   ]
  },
  {
   "cell_type": "code",
   "execution_count": 2,
   "metadata": {
    "collapsed": true
   },
   "outputs": [],
   "source": [
    "seed = 13423\n",
    "np.random.seed(seed)\n",
    "_ = torch.manual_seed(seed)\n"
   ]
  },
  {
   "cell_type": "markdown",
   "metadata": {},
   "source": [
    "# Load data"
   ]
  },
  {
   "cell_type": "code",
   "execution_count": 3,
   "metadata": {
    "collapsed": false
   },
   "outputs": [
    {
     "name": "stdout",
     "output_type": "stream",
     "text": [
      "| Preparing CIFAR dataset...\n",
      "Files already downloaded and verified\n",
      "| Preparing CIFAR dataset...\n",
      "Files already downloaded and verified\n",
      "| Preparing CIFAR dataset...\n",
      "Files already downloaded and verified\n"
     ]
    }
   ],
   "source": [
    "train_set_labeled, train_set_unlabeled, test_set = \\\n",
    "    cifar_data_utils.load_semisupervised_cifar_dataset(cifar100=False, \n",
    "                                                       data_dir='../cifar10_data', \n",
    "                                                       propn_sample=1.0, \n",
    "                                                      propn_labeled = 0.1)"
   ]
  },
  {
   "cell_type": "code",
   "execution_count": 4,
   "metadata": {
    "collapsed": false
   },
   "outputs": [
    {
     "name": "stdout",
     "output_type": "stream",
     "text": [
      "num_train_labeled:  5000\n",
      "num_train_unlabled:  45000\n",
      "num_test:  10000\n"
     ]
    }
   ],
   "source": [
    "print('num_train_labeled: ', train_set_labeled.num_images)\n",
    "print('num_train_unlabled: ', train_set_unlabeled.num_images)\n",
    "\n",
    "print('num_test: ', test_set.num_images)"
   ]
  },
  {
   "cell_type": "code",
   "execution_count": 5,
   "metadata": {
    "collapsed": true
   },
   "outputs": [],
   "source": [
    "def unpickle(file):\n",
    "    import pickle\n",
    "    with open(file, 'rb') as fo:\n",
    "        dict = pickle.load(fo, encoding='bytes')\n",
    "    return dict\n",
    "\n",
    "labels_legend_all = unpickle('../cifar100_data/cifar-100-python/meta')\n",
    "fine_labels_legend = labels_legend_all[b'fine_label_names']"
   ]
  },
  {
   "cell_type": "code",
   "execution_count": 16,
   "metadata": {
    "collapsed": false
   },
   "outputs": [],
   "source": [
    "def plot_cifar_image(image, label):\n",
    "    image_unscaled = image * cifar_data_utils.CIFAR10_STD_TENSOR + cifar_data_utils.CIFAR10_MEAN_TENSOR\n",
    "    \n",
    "    print(torch.min(image_unscaled))\n",
    "    img = np.dstack((image_unscaled[0, :, :],\n",
    "                            image_unscaled[1, :, :],\n",
    "                            image_unscaled[2, :, :]))\n",
    "\n",
    "    plt.imshow(img)\n",
    "    plt.title(fine_labels_legend[label])"
   ]
  },
  {
   "cell_type": "code",
   "execution_count": 17,
   "metadata": {
    "collapsed": false,
    "scrolled": true
   },
   "outputs": [
    {
     "name": "stderr",
     "output_type": "stream",
     "text": [
      "Clipping input data to the valid range for imshow with RGB data ([0..1] for floats or [0..255] for integers).\n",
      "Clipping input data to the valid range for imshow with RGB data ([0..1] for floats or [0..255] for integers).\n",
      "Clipping input data to the valid range for imshow with RGB data ([0..1] for floats or [0..255] for integers).\n",
      "Clipping input data to the valid range for imshow with RGB data ([0..1] for floats or [0..255] for integers).\n",
      "Clipping input data to the valid range for imshow with RGB data ([0..1] for floats or [0..255] for integers).\n",
      "Clipping input data to the valid range for imshow with RGB data ([0..1] for floats or [0..255] for integers).\n"
     ]
    },
    {
     "name": "stdout",
     "output_type": "stream",
     "text": [
      "tensor(1.00000e-08 *\n",
      "       -2.9802)\n",
      "tensor(1.00000e-08 *\n",
      "       -2.9802)\n",
      "tensor(1.00000e-08 *\n",
      "       -2.9802)\n",
      "tensor(1.00000e-08 *\n",
      "       -2.9802)\n",
      "tensor(1.00000e-08 *\n",
      "       -2.9802)\n",
      "tensor(1.00000e-08 *\n",
      "       -2.9802)\n",
      "tensor(1.00000e-08 *\n",
      "       -2.9802)\n"
     ]
    },
    {
     "name": "stderr",
     "output_type": "stream",
     "text": [
      "Clipping input data to the valid range for imshow with RGB data ([0..1] for floats or [0..255] for integers).\n",
      "Clipping input data to the valid range for imshow with RGB data ([0..1] for floats or [0..255] for integers).\n",
      "Clipping input data to the valid range for imshow with RGB data ([0..1] for floats or [0..255] for integers).\n",
      "Clipping input data to the valid range for imshow with RGB data ([0..1] for floats or [0..255] for integers).\n"
     ]
    },
    {
     "name": "stdout",
     "output_type": "stream",
     "text": [
      "tensor(1.00000e-08 *\n",
      "       -2.9802)\n",
      "tensor(1.00000e-08 *\n",
      "       -2.9802)\n",
      "tensor(1.00000e-08 *\n",
      "       -2.9802)\n"
     ]
    },
    {
     "data": {
      "image/png": "[encoded data removed]",
      "text/plain": [
       "<Figure size 432x288 with 1 Axes>"
      ]
     },
     "metadata": {},
     "output_type": "display_data"
    },
    {
     "data": {
      "image/png": "[encoded data removed]",
      "text/plain": [
       "<Figure size 432x288 with 1 Axes>"
      ]
     },
     "metadata": {},
     "output_type": "display_data"
    },
    {
     "data": {
      "image/png": "[encoded data removed]",
      "text/plain": [
       "<Figure size 432x288 with 1 Axes>"
      ]
     },
     "metadata": {},
     "output_type": "display_data"
    },
    {
     "data": {
      "image/png": "[encoded data removed]",
      "text/plain": [
       "<Figure size 432x288 with 1 Axes>"
      ]
     },
     "metadata": {},
     "output_type": "display_data"
    },
    {
     "data": {
      "image/png": "[encoded data removed]",
      "text/plain": [
       "<Figure size 432x288 with 1 Axes>"
      ]
     },
     "metadata": {},
     "output_type": "display_data"
    },
    {
     "data": {
      "image/png": "[encoded data removed]",
      "text/plain": [
       "<Figure size 432x288 with 1 Axes>"
      ]
     },
     "metadata": {},
     "output_type": "display_data"
    },
    {
     "data": {
      "image/png": "[encoded data removed]",
      "text/plain": [
       "<Figure size 432x288 with 1 Axes>"
      ]
     },
     "metadata": {},
     "output_type": "display_data"
    },
    {
     "data": {
      "image/png": "[encoded data removed]",
      "text/plain": [
       "<Figure size 432x288 with 1 Axes>"
      ]
     },
     "metadata": {},
     "output_type": "display_data"
    },
    {
     "data": {
      "image/png": "[encoded data removed]",
      "text/plain": [
       "<Figure size 432x288 with 1 Axes>"
      ]
     },
     "metadata": {},
     "output_type": "display_data"
    },
    {
     "data": {
      "image/png": "[encoded data removed]",
      "text/plain": [
       "<Figure size 432x288 with 1 Axes>"
      ]
     },
     "metadata": {},
     "output_type": "display_data"
    }
   ],
   "source": [
    "for i in range(10): \n",
    "    # train_set_labeled[i]['image']\n",
    "    plt.figure()\n",
    "    plot_cifar_image(train_set_labeled[i]['image'].squeeze(), train_set_labeled[i]['label'])"
   ]
  },
  {
   "cell_type": "code",
   "execution_count": 18,
   "metadata": {
    "collapsed": false
   },
   "outputs": [],
   "source": [
    "slen = train_set_labeled[0]['image'].shape[0]"
   ]
  },
  {
   "cell_type": "markdown",
   "metadata": {},
   "source": [
    "# Get data loaders"
   ]
  },
  {
   "cell_type": "code",
   "execution_count": 19,
   "metadata": {
    "code_folding": [],
    "collapsed": false
   },
   "outputs": [],
   "source": [
    "batchsize = 12\n",
    "\n",
    "train_loader_labeled = torch.utils.data.DataLoader(\n",
    "                 dataset=train_set_labeled,\n",
    "                 batch_size=train_set_labeled.num_images,\n",
    "                 shuffle=True)\n",
    "\n",
    "train_loader_unlabeled = torch.utils.data.DataLoader(\n",
    "                 dataset=train_set_unlabeled,\n",
    "                 batch_size=batchsize,\n",
    "                 shuffle=True)\n",
    "\n",
    "test_loader = torch.utils.data.DataLoader(\n",
    "                dataset=test_set,\n",
    "                batch_size=batchsize,\n",
    "                shuffle=False)\n"
   ]
  },
  {
   "cell_type": "code",
   "execution_count": 20,
   "metadata": {
    "collapsed": false
   },
   "outputs": [],
   "source": [
    "for batch_idx, d in enumerate(train_loader_unlabeled):\n",
    "    data_unlabeled = d\n",
    "    break\n",
    "    \n",
    "for batch_idx, d in enumerate(train_loader_labeled):\n",
    "    data_labeled = d\n",
    "    break\n",
    "    \n",
    "for batch_idx, d in enumerate(test_loader):\n",
    "    data_test = d\n",
    "    break"
   ]
  },
  {
   "cell_type": "code",
   "execution_count": 21,
   "metadata": {
    "collapsed": false
   },
   "outputs": [
    {
     "data": {
      "text/plain": [
       "torch.Size([12, 3, 32, 32])"
      ]
     },
     "execution_count": 21,
     "metadata": {},
     "output_type": "execute_result"
    }
   ],
   "source": [
    "data_unlabeled['image'].shape"
   ]
  },
  {
   "cell_type": "code",
   "execution_count": 22,
   "metadata": {
    "collapsed": false
   },
   "outputs": [
    {
     "data": {
      "text/plain": [
       "torch.Size([5000, 3, 32, 32])"
      ]
     },
     "execution_count": 22,
     "metadata": {},
     "output_type": "execute_result"
    }
   ],
   "source": [
    "data_labeled['image'].shape"
   ]
  },
  {
   "cell_type": "code",
   "execution_count": 23,
   "metadata": {
    "collapsed": false
   },
   "outputs": [
    {
     "data": {
      "text/plain": [
       "torch.Size([12, 3, 32, 32])"
      ]
     },
     "execution_count": 23,
     "metadata": {},
     "output_type": "execute_result"
    }
   ],
   "source": [
    "data_test['image'].shape"
   ]
  },
  {
   "cell_type": "code",
   "execution_count": 24,
   "metadata": {
    "collapsed": true
   },
   "outputs": [],
   "source": [
    "# check distribution "
   ]
  },
  {
   "cell_type": "code",
   "execution_count": 25,
   "metadata": {
    "collapsed": false
   },
   "outputs": [],
   "source": [
    "unique, counts = np.unique(data_labeled['label'].numpy(), return_counts=True)"
   ]
  },
  {
   "cell_type": "code",
   "execution_count": 29,
   "metadata": {
    "collapsed": false
   },
   "outputs": [
    {
     "data": {
      "text/plain": [
       "array([493, 530, 493, 527, 510, 485, 451, 472, 536, 503])"
      ]
     },
     "execution_count": 29,
     "metadata": {},
     "output_type": "execute_result"
    }
   ],
   "source": [
    "counts"
   ]
  },
  {
   "cell_type": "code",
   "execution_count": 30,
   "metadata": {
    "collapsed": false
   },
   "outputs": [
    {
     "name": "stdout",
     "output_type": "stream",
     "text": [
      "451\n"
     ]
    }
   ],
   "source": [
    "print(np.min(counts))"
   ]
  },
  {
   "cell_type": "markdown",
   "metadata": {},
   "source": [
    "# Define VAE"
   ]
  },
  {
   "cell_type": "code",
   "execution_count": 18,
   "metadata": {
    "collapsed": true
   },
   "outputs": [],
   "source": [
    "latent_dim = 6\n",
    "n_classes = 10"
   ]
  },
  {
   "cell_type": "code",
   "execution_count": 19,
   "metadata": {
    "collapsed": false
   },
   "outputs": [
    {
     "ename": "NameError",
     "evalue": "name 'mnist_vae_lib' is not defined",
     "output_type": "error",
     "traceback": [
      "\u001b[0;31m---------------------------------------------------------------------------\u001b[0m",
      "\u001b[0;31mNameError\u001b[0m                                 Traceback (most recent call last)",
      "\u001b[0;32m<ipython-input-19-8f020308708a>\u001b[0m in \u001b[0;36m<module>\u001b[0;34m()\u001b[0m\n\u001b[1;32m      2\u001b[0m \u001b[0;31m#                                     n_classes = n_classes)\u001b[0m\u001b[0;34m\u001b[0m\u001b[0;34m\u001b[0m\u001b[0m\n\u001b[1;32m      3\u001b[0m \u001b[0;34m\u001b[0m\u001b[0m\n\u001b[0;32m----> 4\u001b[0;31m vae = mnist_vae_lib.get_mnist_vae(latent_dim = latent_dim, \n\u001b[0m\u001b[1;32m      5\u001b[0m                     \u001b[0mn_classes\u001b[0m \u001b[0;34m=\u001b[0m \u001b[0mn_classes\u001b[0m\u001b[0;34m,\u001b[0m\u001b[0;34m\u001b[0m\u001b[0m\n\u001b[1;32m      6\u001b[0m                    slen = slen)\n",
      "\u001b[0;31mNameError\u001b[0m: name 'mnist_vae_lib' is not defined"
     ]
    }
   ],
   "source": [
    "# vae = mnist_vae_lib.HandwritingVAE(latent_dim = latent_dim, \n",
    "#                                     n_classes = n_classes)\n",
    "\n",
    "vae = mnist_vae_lib.get_mnist_vae(latent_dim = latent_dim, \n",
    "                    n_classes = n_classes, \n",
    "                   slen = slen)"
   ]
  },
  {
   "cell_type": "code",
   "execution_count": null,
   "metadata": {
    "collapsed": false
   },
   "outputs": [],
   "source": [
    "print(vae.parameters)"
   ]
  },
  {
   "cell_type": "code",
   "execution_count": null,
   "metadata": {
    "collapsed": false,
    "scrolled": true
   },
   "outputs": [],
   "source": [
    "28 * 28"
   ]
  },
  {
   "cell_type": "code",
   "execution_count": null,
   "metadata": {
    "code_folding": [],
    "collapsed": true
   },
   "outputs": [],
   "source": [
    "### Check things run"
   ]
  },
  {
   "cell_type": "code",
   "execution_count": null,
   "metadata": {
    "collapsed": false
   },
   "outputs": [],
   "source": [
    "data_unlabeled['image'].shape"
   ]
  },
  {
   "cell_type": "code",
   "execution_count": null,
   "metadata": {
    "collapsed": false
   },
   "outputs": [],
   "source": [
    "# check dimensions of encoder output\n",
    "\n",
    "log_class_weights = vae.classifier(data_unlabeled['image'])\n",
    "assert log_class_weights.shape[0] == batchsize\n",
    "assert log_class_weights.shape[1] == n_classes \n",
    "\n",
    "latent_means, latent_std = \\\n",
    "    vae.encoder(data_unlabeled['image'], log_class_weights)\n",
    "    \n",
    "assert latent_means.shape[0] == batchsize\n",
    "assert latent_means.shape[1] == latent_dim\n",
    "\n",
    "assert latent_std.shape[0] == batchsize\n",
    "assert latent_std.shape[1] == latent_dim\n"
   ]
  },
  {
   "cell_type": "code",
   "execution_count": null,
   "metadata": {
    "collapsed": false
   },
   "outputs": [],
   "source": [
    "cat_rv = torch.distributions.Categorical(probs = torch.exp(log_class_weights))\n",
    "z_ind = cat_rv.sample()"
   ]
  },
  {
   "cell_type": "code",
   "execution_count": null,
   "metadata": {
    "collapsed": false
   },
   "outputs": [],
   "source": [
    "z_ind"
   ]
  },
  {
   "cell_type": "code",
   "execution_count": null,
   "metadata": {
    "collapsed": false
   },
   "outputs": [],
   "source": [
    "# check one hot encoding \n",
    "\n",
    "one_hot_z = mnist_utils.get_one_hot_encoding_from_int(z_ind, n_classes)\n",
    "\n",
    "for n in range(batchsize): \n",
    "    foo = one_hot_z[n, :]\n",
    "    \n",
    "    assert foo[z_ind[n]] == 1.\n",
    "    assert sum(foo) == 1."
   ]
  },
  {
   "cell_type": "code",
   "execution_count": null,
   "metadata": {
    "collapsed": false
   },
   "outputs": [],
   "source": [
    "# check decoder output size \n",
    "image_mean = vae.decoder(latent_means, one_hot_z)\n",
    "assert image_mean.shape[0] == batchsize\n",
    "assert image_mean.shape[1] == slen\n",
    "assert image_mean.shape[1] == slen"
   ]
  },
  {
   "cell_type": "code",
   "execution_count": null,
   "metadata": {
    "collapsed": true
   },
   "outputs": [],
   "source": [
    "# check loss goes through"
   ]
  },
  {
   "cell_type": "code",
   "execution_count": null,
   "metadata": {
    "collapsed": false
   },
   "outputs": [],
   "source": [
    "vae.get_conditional_loss(data_labeled['image'], data_labeled['label'])"
   ]
  },
  {
   "cell_type": "code",
   "execution_count": null,
   "metadata": {
    "collapsed": false,
    "scrolled": true
   },
   "outputs": [],
   "source": [
    "vae.get_semisupervised_loss(data_unlabeled['image'],\n",
    "                            data_labeled['image'], data_labeled['label'], 1000,\n",
    "                            use_baseline = True,\n",
    "                            alpha = 1.0, topk = 0)"
   ]
  },
  {
   "cell_type": "markdown",
   "metadata": {},
   "source": [
    "# Check gradient works "
   ]
  },
  {
   "cell_type": "code",
   "execution_count": null,
   "metadata": {
    "collapsed": true
   },
   "outputs": [],
   "source": [
    "def get_vae_params(vae): \n",
    "    vae_params = np.array([])\n",
    "    for f in vae.parameters(): \n",
    "        vae_params = np.append(vae_params, f.detach().numpy().flatten())\n",
    "    return vae_params\n"
   ]
  },
  {
   "cell_type": "code",
   "execution_count": null,
   "metadata": {
    "collapsed": false
   },
   "outputs": [],
   "source": [
    "vae_params0 = get_vae_params(vae)"
   ]
  },
  {
   "cell_type": "code",
   "execution_count": null,
   "metadata": {
    "collapsed": false
   },
   "outputs": [],
   "source": [
    "assert np.any(np.isnan(vae_params0)) == False"
   ]
  },
  {
   "cell_type": "code",
   "execution_count": null,
   "metadata": {
    "collapsed": false
   },
   "outputs": [],
   "source": [
    "optimizer = optim.Adam(vae.parameters(), lr=0.01)\n",
    "optimizer.zero_grad()"
   ]
  },
  {
   "cell_type": "code",
   "execution_count": null,
   "metadata": {
    "collapsed": false
   },
   "outputs": [],
   "source": [
    "loss, map_loss1 = vae.get_semisupervised_loss(data_unlabeled['image'],\n",
    "                            data_labeled['image'], data_labeled['label'], 100, \n",
    "                            use_baseline = True,\n",
    "                            alpha = 1.0, topk = 0)\n",
    "print(map_loss1)"
   ]
  },
  {
   "cell_type": "code",
   "execution_count": null,
   "metadata": {
    "collapsed": false
   },
   "outputs": [],
   "source": [
    "loss.backward()\n",
    "optimizer.step()"
   ]
  },
  {
   "cell_type": "code",
   "execution_count": null,
   "metadata": {
    "collapsed": true
   },
   "outputs": [],
   "source": [
    "vae_params1 = get_vae_params(vae)"
   ]
  },
  {
   "cell_type": "code",
   "execution_count": null,
   "metadata": {
    "collapsed": false
   },
   "outputs": [],
   "source": [
    "assert np.any(np.isnan(vae_params1)) == False"
   ]
  },
  {
   "cell_type": "code",
   "execution_count": null,
   "metadata": {
    "collapsed": false
   },
   "outputs": [],
   "source": [
    "plt.hist(vae_params1 - vae_params0, bins = 30); "
   ]
  },
  {
   "cell_type": "code",
   "execution_count": null,
   "metadata": {
    "collapsed": false,
    "scrolled": true
   },
   "outputs": [],
   "source": [
    "loss, map_loss2 = vae.get_semisupervised_loss(data_unlabeled['image'],\n",
    "                            data_labeled['image'], data_labeled['label'], 100,\n",
    "                            use_baseline = True,\n",
    "                            alpha = 1.0, topk = 0)\n"
   ]
  },
  {
   "cell_type": "code",
   "execution_count": null,
   "metadata": {
    "collapsed": false
   },
   "outputs": [],
   "source": [
    "map_loss2"
   ]
  },
  {
   "cell_type": "code",
   "execution_count": null,
   "metadata": {
    "collapsed": false
   },
   "outputs": [],
   "source": [
    "assert np.isfinite(loss.detach().numpy())"
   ]
  },
  {
   "cell_type": "code",
   "execution_count": null,
   "metadata": {
    "collapsed": true
   },
   "outputs": [],
   "source": []
  },
  {
   "cell_type": "markdown",
   "metadata": {},
   "source": [
    "# Test training"
   ]
  },
  {
   "cell_type": "code",
   "execution_count": null,
   "metadata": {
    "collapsed": true
   },
   "outputs": [],
   "source": [
    "from torch.utils.data.sampler import Sampler"
   ]
  },
  {
   "cell_type": "code",
   "execution_count": null,
   "metadata": {
    "collapsed": false
   },
   "outputs": [],
   "source": [
    "ss_vae_lib.train_semisupervised_model(vae, train_loader_unlabeled, \n",
    "                                        data_labeled['image'], \n",
    "                                        data_labeled['label'], \n",
    "                                        test_loader, \n",
    "                                        n_epoch = 5, print_every = 2, outfile = './test', \n",
    "                                        use_true_labels = False)"
   ]
  },
  {
   "cell_type": "code",
   "execution_count": null,
   "metadata": {
    "collapsed": false
   },
   "outputs": [],
   "source": [
    "torch.exp(vae.classifier(data_unlabeled['image']).detach())"
   ]
  },
  {
   "cell_type": "code",
   "execution_count": null,
   "metadata": {
    "collapsed": false,
    "scrolled": true
   },
   "outputs": [],
   "source": [
    "plt.matshow(vae.classifier(data_unlabeled['image']).detach())"
   ]
  },
  {
   "cell_type": "code",
   "execution_count": null,
   "metadata": {
    "collapsed": true
   },
   "outputs": [],
   "source": [
    "# check reloading"
   ]
  },
  {
   "cell_type": "code",
   "execution_count": null,
   "metadata": {
    "collapsed": false
   },
   "outputs": [],
   "source": [
    "reload_vae = mnist_vae_lib.get_mnist_vae(latent_dim = latent_dim, \n",
    "                    n_classes = n_classes, \n",
    "                   slen = slen)\n",
    "\n",
    "\n",
    "# mnist_vae_lib.HandwritingVAE(latent_dim = latent_dim, \n",
    "#                                     n_classes = n_classes)"
   ]
  },
  {
   "cell_type": "code",
   "execution_count": null,
   "metadata": {
    "collapsed": false
   },
   "outputs": [],
   "source": [
    "enc_file = \"./test_enc_final\"\n",
    "dec_file = './test_dec_final'\n",
    "\n",
    "reload_vae.encoder.load_state_dict(torch.load(enc_file,\n",
    "                               map_location=lambda storage, loc: storage))\n",
    "\n",
    "reload_vae.decoder.load_state_dict(torch.load(dec_file,\n",
    "                               map_location=lambda storage, loc: storage))\n"
   ]
  },
  {
   "cell_type": "code",
   "execution_count": null,
   "metadata": {
    "collapsed": false
   },
   "outputs": [],
   "source": [
    "reload_vae.eval_vae(train_loader_unlabeled, data_labeled['image'], \n",
    "                                        data_labeled['label'])"
   ]
  },
  {
   "cell_type": "code",
   "execution_count": null,
   "metadata": {
    "collapsed": true
   },
   "outputs": [],
   "source": []
  },
  {
   "cell_type": "code",
   "execution_count": null,
   "metadata": {
    "collapsed": false
   },
   "outputs": [],
   "source": [
    "recon_mean, _ =  ss_vae_lib.get_reconstructions(vae, data_unlabeled['image'])"
   ]
  },
  {
   "cell_type": "code",
   "execution_count": null,
   "metadata": {
    "collapsed": true
   },
   "outputs": [],
   "source": [
    "plt.matshow(recon_mean[3, :, :].detach())"
   ]
  },
  {
   "cell_type": "code",
   "execution_count": null,
   "metadata": {
    "collapsed": true
   },
   "outputs": [],
   "source": []
  },
  {
   "cell_type": "code",
   "execution_count": null,
   "metadata": {
    "collapsed": true
   },
   "outputs": [],
   "source": []
  },
  {
   "cell_type": "code",
   "execution_count": null,
   "metadata": {
    "collapsed": true
   },
   "outputs": [],
   "source": []
  },
  {
   "cell_type": "code",
   "execution_count": null,
   "metadata": {
    "collapsed": true
   },
   "outputs": [],
   "source": []
  }
 ],
 "metadata": {
  "kernelspec": {
   "display_name": "Python (pytorch_04)",
   "language": "python",
   "name": "pytorch_update"
  },
  "language_info": {
   "codemirror_mode": {
    "name": "ipython",
    "version": 3
   },
   "file_extension": ".py",
   "mimetype": "text/x-python",
   "name": "python",
   "nbconvert_exporter": "python",
   "pygments_lexer": "ipython3",
   "version": "3.6.5"
  }
 },
 "nbformat": 4,
 "nbformat_minor": 2
}
